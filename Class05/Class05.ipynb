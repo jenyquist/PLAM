{
 "cells": [
  {
   "cell_type": "markdown",
   "metadata": {},
   "source": [
    "# Class05\n",
    "## Learning Objectives\n",
    "* [Understanding functions](#Understanding) \n",
    "* [Creating Functions, passing parameters](#Creating)\n",
    "* [Markdown: adding links and images to your notebook](#Markdown)\n",
    "* [Martian Challenge](#Challenge)\n",
    "\n",
    "P.S I've added a new Markdown feature here -- internal links to other cells in the notebook -- to create a table of contents.  If you're curious, see if you can figure out how this works. [Here is a reference.](http://sebastianraschka.com/Articles/2014_ipython_internal_links.html)"
   ]
  },
  {
   "cell_type": "markdown",
   "metadata": {},
   "source": [
    "<a id='Understanding'></a>\n",
    "## Understanding Functions\n",
    "You have already used a number of functions in the code you have written. We just haven't talked about it. For example:"
   ]
  },
  {
   "cell_type": "code",
   "execution_count": 1,
   "metadata": {
    "collapsed": false
   },
   "outputs": [
    {
     "name": "stdout",
     "output_type": "stream",
     "text": [
      "17\n"
     ]
    }
   ],
   "source": [
    "a = 'A String Variable'\n",
    "b = len(a)\n",
    "print(b)"
   ]
  },
  {
   "cell_type": "markdown",
   "metadata": {},
   "source": [
    "We just used two functions.  The first, 'len()', takes in a string as an input parameter and returns the number of characters in the string. We also used the print() function, which can take many inputs, and prints them to standard output, which in a Jupyter notebook is just the next cell.\n",
    "\n",
    "So a function takes inputs and does something with them. Sometimes functions return one or more outputs, sometimes they just do their thing and return nothing. Why write function? In a word -- reuseability. Once a function has been defined you can use it again and again without having to write the code over and over. The functions you write become the building blocks from which you can assemble more complex programs.\n",
    "\n",
    "But before we discuss how to write your own function, let's explore some more functions that are baked into Python. Afterall, there is no need to reinvent the wheel. Why write your own function if there is one already available written by the pros?"
   ]
  },
  {
   "cell_type": "markdown",
   "metadata": {},
   "source": [
    "### Two flavors: functions and methods\n",
    "Functions come in two flavors: your ordinary vanilla function, and methods, which are functions that are attached to objects.\n",
    "\n",
    "### Ordinary functions\n",
    "The len() and print() functions used above are ordinary functions. You call them by passing input parameters inside the parentheses and assigning the output of the function to a variable.  Let's look at a couple more examples."
   ]
  },
  {
   "cell_type": "code",
   "execution_count": 1,
   "metadata": {
    "collapsed": false
   },
   "outputs": [
    {
     "name": "stdout",
     "output_type": "stream",
     "text": [
      "56.6\n"
     ]
    }
   ],
   "source": [
    "# The sum functions adds numbers in a list\n",
    "numbers = [1, 34, 2.5, 2.1, 17]\n",
    "total = sum(numbers)\n",
    "print(total)"
   ]
  },
  {
   "cell_type": "code",
   "execution_count": 2,
   "metadata": {
    "collapsed": false
   },
   "outputs": [
    {
     "name": "stdout",
     "output_type": "stream",
     "text": [
      "56.6\n"
     ]
    }
   ],
   "source": [
    "# Writing your own code that does the same thing\n",
    "total = 0\n",
    "for number in numbers:\n",
    "    total += number\n",
    "print(total)"
   ]
  },
  {
   "cell_type": "markdown",
   "metadata": {},
   "source": [
    "It is easier to use the sum() function than to write the loop every time you want to add up the elements in list.\n",
    "\n",
    "Here are some more examples:"
   ]
  },
  {
   "cell_type": "code",
   "execution_count": 11,
   "metadata": {
    "collapsed": false
   },
   "outputs": [
    {
     "name": "stdout",
     "output_type": "stream",
     "text": [
      "349.0 <class 'float'>\n",
      "349.0 <class 'str'>\n",
      "349 <class 'int'>\n"
     ]
    }
   ],
   "source": [
    "a = abs(-349.0) # Compute the absolute value\n",
    "b = str(a)      # Convert a number to a string\n",
    "c = round(a)    # Round a floating point number to the nearest integer\n",
    "print(a, type(a))\n",
    "print(b, type(b))\n",
    "print(c, type(c))"
   ]
  },
  {
   "cell_type": "markdown",
   "metadata": {},
   "source": [
    "Remember, there are many, many more functions available in modules. We will discuss modules in detail in the next class."
   ]
  },
  {
   "cell_type": "markdown",
   "metadata": {},
   "source": [
    "### Methods\n",
    "Methods are just like functions, but the are attached to objects. Okay, wise guy, so what's an object? Pretty much everything is Python is an object: lists, tuples, strings, even integers. A particular number or string is a particular instance of a class of things. 14 is a number that is an instance of an integer. \"Hello\" is an instance of a string. Every instance inherits the methods that are build into the class of things they come from.\n",
    "\n",
    "This is easy to understand with examples. So let's define a string and see what methods are available."
   ]
  },
  {
   "cell_type": "code",
   "execution_count": 14,
   "metadata": {
    "collapsed": false
   },
   "outputs": [
    {
     "name": "stdout",
     "output_type": "stream",
     "text": [
      "['__add__', '__class__', '__contains__', '__delattr__', '__dir__', '__doc__', '__eq__', '__format__', '__ge__', '__getattribute__', '__getitem__', '__getnewargs__', '__gt__', '__hash__', '__init__', '__iter__', '__le__', '__len__', '__lt__', '__mod__', '__mul__', '__ne__', '__new__', '__reduce__', '__reduce_ex__', '__repr__', '__rmod__', '__rmul__', '__setattr__', '__sizeof__', '__str__', '__subclasshook__', 'capitalize', 'casefold', 'center', 'count', 'encode', 'endswith', 'expandtabs', 'find', 'format', 'format_map', 'index', 'isalnum', 'isalpha', 'isdecimal', 'isdigit', 'isidentifier', 'islower', 'isnumeric', 'isprintable', 'isspace', 'istitle', 'isupper', 'join', 'ljust', 'lower', 'lstrip', 'maketrans', 'partition', 'replace', 'rfind', 'rindex', 'rjust', 'rpartition', 'rsplit', 'rstrip', 'split', 'splitlines', 'startswith', 'strip', 'swapcase', 'title', 'translate', 'upper', 'zfill']\n"
     ]
    }
   ],
   "source": [
    "a = 'Hello'\n",
    "print(dir(a))"
   ]
  },
  {
   "cell_type": "markdown",
   "metadata": {},
   "source": [
    "All of the methods listed about are functions inherited by every string you create from the general string class. Methods are accessed using the dot operator. (Pay no attention to the methods surrounded by double underscores. They are hidden methods used interally by Python and only rarely will you have any occasion to call any of the directly.)"
   ]
  },
  {
   "cell_type": "code",
   "execution_count": 36,
   "metadata": {
    "collapsed": false
   },
   "outputs": [
    {
     "name": "stdout",
     "output_type": "stream",
     "text": [
      "CALVIN CALLED SUZY A BOOGERBRAIN\n",
      "2\n",
      "['Calvin', 'called', 'Suzy', 'a', 'Boogerbrain']\n"
     ]
    }
   ],
   "source": [
    "a = 'Calvin called Suzy a Boogerbrain'\n",
    "print(a.upper())       #Method to convert the string to uppercase\n",
    "print(a.count('in'))   #Method to count the number times a substring appears in a string\n",
    "print(a.split())       #Method to split a string in a list of words"
   ]
  },
  {
   "cell_type": "markdown",
   "metadata": {},
   "source": [
    "If you don't know what a method does you can type a ? afterward."
   ]
  },
  {
   "cell_type": "code",
   "execution_count": 28,
   "metadata": {
    "collapsed": false
   },
   "outputs": [],
   "source": [
    "# Exectute this cell and documentation on the method will appear in a pop-up window.\n",
    "# Just click the x to close the help window.\n",
    "a.count?"
   ]
  },
  {
   "cell_type": "markdown",
   "metadata": {},
   "source": [
    "**Student Challenge:** Print the methods built into a list"
   ]
  },
  {
   "cell_type": "code",
   "execution_count": null,
   "metadata": {
    "collapsed": false
   },
   "outputs": [],
   "source": []
  },
  {
   "cell_type": "markdown",
   "metadata": {},
   "source": [
    "### Methods vs. Functions revisited\n",
    "Each method is function that is automatically applied to the instance. Thus \"Hello\".upper() applies a function to the sting \"Hello\" to convert it to uppercase. Try it below."
   ]
  },
  {
   "cell_type": "markdown",
   "metadata": {},
   "source": [
    "<a id='Creating'></a>\n",
    "## Creating Functions, passing parameters\n",
    "Let's see how we can create our own function. You can define your own functions using the keyword def.\n",
    "\n",
    "Rule of thumb: write a function when you need to do something more than one time.\n",
    "\n",
    "A function takes arguments. Order matters. Keyword arguments can be given default values"
   ]
  },
  {
   "cell_type": "code",
   "execution_count": 30,
   "metadata": {
    "collapsed": false
   },
   "outputs": [
    {
     "name": "stdout",
     "output_type": "stream",
     "text": [
      "4 9\n"
     ]
    }
   ],
   "source": [
    "# A function that adds 5:\n",
    "def addFive(x):\n",
    "    # x is the argument\n",
    "    return x + 5\n",
    "\n",
    "# Calling the function\n",
    "v1 = 4\n",
    "v2 = addFive(v1)\n",
    "print(v1, v2)"
   ]
  },
  {
   "cell_type": "markdown",
   "metadata": {},
   "source": [
    "The function addFive() takes one input parameter, add five to it, and returns the result. Notice the colon after the function name and that all of the statements within the function are indented, just like in a loop. Python knows that the function code ends when the indent stops. If you want the function to return a value the definition must end with a return statement.\n",
    "\n",
    "Notice that when the function was called we didn't pass it a variable named x. Why not? The function doesn't care what you called the parameter to pass it. Inside the function a variable x will be created and set equal to the value of whatever you passed to it."
   ]
  },
  {
   "cell_type": "code",
   "execution_count": 31,
   "metadata": {
    "collapsed": false
   },
   "outputs": [
    {
     "data": {
      "text/plain": [
       "15"
      ]
     },
     "execution_count": 31,
     "metadata": {},
     "output_type": "execute_result"
    }
   ],
   "source": [
    "addFive(10)"
   ]
  },
  {
   "cell_type": "markdown",
   "metadata": {},
   "source": [
    "### More than one input parameter\n",
    "Suppose we don't always want to add 5, maybe we want to decide what to add to the number when we call the function. We can add a parameter to the function call."
   ]
  },
  {
   "cell_type": "code",
   "execution_count": 38,
   "metadata": {
    "collapsed": false
   },
   "outputs": [
    {
     "data": {
      "text/plain": [
       "31"
      ]
     },
     "execution_count": 38,
     "metadata": {},
     "output_type": "execute_result"
    }
   ],
   "source": [
    "# A function that adds n\n",
    "def addN(x, n):\n",
    "    return x + n\n",
    "\n",
    "addN(10, 21)"
   ]
  },
  {
   "cell_type": "markdown",
   "metadata": {},
   "source": [
    "### Default parameter values\n",
    "What if we want to add 5 unless a second number is specified? In other words, is you just pass one number we'll add 5 to it, but if you pass two numbers we'll add the second number to the first."
   ]
  },
  {
   "cell_type": "code",
   "execution_count": 35,
   "metadata": {
    "collapsed": false
   },
   "outputs": [
    {
     "name": "stdout",
     "output_type": "stream",
     "text": [
      "9\n",
      "21\n"
     ]
    }
   ],
   "source": [
    "# Using a keyword argument provides a default value for the argument\n",
    "def add(x, n=5):\n",
    "    return x + n\n",
    "\n",
    "print(add(4))\n",
    "print(add(12,9))"
   ]
  },
  {
   "cell_type": "markdown",
   "metadata": {},
   "source": [
    "This time in our function definition we provided a default value for n. When the function is called it will using the default value for the second parameter *unless* a value for the second parameter is given.\n",
    "\n",
    "**Student challenge:** Write a function that accepts a two numbers and returns the sum of the absolute values. If you pass the function the numbers 3 and -4, it should return 7."
   ]
  },
  {
   "cell_type": "code",
   "execution_count": null,
   "metadata": {
    "collapsed": true
   },
   "outputs": [],
   "source": []
  },
  {
   "cell_type": "markdown",
   "metadata": {},
   "source": [
    "### Avoiding meltdown\n",
    "There is a lot more to learn about functions, but that is enough on the topic for today. I don't want any brains to melt.\n",
    "!['Meltdown'](http://s3.amazonaws.com/stripgenerator/strip/98/18/31/00/00/full.png)\n",
    "Let turn to something I think you'll enjoy, a way to spice up your notebook!"
   ]
  },
  {
   "cell_type": "markdown",
   "metadata": {},
   "source": [
    "<a id='Markdown'></a>\n",
    "## Markdown: Adding links and images\n",
    "I deliberately put a cartoon in the last cell to set the stage for this part of the lesson. You know how to create a markdown cell with text, headers, lists and bold or italic emphasis. Here is a quick review."
   ]
  },
  {
   "cell_type": "raw",
   "metadata": {},
   "source": [
    "# First level header\n",
    "## Second level header\n",
    "### Third level header\n",
    "* List item one\n",
    "* List item two\n",
    "* This phrase is in italics* and **this one is in boldface**\n",
    "\n",
    "Copy the text above into the markdown cell below and execute it. (Make sure the cell type is markdown."
   ]
  },
  {
   "cell_type": "markdown",
   "metadata": {
    "collapsed": true
   },
   "source": []
  },
  {
   "cell_type": "markdown",
   "metadata": {},
   "source": [
    "## Hyperlinks\n",
    "Markdown is more general than Jupyter Notebooks. It can also be used with webpages, so naturally you can add hyperlinks. Here is a link to the Temple homepage: http://www.temple.edu/\n",
    "\n",
    "Literally all I had to do was type the web address (URL) into the markdown cell.\n",
    "\n",
    "**Try making your own markdown cell with a hyperlink that interests you.** Just insert a cell below this one and change the type to markdown."
   ]
  },
  {
   "cell_type": "markdown",
   "metadata": {},
   "source": [
    "### Attaching the hyperlink to a word.\n",
    "Here is some shameless self promotion with a link to [my web page](http://sites.temple.edu/geophysics)."
   ]
  },
  {
   "cell_type": "raw",
   "metadata": {},
   "source": [
    "This is how it was done in markdown:\n",
    "\n",
    "Here is some shameless self promotion with a link to [my web page](http://sites.temple.edu/geophysics).\n",
    "\n",
    "Like this:\n",
    "[works to link to](web address)\n",
    "\n",
    "You put the text you want to be linked in square brackets and follow this with the web address in parentheses."
   ]
  },
  {
   "cell_type": "markdown",
   "metadata": {},
   "source": [
    "** Try adding a link to some words to the markdown cell below.**"
   ]
  },
  {
   "cell_type": "markdown",
   "metadata": {},
   "source": []
  },
  {
   "cell_type": "markdown",
   "metadata": {},
   "source": [
    "## Adding images\n",
    "You don't actually insert the image into the notebook, you simply insert a link to the image.  The image can hosted on the web or stored locally on your computer. Either way, you insert a link to it in your markdown cell. For example, my favorite cartoon strip is XKCD, [here is a link to one of it's cartoons.](http://xkcd.com/1729/)\n",
    "That is a normal link, so you have to click on it. \n",
    "\n",
    "Here is a link that tells Jupyter to disply the image in the notebook cell: \n",
    "!['geese'](http://imgs.xkcd.com/comics/migrating_geese.png)"
   ]
  },
  {
   "cell_type": "markdown",
   "metadata": {},
   "source": [
    "The first link looked like this:\n",
    "[here is a link to one of it's cartoons.](http://xkcd.com/1729/)\n",
    "\n",
    "The second link was not to the page but to the image file directly:\n",
    "!['geese'](http://imgs.xkcd.com/comics/migrating_geese.png)\n",
    "\n",
    "There is a exclamation mark in front of the square brackets. \n",
    "Then alternate test in quotes inside the square brackets (which can be read aloud by browser for the blind)\n",
    "Then comes the link to the actual image file. \n",
    "\n",
    "**Try inserting an image in the markdown cell below.**"
   ]
  },
  {
   "cell_type": "code",
   "execution_count": null,
   "metadata": {
    "collapsed": true
   },
   "outputs": [],
   "source": []
  },
  {
   "cell_type": "markdown",
   "metadata": {},
   "source": [
    "**Tip:** All of the notebooks for this class contain markdown cells. You can always double click on a markdown cell to enter edit mode so you can see the raw markdown text.  Then just hit shift-enter to run the cell again."
   ]
  },
  {
   "cell_type": "markdown",
   "metadata": {},
   "source": [
    "<a id='Challenge'></a>\n",
    "## Martian Challenge: Asteroid Impact Energy\n",
    "The surface of mars is covered with [hundreds of thousands of craters](http://www.space.com/16153-mars-impact-crater-map.html) left by asteroid impacts. The Earth has been hit by asteroids many times too, but the small ones burn up in the atmosphere and the craters left by the larger ones erode away over time. The Martian astmosphere is too thin to offer much protection and without wind and rain the craters persist. How to rocks that are small by comparison to the size of the planet wreak such devastation? They have a tremendous amount of kinentic energy!\n",
    "\n",
    "![Martian Impact](https://astronomynow.com/wp-content/uploads/2016/04/mars-impact_940x705.jpg)\n",
    "\n",
    "**Your challenge is to write a function that returns the kinetic energy of a martiam impact given its diameter.**\n",
    "\n",
    "You will need the following information:\n",
    "\n",
    "$$kinetic\\ energy = \\frac{1}{2}(mass)(velocity)^2 $$\n",
    "\n",
    "$$ mass = (density)(volume) $$\n",
    "\n",
    "$$ volume = \\frac{4}{3}\\pi(radius)^3 $$\n",
    "\n",
    "$$ radius = \\frac{diameter}{2} $$\n",
    "\n",
    "Also, don't forget you can import pi from the math module.  For example:"
   ]
  },
  {
   "cell_type": "code",
   "execution_count": 1,
   "metadata": {
    "collapsed": false
   },
   "outputs": [
    {
     "name": "stdout",
     "output_type": "stream",
     "text": [
      "3.141592653589793\n"
     ]
    }
   ],
   "source": [
    "import math\n",
    "pi = math.pi\n",
    "print(pi)"
   ]
  },
  {
   "cell_type": "markdown",
   "metadata": {},
   "source": [
    "You can assume a density of 2,700 $kg/m^3$ and a velocity of 5.0 $km/sec$ (the escape velocity on Mars). Print your result for asteroid diameters of 10, 100 and 1000 meters.  Your function should accept one input parameter (diameter) and return one output parameter (energy).\n",
    "\n",
    "Bonus: Convert your energy into the equivalent number of Hiroshima-size atomic bombs by dividing the energies you calculate by $8.4 x 10^{13}$."
   ]
  },
  {
   "cell_type": "code",
   "execution_count": null,
   "metadata": {
    "collapsed": true
   },
   "outputs": [],
   "source": []
  }
 ],
 "metadata": {
  "anaconda-cloud": {},
  "kernelspec": {
   "display_name": "Python [default]",
   "language": "python",
   "name": "python3"
  },
  "language_info": {
   "codemirror_mode": {
    "name": "ipython",
    "version": 3
   },
   "file_extension": ".py",
   "mimetype": "text/x-python",
   "name": "python",
   "nbconvert_exporter": "python",
   "pygments_lexer": "ipython3",
   "version": "3.5.2"
  }
 },
 "nbformat": 4,
 "nbformat_minor": 0
}
