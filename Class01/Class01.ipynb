{
 "cells": [
  {
   "cell_type": "markdown",
   "metadata": {},
   "source": [
    "# Class 01\n",
    "\n",
    "## Learning Objectives\n",
    "* Introduction to the Python Anywhere Dashboard\n",
    "* Introduction to Jupyter Notebooks and running your first program\n",
    "* Solve your first Martian Challenge"
   ]
  },
  {
   "cell_type": "markdown",
   "metadata": {},
   "source": [
    "## Introduction to the PythonAnywhere Dashboard\n",
    "To program we need three basic things:\n",
    "1. A way to write our code\n",
    "2. A way to execute our programs\n",
    "3. A way to store or view the output\n",
    "\n",
    "One common approach is install all of the necessary components on our computer.  Python is free, so we could certainly do this, but installing, configuring and updating python presupposes some familiarity with computer operating systems and programming. An alternative approach, one we'll take in this class, is to go with a Cloud Computing setup where experts have intalled all the necessary software, checked for compatibiity, and ensure that everything is kept up to date. This approach has the added advantage that it pushes all of the computation into the cloud, so it doesn't matter if your computer is old and slow, or what type of computer you have -- mac, PC, or chromebook -- as long as you can run a web browser you'll be fine.\n",
    "\n",
    "Once you log into your PythonAnywhere account you are presented with a dashboard that looks like this:\n",
    "\n",
    "[![Consoles___jenyquist___PythonAnywhere.jpg](http://s19.postimg.org/le3h98ybn/Consoles_jenyquist_Python_Anywhere.jpg)](http://postimg.org/image/btjumd8zj/)\n",
    "\n",
    "* (a) points to your login in name, so you should see your user ID inplace of jenyquist\n",
    "* (b) points to the account button.  You need to click on that and then on \"teacher\" and enter my user name (jenyquist) as your teacher to allow me to see your files. You can click on Dashboard to return to the Dashboard view.\n",
    "* (c) You don't need to worry about Consoles and Processes at this point. Files is the tab you need to know to browse your file system.\n",
    "\n",
    "If you know how to start PythonAnywhere and how to browse the filesystem, you are in business. The will be a folder in your account for each class in this module (you are working on Class01 right now) and in each folder is Jupyter Notebook for that class.\n",
    "\n",
    "**But what is a Jupyter Notebook?**\n"
   ]
  },
  {
   "cell_type": "markdown",
   "metadata": {},
   "source": [
    "## An Introduction to Jupyter Notebooks and Your First Program\n",
    "Remember the three elements you need to program? Well, a Jupyter notebooks handles all three in a familiar browser-like environment. You enter python statements into cells, edit the code until you get it right, execute the cell, and the output appears in the cell below. Jupyter takes care of sending your Python code to the Python kernel running in the background, which executes your commands add returns the result to your notebook.\n",
    "\n",
    "Let's write our first program. Type the following code into the empty cell below, then type shift-enter (hold the shift key and press enter) to execute the code. Make the cell is selected (it will framed in green) before you hit shift-enter.  You can select the cell by clicking inside it.\n",
    "\n",
    "print(\"Hello, world!\")\n"
   ]
  },
  {
   "cell_type": "code",
   "execution_count": null,
   "metadata": {
    "collapsed": true
   },
   "outputs": [],
   "source": []
  },
  {
   "cell_type": "markdown",
   "metadata": {},
   "source": [
    "### What did I just do?\n",
    "![Notebook](https://s19.postimg.org/dksinoq4j/Notebook.png)\n",
    "Python has a print statement. It will print whatever you put in either single or double quotes. So the statement above is a command to print \"Hello, world!\". When you hit shift-enter that command was sent to Jupyter Notebook server, which talks with the python kernel, which then executed the code and returned the output to Jupyter server, which then displayed the result in your browsers next cell.\n",
    "\n",
    "Try the print statement again. This time try printing your name. Just type the code into the cell below and press the shift and enter keys together."
   ]
  },
  {
   "cell_type": "code",
   "execution_count": null,
   "metadata": {
    "collapsed": true
   },
   "outputs": [],
   "source": []
  },
  {
   "cell_type": "markdown",
   "metadata": {},
   "source": [
    "### Renaming your notebook - THIS IS IMPORTANT\n",
    "![Notebook name](https://s19.postimg.org/906c8r6f7/Notebook_Name.png)\n",
    "You opened the Class01 notebook, and you can see its name just to the right of the Jupyter logo. If you click on that name you can change it. *Always change the name to include your first and last name.* So when I collect them all I can keep them straight. Thus if your name was Nathan Fillion, you would rename this notebook, \"Class01_Nathan_Fillion.\" Then click on File in the Menu and on Save and Checkpoint, to save your work. **If you don't rename your notebook, leaving me to do it for you, I will deduct points.**"
   ]
  },
  {
   "cell_type": "markdown",
   "metadata": {},
   "source": [
    "### Three types of cells in Jupyter Notebooks\n",
    "When you type text into a notebook cell and hit shift-enter, what Jupyter does next depends on the type of cell.  There are three kinds: markdown, code and raw. You can change the type of the cell by clicking to select the cell, then choosing the cell type from the dropdown box in the toolbar.\n",
    "\n",
    "Here is what each type is for:\n",
    "* **Code cells** contain Python statements. When you execute the cell the contents are sent to the Python kernel to run.\n",
    "* **Raw cells** contain text you don't want interpreted. Jupyter leaves them alone.\n",
    "* **Markdown cells** are cells that can contain formatted text, bulleted lists, images, weblinks, etc. All of the descriptions and headers in this notebook (includeing this cell) are written in Markdown."
   ]
  },
  {
   "cell_type": "markdown",
   "metadata": {},
   "source": [
    "### What is Markdown?\n",
    "Markdown is a mixture of text and special formatting codes. You can find a nice tutorial here: \n",
    "[Markdown Intro](http://www.markdowntutorial.com/)\n",
    "\n",
    "It is a good idea to spend a little time to learn the basics of markdown, and we'll gradually add to your skills over the next few weeks. Below I've put some markdown formatted text into a \"raw\" cell, so Jupyter won't interpret it. Try copying this text into the markdown cell beneath it and executing that cell (shift-enter)."
   ]
  },
  {
   "cell_type": "raw",
   "metadata": {},
   "source": [
    "# First Level Header\n",
    "## Second level\n",
    "### Third level\n",
    "This is some plain text.\n",
    "Here is some text I want to *emphasize* so I bookend it with asteriks.\n",
    "\n",
    "Here is a bulleted list.\n",
    "* Item one\n",
    "* Item two"
   ]
  },
  {
   "cell_type": "markdown",
   "metadata": {},
   "source": []
  },
  {
   "cell_type": "markdown",
   "metadata": {},
   "source": [
    "# Martian Mission\n",
    "Your first Martian Mission is quite simple. Make a TODO list for Watney that has the header \"ToDo\" and the following list items: (1) Water the potatoes, (2) Send daily report to NASA, (3) Finish Happy Days reruns."
   ]
  },
  {
   "cell_type": "markdown",
   "metadata": {
    "collapsed": true
   },
   "source": []
  },
  {
   "cell_type": "markdown",
   "metadata": {},
   "source": [
    "# Ending your session\n",
    "Do not forget to save this notebook with the new filename that includes your first and last name as described above. I will automatically retrieve the file from your account, using a Python program, naturally, so you don't need to submit anything on Blackboard.\n",
    "\n",
    "One you have finished it is very import to close out all your running processes.  If you don't they will continue to run in background even if you log out of your account. You only get a limited number of CPU cycles per day, so you don't want to spend your allowance running stuff in background when you aren't even logged on!\n",
    "\n",
    "Return to the PythonAnywhere dashboard and click on the \"fetch processes\" button.\n",
    "\n",
    "\n",
    "[![ProcessList.jpg](http://s19.postimg.org/io496ae9v/Process_List.jpg)](http://postimg.org/image/4hoib23en/)\n",
    "\n",
    "\n",
    "**Once you have the list of running processes, press the kill buttons until they are all dead. Kill! Kill! Kill!**\n",
    "\n",
    "\n",
    "[![Kill.jpg](http://s19.postimg.org/8fbs0gq83/Kill.jpg)](http://postimg.org/image/q5dgli3sv/)\n"
   ]
  },
  {
   "cell_type": "markdown",
   "metadata": {},
   "source": [
    "## STUDENT FEEDBACK\n",
    "Edit this markdown cell to provide feedback on this notebook. \n",
    "\n",
    "Specifically:\n",
    "\n",
    "Roughly, how much time did you spend?\n",
    "\n",
    "What, if anything, gave you trouble?\n",
    "\n",
    "What part did you like best?\n",
    "\n",
    "\n"
   ]
  },
  {
   "cell_type": "markdown",
   "metadata": {},
   "source": [
    "### That's all for your first Jupyter Notebook.  Time to ride off into the Martian sunset...\n",
    "![Martian Sunset](http://media.npr.org/assets/img/2012/04/27/mars-sunset-pathfinder_custom-e150cf888503d63769fa4e1b8d86b6a4bda394e5-s900-c85.jpg)"
   ]
  },
  {
   "cell_type": "markdown",
   "metadata": {
    "collapsed": true
   },
   "source": [
    "# SUPPLEMENTAL EXERCISES\n",
    "## (So you won't be bored if you finish early)\n",
    "\n",
    "None of the supplemental exercises are required, and they won't earn you extra credit, but they will make you a better programmer. \n",
    "\n",
    "### Markdown Madness\n",
    "Change the cell below into a Markdown cell and see if you can do the following:\n",
    "* Write a sentence with THIS in italics and THAT in boldface\n",
    "* Create a numbered list (like this one but with numbers instead of bullets).\n",
    "* Below is a link to a image of the Temple T.  See if you can figure out how to embed this image in a markdown cell.\n",
    "\n",
    "https://s-media-cache-ak0.pinimg.com/originals/04/bd/39/04bd39f6ac8e76cde3a84f15ee04e2a1.jpg"
   ]
  },
  {
   "cell_type": "markdown",
   "metadata": {},
   "source": []
  },
  {
   "cell_type": "markdown",
   "metadata": {
    "collapsed": true
   },
   "source": [
    "### Using the PythonAnywhere Dashboard\n",
    "* See if you can figure out how create a new folder in your account\n",
    "* How to upload a file to the folder\n",
    "* How to download a file (like this notebook)"
   ]
  },
  {
   "cell_type": "markdown",
   "metadata": {},
   "source": [
    "### Next steps with the Python print statement\n",
    "* Try printing a number\n",
    "* Try printing several strings separated by commsas: \n",
    "\n",
    "print(\"Nerdy pickup line:\", \"You must have your phasor set to stunning.\")\n",
    "\n",
    "* Print statements can include special 'escape' characters. They don't print, but they control how the output is printed. (We'll learn about these later.) Try the following:\n",
    "\n",
    "print(\"Nerdy pickup line: \\n\", \"You must have your phasor set to \\n\", \"Stunning!\")\n",
    "\n",
    "What to you think the \\n does?"
   ]
  },
  {
   "cell_type": "code",
   "execution_count": null,
   "metadata": {
    "collapsed": false
   },
   "outputs": [],
   "source": []
  },
  {
   "cell_type": "code",
   "execution_count": null,
   "metadata": {
    "collapsed": true
   },
   "outputs": [],
   "source": []
  }
 ],
 "metadata": {
  "anaconda-cloud": {},
  "kernelspec": {
   "display_name": "Python 3",
   "language": "python",
   "name": "python3"
  },
  "language_info": {
   "codemirror_mode": {
    "name": "ipython",
    "version": 3
   },
   "file_extension": ".py",
   "mimetype": "text/x-python",
   "name": "python",
   "nbconvert_exporter": "python",
   "pygments_lexer": "ipython3",
   "version": "3.6.0"
  }
 },
 "nbformat": 4,
 "nbformat_minor": 0
}
