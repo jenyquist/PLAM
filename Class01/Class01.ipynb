{
 "cells": [
  {
   "cell_type": "markdown",
   "metadata": {},
   "source": [
    "# Class 01\n",
    "\n",
    "## Learning Objectives\n",
    "* Introduction to the Python Anywhere Dashboard\n",
    "* Introduction to Jupyter Notebooks and running your first program\n",
    "* Solve your first Martian Challenge"
   ]
  },
  {
   "cell_type": "markdown",
   "metadata": {},
   "source": [
    "## Introduction to the PythonAnywhere Dashboard\n",
    "To program we need three basic things:\n",
    "1. A way to write our code\n",
    "2. A way to execute our programs\n",
    "3. A way to store or view the output\n",
    "\n",
    "One common approach is install all of the necessary components on our computer.  Python is free, so we could certainly do this, but installing, configuring and updating python presupposes some familiarity with computer operating systems and programming. An alternative approach, one we'll take in this class, is to go with a Cloud Computing setup where experts have intalled all the necessary software, checked for compatibiity, and ensure that everything is kept up to date. This approach has the added advantage that it pushes all of the computation into the cloud, so it doesn't matter if your computer is old and slow, or what type of computer you have -- mac, PC, or chromebook -- as long as you can run a web browser you'll be fine.\n",
    "\n",
    "Once you log into your PythonAnywhere account you are presented with a dashboard that looks like this:\n",
    "\n",
    "[![Consoles___jenyquist___PythonAnywhere.jpg](http://s19.postimg.org/le3h98ybn/Consoles_jenyquist_Python_Anywhere.jpg)](http://postimg.org/image/btjumd8zj/)\n",
    "\n",
    "* (a) points to your login in name, so you should see your user ID inplace of jenyquist\n",
    "* (b) points to the account button.  You need to click on that and then on \"teacher\" and enter my user name (jenyquist) as your teacher to allow me to see your files. You can click on Dashboard to return to the Dashboard view.\n",
    "* (c) You don't need to worry about Consoles and Processes at this point. Files is the tab you need to know to browse your file system.\n",
    "\n",
    "If you know how to start PythonAnywhere and how to browse the filesystem, you are in business. The will be a folder in your account for each class in this module (you are working on Class01 right now) and in each folder is Jupyter Notebook for that class.\n",
    "\n",
    "But what is a Jupyter Notebook?\n"
   ]
  },
  {
   "cell_type": "markdown",
   "metadata": {},
   "source": [
    "## An Introduction to Jupyter Notebooks and Your First Program\n",
    "Remember the three elements you need to program? Well, a Jupyter notebooks handles all three in a familiar brower-like environment. You enter python statements into cells, edit it until you get it right, execute the cell, and the output appears in the cell below. Jupyter takes care of sending your Python code to the Python kernel running in the background, which executes your commands add returns the result to your notebook.\n",
    "\n",
    "Let's write our first program. Type the following code into the empty cell below, then type shift-enter (hold the shift key and press enter) to execute the code. Make the cell is selected (it will framed in green) before you hit shift-enter.  You can select the cell by clicking inside it.\n",
    "\n",
    "print(\"Hello, world!\")\n"
   ]
  },
  {
   "cell_type": "code",
   "execution_count": null,
   "metadata": {
    "collapsed": true
   },
   "outputs": [],
   "source": []
  },
  {
   "cell_type": "markdown",
   "metadata": {},
   "source": [
    "### What did I just do?\n",
    "Python has a print statement. It will print whatever you put in either single or double quotes. So the statement above is a command to print \"Hello, world!\". When you hit shift-enter that command was sent to the python kernel by Jupyter, which executed the code and returned the output to Jupyter, which then displayed the result in the next cell.\n",
    "\n",
    "Try the print statement again. This time trying printing your name."
   ]
  },
  {
   "cell_type": "code",
   "execution_count": null,
   "metadata": {
    "collapsed": true
   },
   "outputs": [],
   "source": []
  },
  {
   "cell_type": "markdown",
   "metadata": {},
   "source": [
    "### Renaming your notebook - THIS IS IMPORTANT\n",
    "You opened the Class01 notebook, and you can see its name just to the right of the Jupyter logo. If you click on that name you can change it. *Always change the name to include your first and last name.* So when I collect them all I can keep them straight. Thus if your name was Nathan Fillion, you would rename this notebook, \"Class01_Nathan_Fillion.\" Then click on File in the Menu and on Save and Checkpoint, to save your work. If you don't rename your notebook, leaving me to do it for you, I will deduct points."
   ]
  },
  {
   "cell_type": "markdown",
   "metadata": {},
   "source": [
    "### Three types of cells in Jupyter Notebooks\n",
    "When you typc text into a notebook cell and hit shift-enter, what Jupyter does depends on the type of cell.  There are three kinds: Markdown, Code, and Raw.  You can change the type of the cell by clicking to select the cell, then choosing the cell type from the dropdown box in the toolbar.\n",
    "\n",
    "Here is what each type is for:\n",
    "\n",
    "Code cell contain Python statements. When you execute the cell the contents are sent to the Python kernel to run.\n",
    "\n",
    "Raw cells contain text you don't want interpreted. Jupyter leaves them alone.\n",
    "\n",
    "Markdown cells are cells that can contain formatted text, bulleted lists, images, weblinks, etc. All of the descriptions and headers in this notebook (includeing this cell) are written in Markdown."
   ]
  },
  {
   "cell_type": "markdown",
   "metadata": {},
   "source": [
    "### What is Markdown?\n",
    "Markdown is a mixture of text and special formatting codes. You can find a nice tutorial here: \n",
    "[Markdown Intro](http://www.markdowntutorial.com/)\n",
    "\n",
    "It is a good idea to spend a little time to learn the basics of markdown, and we'll gradually add to your skills over the next few weeks.\n",
    "\n",
    "Below I've put some markdown formatted text into a \"raw\" cell, so Jupyter won't interpret it. Try copying this text into the markdown cell beneath it and executing that cell (shift-enter)."
   ]
  },
  {
   "cell_type": "raw",
   "metadata": {},
   "source": [
    "# First Level Header\n",
    "## Second level\n",
    "### Third level\n",
    "This is some plain text.\n",
    "Here is some text I want to *emphasize* so I bookend it with asteriks.\n",
    "\n",
    "Here is a bulleted list.\n",
    "* Item one\n",
    "* Item two"
   ]
  },
  {
   "cell_type": "markdown",
   "metadata": {},
   "source": []
  },
  {
   "cell_type": "markdown",
   "metadata": {},
   "source": [
    "# Martian Mission\n",
    "Your first Martian Mission is quite simple. Make a TODO list for Watney that has the header \"ToDo\" and the following list items: (1) Water the potatoes, (2) Send daily report to NASA, (3) Finish Happy Days reruns."
   ]
  },
  {
   "cell_type": "markdown",
   "metadata": {
    "collapsed": true
   },
   "source": []
  },
  {
   "cell_type": "markdown",
   "metadata": {},
   "source": [
    "# Ending your session\n",
    "Do not forget to save this notebook with the new filename that includes your first and last name as described above. I will automatically retrieve the file from your account, using a Python program, naturally, so you don't need to submit anything on Blackboard.\n",
    "\n",
    "One you have finished it is very import to close out all your running processes.  If you don't they will continue to run in background even if you log out of your account. You only get a limited number of CPU cycles per day, so you don't want to spend your allowance running stuff in background when you aren't even logged on!\n",
    "\n",
    "Return to the PythonAnywhere dashboard and click on the \"fetch processes\" button.\n",
    "\n",
    "\n",
    "[![ProcessList.jpg](http://s19.postimg.org/io496ae9v/Process_List.jpg)](http://postimg.org/image/4hoib23en/)\n",
    "\n",
    "\n",
    "Once you have the list of running processes, press the kill buttons until they are all dead, dead, dead.\n",
    "\n",
    "\n",
    "[![Kill.jpg](http://s19.postimg.org/8fbs0gq83/Kill.jpg)](http://postimg.org/image/q5dgli3sv/)\n"
   ]
  },
  {
   "cell_type": "markdown",
   "metadata": {},
   "source": [
    "### That's all for your first Jupyter Notebook.  Time to ride off into the Martian sunset...\n",
    "![Martian Sunset](http://media.npr.org/assets/img/2012/04/27/mars-sunset-pathfinder_custom-e150cf888503d63769fa4e1b8d86b6a4bda394e5-s900-c85.jpg)"
   ]
  },
  {
   "cell_type": "code",
   "execution_count": null,
   "metadata": {
    "collapsed": true
   },
   "outputs": [],
   "source": []
  }
 ],
 "metadata": {
  "kernelspec": {
   "display_name": "Python 3.5",
   "language": "python",
   "name": "python3.5"
  },
  "language_info": {
   "codemirror_mode": {
    "name": "ipython",
    "version": 3
   },
   "file_extension": ".py",
   "mimetype": "text/x-python",
   "name": "python",
   "nbconvert_exporter": "python",
   "pygments_lexer": "ipython3",
   "version": "3.5.2"
  }
 },
 "nbformat": 4,
 "nbformat_minor": 0
}
