{
 "cells": [
  {
   "cell_type": "markdown",
   "metadata": {},
   "source": [
    "# Week Four - Advanced Topics in Python\n",
    "\n",
    "## Learning Objectives: \n",
    "For the first three weeks you been learning the basics of programming in Python -- enough to begin exploring further on your own. In the final week of this module I want to give you a taste of the real power of Python programming. **Do not worry if you don't understand everything.** Just follow along in the notebooks to see the possibilities. Some of the tasks will continue to follow our Martian theme, but I'll include some down-to-Earth examples to get you thinking about ways you might use programming in your own career (assuming you don't go to Mars).\n",
    "\n",
    "I think you'll be surprised at how much you actually do understand, and I hope you'll be inspired to investigate further on your own!  But some of this stuff is tricky, so don't rush through the notebooks.  ** Read everything carefully.**\n",
    "\n",
    "## Three themes will comprise our final week:\n",
    "1. ** Advanced data input: Class 10 **\n",
    "2. ** Advanced data analysis: Class 11 **\n",
    "3. ** Advanced data display: Class 12 **"
   ]
  },
  {
   "cell_type": "markdown",
   "metadata": {},
   "source": [
    "<a id='Top'/a>\n",
    "## Class 10: Advanced Data Input\n",
    "[Top of Notebook](#Top)\n",
    "Until now we have either typed in the data, read a text file, or read numbers from a comma-separated variable (CSV) file. The internet is all about data, but before you can analyze it you have to be able to read it. \n",
    "\n",
    "In this class we will look at:\n",
    "- [Loading data from an Excel spread sheet](#Excel)\n",
    "- [Loading data from a Google Spreadsheet.](#Googlesheet)\n",
    "- [Loading a JSON file](#JSON)\n",
    "- [Scraping a web page](#Scraping)\n",
    "\n",
    "And, of course, we'll finish with a:\n",
    "- [Martian Mission](#Mission)\n"
   ]
  },
  {
   "cell_type": "markdown",
   "metadata": {
    "collapsed": true
   },
   "source": [
    "<a id='Excel'/a>\n",
    "## Loading data from an Excel Spreadsheet\n",
    "[Top of Notebook](#Top)\n",
    "\n",
    "In your Class10 folding I've included the file 'PopularKids.xls'\n",
    "\n",
    "According to: http://mercury.webster.edu/aleshunas/Data%20Sets/Supplemental%20Excel%20Data%20Sets.htm\n",
    "\n",
    "This dataset of 478 instances was obtained from http://lib.stat.cmu.edu/DASL/Datafiles/PopularKids.html\t\t\n",
    "\t\t\n",
    "A sample of 478 students in grades 4 - 6 were selected from urban, suburban, and rural school\t\t\n",
    "districts with approximately 1/3 of the sample coming from each district. The students were\t\t\n",
    "asked whether making good grades, being good at sports, or being popular were what they\t\t\n",
    "most liked to achieve at school. They were also asked to rank in order of importance\t\t\n",
    "the following factors that would make them popular among their friends: making good grades,\t\t\n",
    "being good at sports, being handsome or pretty, and having lots of money. They were also\t\t\n",
    "asked their gender, grade level, and other demographic information.\t\t\n",
    "\n",
    "** Note: This is just an example. I'm not endorsing the research. **\n",
    "\t\t\n",
    "Attributes with possible values:\t\t\n",
    "Gender: boy, girl\t\t\n",
    "Grade: 4, 5, 6\t\t\n",
    "Age: 7,9, 10, 11, 12, 13\t\t\n",
    "Race: Other, White\t\t\n",
    "Urban/Rural: Rural, Suburban, Urban\t\t\n",
    "School: Brentwood Elementary, Brentwood Middle, Brown Middle, Elm, Main, Portage, Ridge, Sand, Westdale Middle\t\t\n",
    "\n",
    "Goals: Grades, Popular, Sports (Goals students chose that they most wished to achieve at school)\n",
    "Factors students ranked in order of importance that would make them popular among their friends.\n",
    "\n",
    "(1 = most important, 4 = least important)\n",
    "\n",
    "Grades: 1, 2, 3, 4\t\t\n",
    "Sports: 1, 2, 3, 4\t\t\n",
    "Looks: 1, 2, 3, 4\t\t\n",
    "Money: 1, 2, 3, 4\t\t\n",
    "\n",
    "** There are many ways to read in Excel files, but the pandas library we used when we looked at the Indego bike data is one of the easiest.**"
   ]
  },
  {
   "cell_type": "code",
   "execution_count": 11,
   "metadata": {
    "collapsed": false
   },
   "outputs": [
    {
     "data": {
      "text/html": [
       "<div>\n",
       "<table border=\"1\" class=\"dataframe\">\n",
       "  <thead>\n",
       "    <tr style=\"text-align: right;\">\n",
       "      <th></th>\n",
       "      <th>Gender</th>\n",
       "      <th>Grade</th>\n",
       "      <th>Age</th>\n",
       "      <th>Race</th>\n",
       "      <th>Urban/Rural</th>\n",
       "      <th>School</th>\n",
       "      <th>Goals</th>\n",
       "      <th>Grades</th>\n",
       "      <th>Sports</th>\n",
       "      <th>Looks</th>\n",
       "      <th>Money</th>\n",
       "    </tr>\n",
       "  </thead>\n",
       "  <tbody>\n",
       "    <tr>\n",
       "      <th>0</th>\n",
       "      <td>boy</td>\n",
       "      <td>5</td>\n",
       "      <td>11</td>\n",
       "      <td>White</td>\n",
       "      <td>Rural</td>\n",
       "      <td>Elm</td>\n",
       "      <td>Sports</td>\n",
       "      <td>1</td>\n",
       "      <td>2</td>\n",
       "      <td>4</td>\n",
       "      <td>3</td>\n",
       "    </tr>\n",
       "    <tr>\n",
       "      <th>1</th>\n",
       "      <td>boy</td>\n",
       "      <td>5</td>\n",
       "      <td>10</td>\n",
       "      <td>White</td>\n",
       "      <td>Rural</td>\n",
       "      <td>Elm</td>\n",
       "      <td>Popular</td>\n",
       "      <td>2</td>\n",
       "      <td>1</td>\n",
       "      <td>4</td>\n",
       "      <td>3</td>\n",
       "    </tr>\n",
       "    <tr>\n",
       "      <th>2</th>\n",
       "      <td>girl</td>\n",
       "      <td>5</td>\n",
       "      <td>11</td>\n",
       "      <td>White</td>\n",
       "      <td>Rural</td>\n",
       "      <td>Elm</td>\n",
       "      <td>Popular</td>\n",
       "      <td>4</td>\n",
       "      <td>3</td>\n",
       "      <td>1</td>\n",
       "      <td>2</td>\n",
       "    </tr>\n",
       "    <tr>\n",
       "      <th>3</th>\n",
       "      <td>girl</td>\n",
       "      <td>5</td>\n",
       "      <td>11</td>\n",
       "      <td>White</td>\n",
       "      <td>Rural</td>\n",
       "      <td>Elm</td>\n",
       "      <td>Popular</td>\n",
       "      <td>2</td>\n",
       "      <td>3</td>\n",
       "      <td>4</td>\n",
       "      <td>1</td>\n",
       "    </tr>\n",
       "    <tr>\n",
       "      <th>4</th>\n",
       "      <td>girl</td>\n",
       "      <td>5</td>\n",
       "      <td>10</td>\n",
       "      <td>White</td>\n",
       "      <td>Rural</td>\n",
       "      <td>Elm</td>\n",
       "      <td>Popular</td>\n",
       "      <td>4</td>\n",
       "      <td>2</td>\n",
       "      <td>1</td>\n",
       "      <td>3</td>\n",
       "    </tr>\n",
       "    <tr>\n",
       "      <th>5</th>\n",
       "      <td>girl</td>\n",
       "      <td>5</td>\n",
       "      <td>11</td>\n",
       "      <td>White</td>\n",
       "      <td>Rural</td>\n",
       "      <td>Elm</td>\n",
       "      <td>Popular</td>\n",
       "      <td>4</td>\n",
       "      <td>2</td>\n",
       "      <td>1</td>\n",
       "      <td>3</td>\n",
       "    </tr>\n",
       "    <tr>\n",
       "      <th>6</th>\n",
       "      <td>girl</td>\n",
       "      <td>5</td>\n",
       "      <td>10</td>\n",
       "      <td>White</td>\n",
       "      <td>Rural</td>\n",
       "      <td>Elm</td>\n",
       "      <td>Popular</td>\n",
       "      <td>3</td>\n",
       "      <td>4</td>\n",
       "      <td>1</td>\n",
       "      <td>2</td>\n",
       "    </tr>\n",
       "    <tr>\n",
       "      <th>7</th>\n",
       "      <td>girl</td>\n",
       "      <td>5</td>\n",
       "      <td>10</td>\n",
       "      <td>White</td>\n",
       "      <td>Rural</td>\n",
       "      <td>Elm</td>\n",
       "      <td>Grades</td>\n",
       "      <td>3</td>\n",
       "      <td>4</td>\n",
       "      <td>2</td>\n",
       "      <td>1</td>\n",
       "    </tr>\n",
       "    <tr>\n",
       "      <th>8</th>\n",
       "      <td>girl</td>\n",
       "      <td>5</td>\n",
       "      <td>10</td>\n",
       "      <td>White</td>\n",
       "      <td>Rural</td>\n",
       "      <td>Elm</td>\n",
       "      <td>Sports</td>\n",
       "      <td>3</td>\n",
       "      <td>2</td>\n",
       "      <td>1</td>\n",
       "      <td>4</td>\n",
       "    </tr>\n",
       "    <tr>\n",
       "      <th>9</th>\n",
       "      <td>girl</td>\n",
       "      <td>5</td>\n",
       "      <td>10</td>\n",
       "      <td>White</td>\n",
       "      <td>Rural</td>\n",
       "      <td>Elm</td>\n",
       "      <td>Sports</td>\n",
       "      <td>4</td>\n",
       "      <td>3</td>\n",
       "      <td>2</td>\n",
       "      <td>1</td>\n",
       "    </tr>\n",
       "  </tbody>\n",
       "</table>\n",
       "</div>"
      ],
      "text/plain": [
       "  Gender  Grade  Age   Race Urban/Rural School    Goals  Grades  Sports  \\\n",
       "0    boy      5   11  White       Rural    Elm   Sports       1       2   \n",
       "1    boy      5   10  White       Rural    Elm  Popular       2       1   \n",
       "2   girl      5   11  White       Rural    Elm  Popular       4       3   \n",
       "3   girl      5   11  White       Rural    Elm  Popular       2       3   \n",
       "4   girl      5   10  White       Rural    Elm  Popular       4       2   \n",
       "5   girl      5   11  White       Rural    Elm  Popular       4       2   \n",
       "6   girl      5   10  White       Rural    Elm  Popular       3       4   \n",
       "7   girl      5   10  White       Rural    Elm   Grades       3       4   \n",
       "8   girl      5   10  White       Rural    Elm   Sports       3       2   \n",
       "9   girl      5   10  White       Rural    Elm   Sports       4       3   \n",
       "\n",
       "   Looks  Money  \n",
       "0      4      3  \n",
       "1      4      3  \n",
       "2      1      2  \n",
       "3      4      1  \n",
       "4      1      3  \n",
       "5      1      3  \n",
       "6      1      2  \n",
       "7      2      1  \n",
       "8      1      4  \n",
       "9      2      1  "
      ]
     },
     "execution_count": 11,
     "metadata": {},
     "output_type": "execute_result"
    }
   ],
   "source": [
    "import numpy as np\n",
    "import pandas as pd\n",
    "\n",
    "# Load the file into a pandas dataframe\n",
    "kids = pd.read_excel('PopularKids.xls')\n",
    "\n",
    "# Print the first ten rows\n",
    "kids.head(10)"
   ]
  },
  {
   "cell_type": "code",
   "execution_count": 12,
   "metadata": {
    "collapsed": false
   },
   "outputs": [
    {
     "data": {
      "text/plain": [
       "(478, 11)"
      ]
     },
     "execution_count": 12,
     "metadata": {},
     "output_type": "execute_result"
    }
   ],
   "source": [
    "# How many rows and columns?\n",
    "kids.shape"
   ]
  },
  {
   "cell_type": "markdown",
   "metadata": {},
   "source": [
    "So the shape() function told us this data set has 478 rows and 11 columns."
   ]
  },
  {
   "cell_type": "code",
   "execution_count": 13,
   "metadata": {
    "collapsed": false
   },
   "outputs": [
    {
     "data": {
      "text/html": [
       "<div>\n",
       "<table border=\"1\" class=\"dataframe\">\n",
       "  <thead>\n",
       "    <tr style=\"text-align: right;\">\n",
       "      <th></th>\n",
       "      <th>Grade</th>\n",
       "      <th>Age</th>\n",
       "      <th>Grades</th>\n",
       "      <th>Sports</th>\n",
       "      <th>Looks</th>\n",
       "      <th>Money</th>\n",
       "    </tr>\n",
       "  </thead>\n",
       "  <tbody>\n",
       "    <tr>\n",
       "      <th>count</th>\n",
       "      <td>478.000000</td>\n",
       "      <td>478.000000</td>\n",
       "      <td>478.000000</td>\n",
       "      <td>478.000000</td>\n",
       "      <td>478.000000</td>\n",
       "      <td>478.000000</td>\n",
       "    </tr>\n",
       "    <tr>\n",
       "      <th>mean</th>\n",
       "      <td>5.133891</td>\n",
       "      <td>10.422594</td>\n",
       "      <td>2.617155</td>\n",
       "      <td>2.085774</td>\n",
       "      <td>2.100418</td>\n",
       "      <td>3.196653</td>\n",
       "    </tr>\n",
       "    <tr>\n",
       "      <th>std</th>\n",
       "      <td>0.784321</td>\n",
       "      <td>0.978421</td>\n",
       "      <td>1.080550</td>\n",
       "      <td>0.983601</td>\n",
       "      <td>1.069081</td>\n",
       "      <td>0.948920</td>\n",
       "    </tr>\n",
       "    <tr>\n",
       "      <th>min</th>\n",
       "      <td>4.000000</td>\n",
       "      <td>7.000000</td>\n",
       "      <td>1.000000</td>\n",
       "      <td>1.000000</td>\n",
       "      <td>1.000000</td>\n",
       "      <td>1.000000</td>\n",
       "    </tr>\n",
       "    <tr>\n",
       "      <th>25%</th>\n",
       "      <td>5.000000</td>\n",
       "      <td>10.000000</td>\n",
       "      <td>2.000000</td>\n",
       "      <td>1.000000</td>\n",
       "      <td>1.000000</td>\n",
       "      <td>3.000000</td>\n",
       "    </tr>\n",
       "    <tr>\n",
       "      <th>50%</th>\n",
       "      <td>5.000000</td>\n",
       "      <td>11.000000</td>\n",
       "      <td>3.000000</td>\n",
       "      <td>2.000000</td>\n",
       "      <td>2.000000</td>\n",
       "      <td>3.000000</td>\n",
       "    </tr>\n",
       "    <tr>\n",
       "      <th>75%</th>\n",
       "      <td>6.000000</td>\n",
       "      <td>11.000000</td>\n",
       "      <td>4.000000</td>\n",
       "      <td>3.000000</td>\n",
       "      <td>3.000000</td>\n",
       "      <td>4.000000</td>\n",
       "    </tr>\n",
       "    <tr>\n",
       "      <th>max</th>\n",
       "      <td>6.000000</td>\n",
       "      <td>13.000000</td>\n",
       "      <td>4.000000</td>\n",
       "      <td>4.000000</td>\n",
       "      <td>4.000000</td>\n",
       "      <td>4.000000</td>\n",
       "    </tr>\n",
       "  </tbody>\n",
       "</table>\n",
       "</div>"
      ],
      "text/plain": [
       "            Grade         Age      Grades      Sports       Looks       Money\n",
       "count  478.000000  478.000000  478.000000  478.000000  478.000000  478.000000\n",
       "mean     5.133891   10.422594    2.617155    2.085774    2.100418    3.196653\n",
       "std      0.784321    0.978421    1.080550    0.983601    1.069081    0.948920\n",
       "min      4.000000    7.000000    1.000000    1.000000    1.000000    1.000000\n",
       "25%      5.000000   10.000000    2.000000    1.000000    1.000000    3.000000\n",
       "50%      5.000000   11.000000    3.000000    2.000000    2.000000    3.000000\n",
       "75%      6.000000   11.000000    4.000000    3.000000    3.000000    4.000000\n",
       "max      6.000000   13.000000    4.000000    4.000000    4.000000    4.000000"
      ]
     },
     "execution_count": 13,
     "metadata": {},
     "output_type": "execute_result"
    }
   ],
   "source": [
    "# Let's see which factors the kids thought were most important (1 = most, 4 = least)\n",
    "kids.describe()"
   ]
  },
  {
   "cell_type": "markdown",
   "metadata": {},
   "source": [
    "The describe() function applied to a pandas dataframe returns summary statistics for all of the columns. Very slick!\n",
    "\n",
    "Looking at the averages (mean), the kids ranked them from most important to least important as: sports, looks, grades and money. I wonder what the results would be for college students?\n",
    "\n",
    "Well, I can't resist playing with the data a little.  Let's see how their opinions change with age from 7 to 13."
   ]
  },
  {
   "cell_type": "code",
   "execution_count": 14,
   "metadata": {
    "collapsed": false
   },
   "outputs": [
    {
     "data": {
      "text/html": [
       "<div>\n",
       "<table border=\"1\" class=\"dataframe\">\n",
       "  <thead>\n",
       "    <tr style=\"text-align: right;\">\n",
       "      <th></th>\n",
       "      <th>Grades</th>\n",
       "      <th>Sports</th>\n",
       "      <th>Looks</th>\n",
       "      <th>Money</th>\n",
       "    </tr>\n",
       "    <tr>\n",
       "      <th>Age</th>\n",
       "      <th></th>\n",
       "      <th></th>\n",
       "      <th></th>\n",
       "      <th></th>\n",
       "    </tr>\n",
       "  </thead>\n",
       "  <tbody>\n",
       "    <tr>\n",
       "      <th>7</th>\n",
       "      <td>1.000000</td>\n",
       "      <td>2.000000</td>\n",
       "      <td>3.000000</td>\n",
       "      <td>4.000000</td>\n",
       "    </tr>\n",
       "    <tr>\n",
       "      <th>9</th>\n",
       "      <td>2.380000</td>\n",
       "      <td>2.340000</td>\n",
       "      <td>2.190000</td>\n",
       "      <td>3.090000</td>\n",
       "    </tr>\n",
       "    <tr>\n",
       "      <th>10</th>\n",
       "      <td>2.348485</td>\n",
       "      <td>2.037879</td>\n",
       "      <td>2.318182</td>\n",
       "      <td>3.295455</td>\n",
       "    </tr>\n",
       "    <tr>\n",
       "      <th>11</th>\n",
       "      <td>2.857143</td>\n",
       "      <td>2.058201</td>\n",
       "      <td>1.899471</td>\n",
       "      <td>3.185185</td>\n",
       "    </tr>\n",
       "    <tr>\n",
       "      <th>12</th>\n",
       "      <td>2.903846</td>\n",
       "      <td>1.807692</td>\n",
       "      <td>2.096154</td>\n",
       "      <td>3.192308</td>\n",
       "    </tr>\n",
       "    <tr>\n",
       "      <th>13</th>\n",
       "      <td>2.750000</td>\n",
       "      <td>2.250000</td>\n",
       "      <td>2.000000</td>\n",
       "      <td>3.000000</td>\n",
       "    </tr>\n",
       "  </tbody>\n",
       "</table>\n",
       "</div>"
      ],
      "text/plain": [
       "       Grades    Sports     Looks     Money\n",
       "Age                                        \n",
       "7    1.000000  2.000000  3.000000  4.000000\n",
       "9    2.380000  2.340000  2.190000  3.090000\n",
       "10   2.348485  2.037879  2.318182  3.295455\n",
       "11   2.857143  2.058201  1.899471  3.185185\n",
       "12   2.903846  1.807692  2.096154  3.192308\n",
       "13   2.750000  2.250000  2.000000  3.000000"
      ]
     },
     "execution_count": 14,
     "metadata": {},
     "output_type": "execute_result"
    }
   ],
   "source": [
    "# Group the data frame by ages\n",
    "by_age = kids.groupby('Age')\n",
    "\n",
    "# Find the averages for each age group\n",
    "# agg is short for \"aggregate\", in this case by mean value\n",
    "averages = by_age.agg(np.mean)\n",
    "\n",
    "# Display the averages for the columns of interest\n",
    "averages[['Grades', 'Sports','Looks', 'Money']]"
   ]
  },
  {
   "cell_type": "code",
   "execution_count": 15,
   "metadata": {
    "collapsed": false
   },
   "outputs": [
    {
     "name": "stdout",
     "output_type": "stream",
     "text": [
      "Age\n",
      "7       1\n",
      "9     100\n",
      "10    132\n",
      "11    189\n",
      "12     52\n",
      "13      4\n",
      "dtype: int64\n"
     ]
    }
   ],
   "source": [
    "# How many kids in each age group?\n",
    "print(by_age.size())"
   ]
  },
  {
   "cell_type": "markdown",
   "metadata": {},
   "source": [
    "There was only one 7 year so the numbers for age 7 are just that kid's selection.  There were no 8 year olds in the data set, so that row is missing. I don't know why so don't ask.\n",
    "\n",
    "Isn't it interesting, and perhaps a bit sad, that the one seven year old thought grades where most important, but with age looks and athletic ability quickly become the most important factors? Well, maybe that kid's not typical. We really should limit comparison to ages where we have a lot of data."
   ]
  },
  {
   "cell_type": "code",
   "execution_count": 16,
   "metadata": {
    "collapsed": false
   },
   "outputs": [
    {
     "data": {
      "text/html": [
       "<div>\n",
       "<table border=\"1\" class=\"dataframe\">\n",
       "  <thead>\n",
       "    <tr style=\"text-align: right;\">\n",
       "      <th></th>\n",
       "      <th>Gender</th>\n",
       "      <th>Grade</th>\n",
       "      <th>Age</th>\n",
       "      <th>Race</th>\n",
       "      <th>Urban/Rural</th>\n",
       "      <th>School</th>\n",
       "      <th>Goals</th>\n",
       "      <th>Grades</th>\n",
       "      <th>Sports</th>\n",
       "      <th>Looks</th>\n",
       "      <th>Money</th>\n",
       "    </tr>\n",
       "  </thead>\n",
       "  <tbody>\n",
       "    <tr>\n",
       "      <th>12</th>\n",
       "      <td>boy</td>\n",
       "      <td>4</td>\n",
       "      <td>9</td>\n",
       "      <td>White</td>\n",
       "      <td>Rural</td>\n",
       "      <td>Elm</td>\n",
       "      <td>Popular</td>\n",
       "      <td>2</td>\n",
       "      <td>3</td>\n",
       "      <td>4</td>\n",
       "      <td>1</td>\n",
       "    </tr>\n",
       "    <tr>\n",
       "      <th>13</th>\n",
       "      <td>boy</td>\n",
       "      <td>4</td>\n",
       "      <td>9</td>\n",
       "      <td>White</td>\n",
       "      <td>Rural</td>\n",
       "      <td>Elm</td>\n",
       "      <td>Popular</td>\n",
       "      <td>4</td>\n",
       "      <td>2</td>\n",
       "      <td>3</td>\n",
       "      <td>1</td>\n",
       "    </tr>\n",
       "    <tr>\n",
       "      <th>14</th>\n",
       "      <td>boy</td>\n",
       "      <td>4</td>\n",
       "      <td>9</td>\n",
       "      <td>Other</td>\n",
       "      <td>Rural</td>\n",
       "      <td>Elm</td>\n",
       "      <td>Popular</td>\n",
       "      <td>4</td>\n",
       "      <td>3</td>\n",
       "      <td>2</td>\n",
       "      <td>1</td>\n",
       "    </tr>\n",
       "    <tr>\n",
       "      <th>15</th>\n",
       "      <td>girl</td>\n",
       "      <td>4</td>\n",
       "      <td>9</td>\n",
       "      <td>White</td>\n",
       "      <td>Rural</td>\n",
       "      <td>Elm</td>\n",
       "      <td>Grades</td>\n",
       "      <td>1</td>\n",
       "      <td>3</td>\n",
       "      <td>2</td>\n",
       "      <td>4</td>\n",
       "    </tr>\n",
       "    <tr>\n",
       "      <th>16</th>\n",
       "      <td>girl</td>\n",
       "      <td>4</td>\n",
       "      <td>9</td>\n",
       "      <td>White</td>\n",
       "      <td>Rural</td>\n",
       "      <td>Elm</td>\n",
       "      <td>Sports</td>\n",
       "      <td>3</td>\n",
       "      <td>1</td>\n",
       "      <td>2</td>\n",
       "      <td>4</td>\n",
       "    </tr>\n",
       "  </tbody>\n",
       "</table>\n",
       "</div>"
      ],
      "text/plain": [
       "   Gender  Grade  Age   Race Urban/Rural School    Goals  Grades  Sports  \\\n",
       "12    boy      4    9  White       Rural    Elm  Popular       2       3   \n",
       "13    boy      4    9  White       Rural    Elm  Popular       4       2   \n",
       "14    boy      4    9  Other       Rural    Elm  Popular       4       3   \n",
       "15   girl      4    9  White       Rural    Elm   Grades       1       3   \n",
       "16   girl      4    9  White       Rural    Elm   Sports       3       1   \n",
       "\n",
       "    Looks  Money  \n",
       "12      4      1  \n",
       "13      3      1  \n",
       "14      2      1  \n",
       "15      2      4  \n",
       "16      2      4  "
      ]
     },
     "execution_count": 16,
     "metadata": {},
     "output_type": "execute_result"
    }
   ],
   "source": [
    "# Look at just the nine year olds\n",
    "age9 = by_age.get_group(9)\n",
    "age9.head(5)"
   ]
  },
  {
   "cell_type": "code",
   "execution_count": 17,
   "metadata": {
    "collapsed": false
   },
   "outputs": [
    {
     "data": {
      "text/plain": [
       "<matplotlib.axes._subplots.AxesSubplot at 0x118a2bf28>"
      ]
     },
     "execution_count": 17,
     "metadata": {},
     "output_type": "execute_result"
    }
   ],
   "source": [
    "# Look at the importance this group assigns to grades\n",
    "age9['Grades'].hist()"
   ]
  },
  {
   "cell_type": "markdown",
   "metadata": {},
   "source": [
    "### Student Challenge\n",
    "Create a similar histogram for the 11 year olds and comment on any changes you see between the 9 and 11 year olds."
   ]
  },
  {
   "cell_type": "code",
   "execution_count": null,
   "metadata": {
    "collapsed": false
   },
   "outputs": [],
   "source": []
  },
  {
   "cell_type": "markdown",
   "metadata": {},
   "source": [
    "### Students: add your interpretation here: "
   ]
  },
  {
   "cell_type": "markdown",
   "metadata": {},
   "source": []
  },
  {
   "cell_type": "markdown",
   "metadata": {},
   "source": [
    "<a id='Googlesheet'/a>\n",
    "## Loading data from a Google Spreadsheet\n",
    "[Top of Notebook](#Top)\n",
    "\n",
    "The ability to load data from a Google spreadsheet is exciting because you can share Google spreadsheets with others to create a collaborative document. If you email the link to a bunch of friends, each can enter their own data, and you can use Python to compile the results automatically. \n",
    "\n",
    "For example, in my Gen Ed class, \"Disasters, Geology vs. Hollywood,\" I challenge students to guess where on the Earth the biggest earthquake will occur each week. They enter three place names along with the latitude and longitude. Each week I download and plot their picks automatically and determine a winner by calculating who is closest to the actual biggest earthquake of the past 7 days. Doing this by hand would take considerable effort, but it only takes me a minute to run my Python script.  Automating boring stuff is one of the advantages of learning to program.\n",
    "\n",
    "### Class Height\n",
    "To get an idea of how this works, I've created a Google Spreadsheet for you to enter your name and your height in inches. I've already entered my data, and so has one of my graduate students. Here is the spreadsheet link.\n",
    "\n",
    "https://docs.google.com/spreadsheets/d/1IvuiznSgfpGb7YTrizOBQKZ3FneqNeegV4wq1giJ1gA/edit?usp=sharing\n",
    "\n",
    "### Student Challenge\n",
    "*** Go to this spreadsheet and add your own information. Just open another tab on your browser. ***\n",
    "\n",
    "Now let's access these data from Python.  Because this spreadsheat is \"public\" this is not hard to do. Private spreadsheets require password or token-based authentification, which is a bit trickier."
   ]
  },
  {
   "cell_type": "markdown",
   "metadata": {
    "collapsed": true
   },
   "source": [
    "The spreadsheet above's link is a long string of characters, but notice at the end of the URL is: /edit?usp=sharing\n",
    "telling us that this a link for a shared sheet and that it is editable. This part at the end is a 'request' that is added to the URL (web address). When you do an ordinary google search for any word you'll see your search terms added to the URL as a request (Try it in another browser tab). For example, when I search for \"python\" in a Google spreadsheet, the following URL is generated when I hit enter:\n",
    "https://www.google.com/search?q=python&oq=python&aqs=chrome..69i57j69i60l3j69i65j69i59.5701j0j4&sourceid=chrome&ie=UTF-8\n",
    "\n",
    "We actually want the Googlesheet request to return a CSV file (comma separated variable file) with the data when the URL is sent, so we have to modify the URL slightly. You'll see that in the code below.\n",
    "\n",
    "We used the Python module \"requests\" to send the web requests and the module \"StingIO\" (IO stands for input/output) to decode the result."
   ]
  },
  {
   "cell_type": "code",
   "execution_count": 18,
   "metadata": {
    "collapsed": false
   },
   "outputs": [
    {
     "data": {
      "text/html": [
       "<div>\n",
       "<table border=\"1\" class=\"dataframe\">\n",
       "  <thead>\n",
       "    <tr style=\"text-align: right;\">\n",
       "      <th></th>\n",
       "      <th>Name</th>\n",
       "      <th>Height_In_Inches</th>\n",
       "    </tr>\n",
       "  </thead>\n",
       "  <tbody>\n",
       "    <tr>\n",
       "      <th>0</th>\n",
       "      <td>Dr. Nyquist</td>\n",
       "      <td>70</td>\n",
       "    </tr>\n",
       "    <tr>\n",
       "      <th>1</th>\n",
       "      <td>Chelsea</td>\n",
       "      <td>65</td>\n",
       "    </tr>\n",
       "    <tr>\n",
       "      <th>2</th>\n",
       "      <td>Destiny</td>\n",
       "      <td>70</td>\n",
       "    </tr>\n",
       "    <tr>\n",
       "      <th>3</th>\n",
       "      <td>Steve</td>\n",
       "      <td>71</td>\n",
       "    </tr>\n",
       "    <tr>\n",
       "      <th>4</th>\n",
       "      <td>Evan</td>\n",
       "      <td>63</td>\n",
       "    </tr>\n",
       "    <tr>\n",
       "      <th>5</th>\n",
       "      <td>Laura</td>\n",
       "      <td>67</td>\n",
       "    </tr>\n",
       "    <tr>\n",
       "      <th>6</th>\n",
       "      <td>James</td>\n",
       "      <td>70</td>\n",
       "    </tr>\n",
       "    <tr>\n",
       "      <th>7</th>\n",
       "      <td>Brittany</td>\n",
       "      <td>66</td>\n",
       "    </tr>\n",
       "    <tr>\n",
       "      <th>8</th>\n",
       "      <td>Malia</td>\n",
       "      <td>64</td>\n",
       "    </tr>\n",
       "    <tr>\n",
       "      <th>9</th>\n",
       "      <td>Luke</td>\n",
       "      <td>74</td>\n",
       "    </tr>\n",
       "    <tr>\n",
       "      <th>10</th>\n",
       "      <td>Tenzin</td>\n",
       "      <td>65</td>\n",
       "    </tr>\n",
       "  </tbody>\n",
       "</table>\n",
       "</div>"
      ],
      "text/plain": [
       "           Name  Height_In_Inches\n",
       "0   Dr. Nyquist                70\n",
       "1       Chelsea                65\n",
       "2       Destiny                70\n",
       "3         Steve                71\n",
       "4          Evan                63\n",
       "5         Laura                67\n",
       "6         James                70\n",
       "7      Brittany                66\n",
       "8         Malia                64\n",
       "9          Luke                74\n",
       "10       Tenzin                65"
      ]
     },
     "execution_count": 18,
     "metadata": {},
     "output_type": "execute_result"
    }
   ],
   "source": [
    "from io import StringIO\n",
    "import requests\n",
    "import pandas as pd\n",
    "\n",
    "# requests sends the string to the web server and provides an object to access the returned data\n",
    "# Notice the format=csv at the end of the URL string.\n",
    "sheet_url = 'https://docs.google.com/spreadsheets/d/1IvuiznSgfpGb7YTrizOBQKZ3FneqNeegV4wq1giJ1gA/export?format=csv'\n",
    "r = requests.get(sheet_url)\n",
    "\n",
    "# Need to use decode as .content returns bytes. UTF-8 (https://en.wikipedia.org/wiki/UTF-8) is a way \n",
    "# to encode characters that can handle all sorts\n",
    "# of symbols such as arabic and chinese characters.\n",
    "# At this point 'data' holds the contents of the CSV file in a big ol' string variable.\n",
    "data = r.content.decode('utf-8')\n",
    "\n",
    "# Now use pandas to read the CSV data from the string into a dataframe\n",
    "# Notice that we use SringIO to read from string variable instead of opening a file.\n",
    "df = pd.read_csv(StringIO(data))\n",
    "\n",
    "# Display the dataframe\n",
    "df"
   ]
  },
  {
   "cell_type": "markdown",
   "metadata": {},
   "source": [
    "As other students add data to the Googlesheet the result of running this cell will update each time you run it.\n",
    "This is pretty cool!\n",
    "\n",
    "Note, this technique works only for a public spreadsheet. If you want Python to access a private spreadsheet the method is slightly more complicated because you have to pass authentification information in a way that doesn't make your password visible within your code.\n",
    "\n",
    "*** The trick where you add something to the end of your URL to form a request, query, etc. is a way to communicate with web servers that offer a RESTful API.  What is a RESTful API? I'm glad you asked!***"
   ]
  },
  {
   "cell_type": "markdown",
   "metadata": {},
   "source": [
    "## RESTful API\n",
    "\n",
    "Posted by: Margaret Rouse\n",
    "WhatIs.com\n",
    "\n",
    "> A RESTful API is an application program interface (API) that uses HTTP requests to GET, PUT, POST and DELETE data.\n",
    "\n",
    "> Representational state transfer (REST), which is used by browsers, can be thought of as the language of the Internet. Now that cloud usage is on the rise, various application programming interfaces (APIs) are emerging to expose Web services and REST is a logical choice for building APIs that allow end users to connect and interact with cloud services. RESTful APIs are used by many sites, including Google, Amazon, Twitter and LinkedIn.\n",
    "\n",
    "You'll get another chance to use a RESTful API in the Martian Challenge at the end of this notebook.\n",
    "\n",
    "\n"
   ]
  },
  {
   "cell_type": "markdown",
   "metadata": {},
   "source": [
    "<a id='JSON'/a>\n",
    "## Loading data from a JSON file\n",
    "[Top of Notebook](#Top)\n",
    "\n",
    "The most common programming language of the web is Javascript. Storing data in [Java Script Object Notation](https://en.wikipedia.org/wiki/JSON) (JSON) format is very common. Not to worry, you don't have to learn Javascript (Which all right-thinking programmers agree is yucky). Python can read JSON files because, no surprise, someone has written a module for it. Actually, the JSON file format is very similar to a Python dictionary, so you almost don't need this module.\n",
    "\n",
    "Data is often served up by an Application Programmer's Interface (API). Meaning you send a query and data is returned as you desired. Just as in the example above, the query is stuff added to the URL. For this example we are going to ask for information from the [Open Movie Database](http://www.omdbapi.com/). Their website is cool because they show you how to construct the query string. To get information about the plot of, what else, \"The Martian\" (if by some tragic twist of fate you didn't see the movie), the query we need is: http://www.omdbapi.com/?t=The+Martian&y=&plot=short&r=json\n",
    "\n",
    "Notice the bits added to the end of the URL? There is t= for title, plot= for, well duh, plot, and r= for the format of the returned data, which you can see is json.\n",
    "\n",
    "Let's see how to perform this query from Python and display the results."
   ]
  },
  {
   "cell_type": "code",
   "execution_count": 19,
   "metadata": {
    "collapsed": false
   },
   "outputs": [
    {
     "name": "stdout",
     "output_type": "stream",
     "text": [
      "{'Title': 'The Martian', 'Year': '2015', 'Rated': 'PG-13', 'Released': '02 Oct 2015', 'Runtime': '144 min', 'Genre': 'Adventure, Drama, Sci-Fi', 'Director': 'Ridley Scott', 'Writer': 'Drew Goddard (screenplay), Andy Weir (based on the novel by)', 'Actors': 'Matt Damon, Jessica Chastain, Kristen Wiig, Jeff Daniels', 'Plot': 'An astronaut becomes stranded on Mars after his team assume him dead, and must rely on his ingenuity to find a way to signal to Earth that he is alive.', 'Language': 'English, Mandarin', 'Country': 'USA, UK', 'Awards': 'Nominated for 7 Oscars. Another 34 wins & 179 nominations.', 'Poster': 'https://images-na.ssl-images-amazon.com/images/M/MV5BMTc2MTQ3MDA1Nl5BMl5BanBnXkFtZTgwODA3OTI4NjE@._V1_SX300.jpg', 'Ratings': [{'Source': 'Internet Movie Database', 'Value': '8.0/10'}, {'Source': 'Rotten Tomatoes', 'Value': '92%'}, {'Source': 'Metacritic', 'Value': '80/100'}], 'Metascore': '80', 'imdbRating': '8.0', 'imdbVotes': '549,548', 'imdbID': 'tt3659388', 'Type': 'movie', 'DVD': '12 Jan 2016', 'BoxOffice': '$202,313,768.00', 'Production': '20th Century Fox', 'Website': 'http://TheMartianMovie.com', 'Response': 'True'}\n"
     ]
    }
   ],
   "source": [
    "import requests\n",
    "import json\n",
    "\n",
    "# Notice that the request below asks for a short version of the plot\n",
    "url = 'http://www.omdbapi.com/?t=The+Martian&y=&plot=short&r=json'\n",
    "\n",
    "# Make the request\n",
    "r = requests.get(url)\n",
    "\n",
    "# Convert from bytes to unicode string\n",
    "data = r.content.decode('utf-8')\n",
    "\n",
    "# Load the data from the json string into a Python dictionary\n",
    "martian = json.loads(data)\n",
    "\n",
    "# Print the whole dictionary so you can see all the key:value pairs.\n",
    "print(martian)"
   ]
  },
  {
   "cell_type": "markdown",
   "metadata": {},
   "source": [
    "The result is a dictionary. We can print any element in the usual way by passing using the dictionary key."
   ]
  },
  {
   "cell_type": "code",
   "execution_count": 20,
   "metadata": {
    "collapsed": false
   },
   "outputs": [
    {
     "name": "stdout",
     "output_type": "stream",
     "text": [
      "dict_keys(['Title', 'Year', 'Rated', 'Released', 'Runtime', 'Genre', 'Director', 'Writer', 'Actors', 'Plot', 'Language', 'Country', 'Awards', 'Poster', 'Ratings', 'Metascore', 'imdbRating', 'imdbVotes', 'imdbID', 'Type', 'DVD', 'BoxOffice', 'Production', 'Website', 'Response'])\n"
     ]
    }
   ],
   "source": [
    "print(martian.keys())"
   ]
  },
  {
   "cell_type": "code",
   "execution_count": null,
   "metadata": {
    "collapsed": false
   },
   "outputs": [
    {
     "name": "stdout",
     "output_type": "stream",
     "text": [
      "An astronaut becomes stranded on Mars after his team assume him dead, and must rely on his ingenuity to find a way to signal to Earth that he is alive.\n"
     ]
    }
   ],
   "source": [
    "# Try one of the keys. Print the plot summary.\n",
    "print(martian['Plot'])"
   ]
  },
  {
   "cell_type": "markdown",
   "metadata": {},
   "source": [
    "### Student Challenge\n",
    "See if you can retrieve the plot for a different movie of your choosing."
   ]
  },
  {
   "cell_type": "code",
   "execution_count": null,
   "metadata": {
    "collapsed": true
   },
   "outputs": [],
   "source": []
  },
  {
   "cell_type": "markdown",
   "metadata": {
    "collapsed": true
   },
   "source": [
    "<a id='JSON'/a>\n",
    "## Scraping a Web Page\n",
    "[Top of Notebook](#Top)\n",
    "\n",
    "Many web pages display data in the form of a table, but do not provide any type of API, RESTful or unRESTful. Sure, you could cut and paste from the web page to get your data, but if the web page changes frequently cutting and pasting could get real old, real fast. \n",
    "\n",
    "The answer is to write a \"web scraper,\" which is a program that pulls the data directly from the web page. The most popular Python module written to scrape the web is called [beautiful soup](http://www.pythonforbeginners.com/beautifulsoup/beautifulsoup-4-python), a reference to Lewis Carroll and the Mock Turtle.  Since the beautiful soup module is designed to work directly with web pages, it helps to know something about HTML and XML, the formating language of the web. Don't worry, you only need to know a little.\n",
    "\n",
    "If you're just after tables, however, the pandas module can generally do the trick. First we use the urllib module to read the raw HTML from the target webpage.\n",
    "\n",
    "For this example we'll be looking at the latest golf player rankings. Not that I care about golf, but this is an example of a table on a webpage that changes regularly.  **Take a look at the website to see that table we're trying to scrape:** http://www.owgr.com/ranking"
   ]
  },
  {
   "cell_type": "code",
   "execution_count": null,
   "metadata": {
    "collapsed": false
   },
   "outputs": [],
   "source": [
    "from bs4 import BeautifulSoup\n",
    "import urllib\n",
    "\n",
    "# Read the webpage\n",
    "r = urllib.request.urlopen('http://www.owgr.com/ranking').read()\n",
    "\n",
    "# Parse it into components (title, tables, etc., with the Python module lxml )\n",
    "soup = BeautifulSoup(r, \"lxml\")\n",
    "print(type(soup))"
   ]
  },
  {
   "cell_type": "code",
   "execution_count": null,
   "metadata": {
    "collapsed": false
   },
   "outputs": [],
   "source": [
    "# Print the first 1000 characters in the web page to give you an idea what it looks like\n",
    "print(soup.prettify()[0:1000])"
   ]
  },
  {
   "cell_type": "markdown",
   "metadata": {},
   "source": [
    "All that stuff between angle brackets? That is HTML (Hypertext Markup Language).  So, for example, the title of the web page appears between < title \\> and < /title \\>.  The part we are looking for is the table, which appears a little further down with the key word < table >"
   ]
  },
  {
   "cell_type": "code",
   "execution_count": null,
   "metadata": {
    "collapsed": false
   },
   "outputs": [],
   "source": [
    "table = soup.find('table')\n",
    "print(table)"
   ]
  },
  {
   "cell_type": "markdown",
   "metadata": {},
   "source": [
    "** Wow! That's a lot of table!**\n",
    "\n",
    "This has all the information, including table headers < th >, table rows < tr > and the table data < td >. But we need to parse the html to get the table data.  Every table entry is enclosed between the table data tags.  For example:\n",
    "< td >430.62< /td > is the table entry 430.62.\n",
    "\n",
    "We need to extract these values. We could write loops to do this, but here is where the pandas module can save us a lot of work."
   ]
  },
  {
   "cell_type": "code",
   "execution_count": null,
   "metadata": {
    "collapsed": false
   },
   "outputs": [],
   "source": [
    "import pandas as pd\n",
    "\n",
    "# Extact all of the tables from the HTML data into a list of data frames.\n",
    "table = pd.read_html(r)\n",
    "\n",
    "# There is only one table, so copy it into an appropriately named dataframe.\n",
    "golf_ranking = table[0]\n",
    "golf_ranking"
   ]
  },
  {
   "cell_type": "markdown",
   "metadata": {
    "collapsed": true
   },
   "source": [
    "Notice that pandas extracted everything except the Ctry column, which if you look at the web page you'll see has an image of a flag for each country.  That is not a data type pandas understands, so it inserts a NaN into that column of the dataframe. NaN stands for Not a Number.\n",
    "\n",
    "But we have the data we care about (well, maybe \"care\" is too strong a word, unless you're a golf fan. :-)  Let's make a bar plot of the total points for the top ten players. The table is already sorted, so the top ten is just the first ten, so we can use the head() function to extract from the top players."
   ]
  },
  {
   "cell_type": "code",
   "execution_count": null,
   "metadata": {
    "collapsed": false
   },
   "outputs": [],
   "source": [
    "%matplotlib inline\n",
    "top_ten = golf_ranking.head(10)\n",
    "top_ten.plot('Name', 'Total Points', kind='bar')"
   ]
  },
  {
   "cell_type": "markdown",
   "metadata": {},
   "source": [
    "### Import Point \n",
    "By webscraping the data, this plot can be updated each week automatically simply by re-running the script. Automating repetitive tasks is one of the key benefits of learning to program. Of course, writing and debugging programs takes time, so automation only pays when you need to do the same thing a lot of times. Often I ask myself, \"Is this something would be faster to do editing by hand, or is it worth the time it takes to design, write and debug a program?\""
   ]
  },
  {
   "cell_type": "markdown",
   "metadata": {},
   "source": [
    "### Student Challenge\n",
    "This is just a writing exercise. Describe a website where you might be interested in scraping data on a regular basis. Include the URL. Maybe I'll look into it with you!"
   ]
  },
  {
   "cell_type": "markdown",
   "metadata": {},
   "source": []
  },
  {
   "cell_type": "markdown",
   "metadata": {
    "collapsed": true
   },
   "source": [
    "<a id='Mission'/a>\n",
    "## Martian Challenge: NASA APIs\n",
    "[Top of Notebook](#Top)\n",
    "\n",
    "Naturally, NASA offer quite a few APIs, which you can read about [here](https://api.nasa.gov/). If you want to be a heavy user of these APIs (say, you're building an App for lots of users) then you need to sign up for a developer key. But if your needs are modest (you're not going to hit the API more than 30 times per hour from any given computer), then the DEMO API key is good enough. That's what we'll use.\n",
    "\n",
    "### Example\n",
    "** Look at the documentation on retrieving [Mars Rover Photos](https://api.nasa.gov/api.html#assets). ** In the example below, I retrieve and plot\n",
    "\n",
    "https://api.nasa.gov/api.html#MarsPhotos"
   ]
  },
  {
   "cell_type": "code",
   "execution_count": null,
   "metadata": {
    "collapsed": true
   },
   "outputs": [],
   "source": [
    "import requests\n",
    "import json\n",
    "\n",
    "# Look at the end of the url. This request is for Sol day 10, Front hazard avoidance camera\n",
    "url = 'https://api.nasa.gov/mars-photos/api/v1/rovers/curiosity/photos?sol=1000&camera=fhaz&api_key=DEMO_KEY'\n",
    "\n",
    "# Make the request\n",
    "r = requests.get(url)"
   ]
  },
  {
   "cell_type": "code",
   "execution_count": null,
   "metadata": {
    "collapsed": false
   },
   "outputs": [],
   "source": [
    "# Convert from bytes to unicode string\n",
    "data = r.content.decode('utf-8')\n",
    "\n",
    "# Read the json data\n",
    "rover_metadata = json.loads(data)"
   ]
  },
  {
   "cell_type": "code",
   "execution_count": null,
   "metadata": {
    "collapsed": false
   },
   "outputs": [],
   "source": [
    "# Print the dictionary of information returned by the query\n",
    "# Notice that this is a complicated nested structure of lists and dictionaries inside a dictionary\n",
    "rover_metadata"
   ]
  },
  {
   "cell_type": "markdown",
   "metadata": {},
   "source": [
    "The information we need is the img_src (image source), which provides the url for the image we wanted."
   ]
  },
  {
   "cell_type": "code",
   "execution_count": null,
   "metadata": {
    "collapsed": false
   },
   "outputs": [],
   "source": [
    "# Look carfully at the output of the previous cell and you'll see that\n",
    "# img_src is a key in a dictionary that is in the first list that is in the dictionary named 'photos'.\n",
    "# So we reference it this way:\n",
    "rover_metadata['photos'][0]['img_src']"
   ]
  },
  {
   "cell_type": "code",
   "execution_count": null,
   "metadata": {
    "collapsed": false
   },
   "outputs": [],
   "source": [
    "import urllib\n",
    "import matplotlib.pyplot as plt\n",
    "\n",
    "url = rover_metadata['photos'][0]['img_src']\n",
    "\n",
    "# create a file-like object from the url\n",
    "f = urllib.request.urlopen(url)\n",
    "\n",
    "# read the image file in a numpy array\n",
    "a = plt.imread(f, format='jpg')\n",
    "\n",
    "# Plot the image using a greyscale (black and white) colormap\n",
    "plt.imshow(a,  cmap='Greys_r')\n",
    "plt.rcParams['figure.figsize'] = (10, 10)\n",
    "plt.show()"
   ]
  },
  {
   "cell_type": "markdown",
   "metadata": {
    "collapsed": true
   },
   "source": [
    "### Student Challenge: Your Mission\n",
    "See if you can retrieve and plot an image from one of the other cameras."
   ]
  },
  {
   "cell_type": "code",
   "execution_count": null,
   "metadata": {
    "collapsed": true
   },
   "outputs": [],
   "source": []
  },
  {
   "cell_type": "markdown",
   "metadata": {},
   "source": [
    "## STUDENT FEEDBACK\n",
    "Edit this markdown cell to provide feedback on this notebook. \n",
    "\n",
    "Specifically:\n",
    "\n",
    "Roughly, how much time did you spend?\n",
    "\n",
    "What, if anything, gave you trouble?\n",
    "\n",
    "What part did you like best?\n"
   ]
  },
  {
   "cell_type": "markdown",
   "metadata": {
    "collapsed": true
   },
   "source": [
    "# Supplemental Activity\n",
    "I assume you all have Google accounts.  Create your own Google spreadsheet with simple columns and headers. Make the sheet public and editable by anyone with the link, then see if you can write the python code to load the data into a Pandas dataframe and print it. Extras kudos if you plot the data too!\n"
   ]
  },
  {
   "cell_type": "code",
   "execution_count": null,
   "metadata": {
    "collapsed": true
   },
   "outputs": [],
   "source": []
  }
 ],
 "metadata": {
  "anaconda-cloud": {},
  "kernelspec": {
   "display_name": "Python 3",
   "language": "python",
   "name": "python3"
  },
  "language_info": {
   "codemirror_mode": {
    "name": "ipython",
    "version": 3
   },
   "file_extension": ".py",
   "mimetype": "text/x-python",
   "name": "python",
   "nbconvert_exporter": "python",
   "pygments_lexer": "ipython3",
   "version": "3.6.0"
  }
 },
 "nbformat": 4,
 "nbformat_minor": 0
}
