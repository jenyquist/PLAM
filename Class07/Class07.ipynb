{
 "cells": [
  {
   "cell_type": "markdown",
   "metadata": {},
   "source": [
    "<a id='Top' \\a>\n",
    "# Class07: A Review\n",
    "## Learning Objectives\n",
    "* [Variables and printing](#Variables)\n",
    "* [Basic Math](#BasicMath)\n",
    "* [Data Structures](#Structures)\n",
    "* [Control Structures](#Control)\n",
    "* [Functions and Modules](#Functions)\n",
    "* [File I/O](#IO)\n",
    "* [Martian Challenge: Food!](#Challenge)\n",
    "\n",
    "We are halfway through this four-week crash course in Python programming. We've covered a lot of ground quickly, and those of you with little prior computer experience my be feeling a little breathless, so we will begin the third week with a review. The notebook is fairly long, but concepts should be familiar.  We finish with a new Martian Challenge!"
   ]
  },
  {
   "cell_type": "markdown",
   "metadata": {},
   "source": [
    "<a id='Variables' /a>\n",
    "## Variables and printing\n",
    "Variables are where you store stuff. The most basic flavors are integers, floating points numbers (with a decimal point), and strings (text). Variable names must be one word and cannot begin with a number. Longer names can be constucted using underscores. Case matters, so big, Big, and BIG are different variable names. \n",
    "\n",
    "Some examples:"
   ]
  },
  {
   "cell_type": "code",
   "execution_count": 4,
   "metadata": {
    "collapsed": false
   },
   "outputs": [
    {
     "name": "stdout",
     "output_type": "stream",
     "text": [
      "Ni Hao! <class 'str'>\n",
      "2016 <class 'int'>\n",
      "3.142857142857143 <class 'float'>\n"
     ]
    }
   ],
   "source": [
    "# Example sting, integer and float\n",
    "mandarin_greeting = 'Ni Hao!'\n",
    "year = 2016\n",
    "pi_approximation = 22/7\n",
    "print(mandarin_greeting, type(mandarin_greeting))\n",
    "print(year, type(year))\n",
    "print(pi_approximation, type(pi_approximation))"
   ]
  },
  {
   "cell_type": "markdown",
   "metadata": {},
   "source": [
    "The print statement is the work-horse function for outputting results. You and print more than one variable and can use strings with variable substitution to insert your results."
   ]
  },
  {
   "cell_type": "code",
   "execution_count": 5,
   "metadata": {
    "collapsed": false
   },
   "outputs": [
    {
     "name": "stdout",
     "output_type": "stream",
     "text": [
      "Ni Hao! 2016 3.142857142857143\n",
      "Simple to remember, 22/7 is 3.142857142857143, which is reasonably close the real value of pi\n"
     ]
    }
   ],
   "source": [
    "# Multiple variables in one print statement\n",
    "print(mandarin_greeting, year, pi_approximation)\n",
    "print('Simple to remember, 22/7 is {0}, which is reasonably close the real value of pi'.format(pi_approximation))"
   ]
  },
  {
   "cell_type": "markdown",
   "metadata": {},
   "source": [
    "**Something new, so PAY ATTENTION:** You can also control the number of decimal places printed. In fact, there are a lot of special codes you can insert to fine-tune the appearance of the output. See: https://mkaz.tech/python-string-format.html for lots of examples.\n",
    "\n",
    "The basic ideas was that before we wrote {0} inside the string to substitute the first variable. But you can also write {0:some format code} where the format code comes after the semicolon. In the example below the format code is 0.4f, which mean four places after the decimal, and print as a floating point number."
   ]
  },
  {
   "cell_type": "code",
   "execution_count": 9,
   "metadata": {
    "collapsed": false
   },
   "outputs": [
    {
     "name": "stdout",
     "output_type": "stream",
     "text": [
      "3.1429\n"
     ]
    }
   ],
   "source": [
    "# Print 22/7 to exactly four decimal places\n",
    "print(\"{0:.4f}\".format(22/7))"
   ]
  },
  {
   "cell_type": "markdown",
   "metadata": {},
   "source": [
    "<a id='BasicMath' />\n",
    "## Basic math\n",
    "[Top of Notebook](#Top)\n",
    "\n",
    "Basic math operations are built into Python, but you must always be aware of which operations are performed first (operator precedence) as it is not a simple left-to-right evaluation. Use parenthesis if you need to enforce a particular order of operations."
   ]
  },
  {
   "cell_type": "code",
   "execution_count": 11,
   "metadata": {
    "collapsed": false
   },
   "outputs": [
    {
     "data": {
      "text/plain": [
       "22"
      ]
     },
     "execution_count": 11,
     "metadata": {},
     "output_type": "execute_result"
    }
   ],
   "source": [
    "1 + 3 * 7"
   ]
  },
  {
   "cell_type": "code",
   "execution_count": 12,
   "metadata": {
    "collapsed": false
   },
   "outputs": [
    {
     "data": {
      "text/plain": [
       "28"
      ]
     },
     "execution_count": 12,
     "metadata": {},
     "output_type": "execute_result"
    }
   ],
   "source": [
    "(1 + 3) * 7"
   ]
  },
  {
   "cell_type": "markdown",
   "metadata": {},
   "source": [
    "For more a more advanced operations you may need to load a module, such as the Python math module."
   ]
  },
  {
   "cell_type": "code",
   "execution_count": 18,
   "metadata": {
    "collapsed": false
   },
   "outputs": [
    {
     "name": "stdout",
     "output_type": "stream",
     "text": [
      "The approximation to pi of 22/7 is off by about -0.0013.\n",
      "Which is roughly 0.1 percent, or one part in a thousand.\n",
      "Good enough for government work? Not if you're NASA.\n"
     ]
    }
   ],
   "source": [
    "import math\n",
    "pi_approximation = 22/7\n",
    "true_pi = math.pi\n",
    "print('The approximation to pi of 22/7 is off by about {0:.4f}.'.format(true_pi - pi_approximation))\n",
    "print('Which is roughly 0.1 percent, or one part in a thousand.')\n",
    "\n",
    "# Notice this trick to print a string that contains an apostrophe.\n",
    "print(\"Good enough for government work? Not if you're NASA!\")"
   ]
  },
  {
   "cell_type": "markdown",
   "metadata": {},
   "source": [
    "**Student Challenge:** Square the number pi and print the result to seven decimal places."
   ]
  },
  {
   "cell_type": "code",
   "execution_count": null,
   "metadata": {
    "collapsed": true
   },
   "outputs": [],
   "source": []
  },
  {
   "cell_type": "markdown",
   "metadata": {},
   "source": [
    "<a id='Structures' /a>\n",
    "## Data Structures\n",
    "[Top of notebook](#Top)"
   ]
  },
  {
   "cell_type": "markdown",
   "metadata": {},
   "source": [
    "Beyond simple integers, floats and strings, Python has a number of data structures. The most common are lists, tuples and dictionaries (althougth there are others).\n",
    "\n",
    "List ans tuples are similar. Referencing a member or slicing out a portion works the same for both. The principle difference is that you can add, subtract or modify elements of a list, but tuples are immutable (unchangeable). You have to make a whole new tuple if you want a change."
   ]
  },
  {
   "cell_type": "markdown",
   "metadata": {},
   "source": [
    "### Lists"
   ]
  },
  {
   "cell_type": "code",
   "execution_count": 25,
   "metadata": {
    "collapsed": false
   },
   "outputs": [
    {
     "name": "stdout",
     "output_type": "stream",
     "text": [
      "<class 'list'>\n"
     ]
    }
   ],
   "source": [
    "# List are declared using square brackets\n",
    "my_hobbies = ['Chess', 'Go', 'Bicycling', 'Programming']\n",
    "print(type(my_hobbies))"
   ]
  },
  {
   "cell_type": "code",
   "execution_count": 20,
   "metadata": {
    "collapsed": false
   },
   "outputs": [
    {
     "name": "stdout",
     "output_type": "stream",
     "text": [
      "['Chess', 'Go', 'Bicycling', 'Programming', 'Travel']\n"
     ]
    }
   ],
   "source": [
    "# Add to a list with append()\n",
    "my_hobbies.append('Travel')\n",
    "print(my_hobbies)"
   ]
  },
  {
   "cell_type": "code",
   "execution_count": 21,
   "metadata": {
    "collapsed": false
   },
   "outputs": [
    {
     "name": "stdout",
     "output_type": "stream",
     "text": [
      "Bicycling\n"
     ]
    }
   ],
   "source": [
    "# Reference an element, count starts at zero\n",
    "print(my_hobbies[2])"
   ]
  },
  {
   "cell_type": "code",
   "execution_count": 22,
   "metadata": {
    "collapsed": false
   },
   "outputs": [
    {
     "name": "stdout",
     "output_type": "stream",
     "text": [
      "['Chess', 'Go', 'Reading', 'Programming', 'Travel']\n"
     ]
    }
   ],
   "source": [
    "# Modify an element\n",
    "my_hobbies[2] = 'Reading'\n",
    "print(my_hobbies)"
   ]
  },
  {
   "cell_type": "code",
   "execution_count": 24,
   "metadata": {
    "collapsed": false
   },
   "outputs": [
    {
     "name": "stdout",
     "output_type": "stream",
     "text": [
      "['Reading', 'Programming', 'Travel']\n"
     ]
    }
   ],
   "source": [
    "# Slice out a portion of a list\n",
    "# Note that 2:5 means elements 2, 3, and 4 (up to but not including 5)\n",
    "print(my_hobbies[2:5])"
   ]
  },
  {
   "cell_type": "markdown",
   "metadata": {},
   "source": [
    "### Tuples"
   ]
  },
  {
   "cell_type": "code",
   "execution_count": 34,
   "metadata": {
    "collapsed": false
   },
   "outputs": [
    {
     "name": "stdout",
     "output_type": "stream",
     "text": [
      "<class 'tuple'>\n"
     ]
    }
   ],
   "source": [
    "# List are declared using parentheses\n",
    "my_hobbies = ('Chess', 'Go', 'Bicycling', 'Programming')\n",
    "print(type(my_hobbies))"
   ]
  },
  {
   "cell_type": "code",
   "execution_count": 35,
   "metadata": {
    "collapsed": false
   },
   "outputs": [
    {
     "ename": "AttributeError",
     "evalue": "'tuple' object has no attribute 'append'",
     "output_type": "error",
     "traceback": [
      "\u001b[0;31m---------------------------------------------------------------------------\u001b[0m",
      "\u001b[0;31mAttributeError\u001b[0m                            Traceback (most recent call last)",
      "\u001b[0;32m<ipython-input-35-f6d2669ade54>\u001b[0m in \u001b[0;36m<module>\u001b[0;34m()\u001b[0m\n\u001b[1;32m      1\u001b[0m \u001b[0;31m# A tuple is immutable, so we get an error message when we try to add to it.\u001b[0m\u001b[0;34m\u001b[0m\u001b[0;34m\u001b[0m\u001b[0m\n\u001b[0;32m----> 2\u001b[0;31m \u001b[0mmy_hobbies\u001b[0m\u001b[0;34m.\u001b[0m\u001b[0mappend\u001b[0m\u001b[0;34m(\u001b[0m\u001b[0;34m'Travel'\u001b[0m\u001b[0;34m)\u001b[0m\u001b[0;34m\u001b[0m\u001b[0m\n\u001b[0m\u001b[1;32m      3\u001b[0m \u001b[0mprint\u001b[0m\u001b[0;34m(\u001b[0m\u001b[0mmy_hobbies\u001b[0m\u001b[0;34m)\u001b[0m\u001b[0;34m\u001b[0m\u001b[0m\n",
      "\u001b[0;31mAttributeError\u001b[0m: 'tuple' object has no attribute 'append'"
     ]
    }
   ],
   "source": [
    "# A tuple is immutable, so we get an error message when we try to add to it.\n",
    "my_hobbies.append('Travel')\n",
    "print(my_hobbies)"
   ]
  },
  {
   "cell_type": "code",
   "execution_count": 36,
   "metadata": {
    "collapsed": false
   },
   "outputs": [
    {
     "name": "stdout",
     "output_type": "stream",
     "text": [
      "Bicycling\n"
     ]
    }
   ],
   "source": [
    "# Reference an element, count starts at zero\n",
    "# Works the same as for a list\n",
    "print(my_hobbies[2])"
   ]
  },
  {
   "cell_type": "code",
   "execution_count": 37,
   "metadata": {
    "collapsed": false
   },
   "outputs": [
    {
     "name": "stdout",
     "output_type": "stream",
     "text": [
      "('Bicycling', 'Programming')\n"
     ]
    }
   ],
   "source": [
    "# Slice out a portion of a list\n",
    "# Note that that slicing a list returns a list\n",
    "# Slicing a tuple returns a tuple\n",
    "print(my_hobbies[2:5])"
   ]
  },
  {
   "cell_type": "code",
   "execution_count": 38,
   "metadata": {
    "collapsed": false
   },
   "outputs": [
    {
     "name": "stdout",
     "output_type": "stream",
     "text": [
      "<class 'list'>\n",
      "<class 'tuple'>\n",
      "<class 'tuple'>\n",
      "<class 'list'>\n"
     ]
    }
   ],
   "source": [
    "# You can convert a list to a tuple\n",
    "my_hobbies = ['Chess', 'Go', 'Bicycling', 'Programming']\n",
    "print(type(my_hobbies))\n",
    "my_hobbies = tuple(my_hobbies)\n",
    "print(type(my_hobbies))\n",
    "\n",
    "# Or a tuple to a list\n",
    "my_hobbies = ('Chess', 'Go', 'Bicycling', 'Programming')\n",
    "print(type(my_hobbies))\n",
    "my_hobbies = list(my_hobbies)\n",
    "print(type(my_hobbies))"
   ]
  },
  {
   "cell_type": "markdown",
   "metadata": {},
   "source": [
    "### Dictionaries\n",
    "Dictionaries hold key:value pairs and are great for storing data you want to look up by the key."
   ]
  },
  {
   "cell_type": "code",
   "execution_count": 40,
   "metadata": {
    "collapsed": false
   },
   "outputs": [
    {
     "name": "stdout",
     "output_type": "stream",
     "text": [
      "215-204-0744\n"
     ]
    }
   ],
   "source": [
    "# Dictionaries are declared using curly brackets and accessed by key\n",
    "library_phones = {'Circulation':'215-204-0744', 'Reserves':'215-204-0744', 'Reference':'215-204-8212'}\n",
    "print(library_phones['Circulation'])"
   ]
  },
  {
   "cell_type": "code",
   "execution_count": 43,
   "metadata": {
    "collapsed": false
   },
   "outputs": [
    {
     "name": "stdout",
     "output_type": "stream",
     "text": [
      "{'Reserves': '215-204-0744', 'Reference': '215-204-8212', 'Circulation': '215-204-0744', 'Exhibitions': '215-204-8257'}\n"
     ]
    }
   ],
   "source": [
    "# Dictionaries are mutable. Here we add an element.\n",
    "library_phones['Exhibitions'] = '215-204-8257'\n",
    "print(library_phones)"
   ]
  },
  {
   "cell_type": "markdown",
   "metadata": {},
   "source": [
    "**Important point:** The elements in a dictionary are not stored in any particular order. Notice that we defined the list with the elements in one order, but it printed in another. You can't reference an element by number, only by key.\n",
    "\n",
    "You can create a dictionary from two lists. But it involves **a new trick.** First you need to learn about the zip() function."
   ]
  },
  {
   "cell_type": "markdown",
   "metadata": {},
   "source": [
    "#### Zip function"
   ]
  },
  {
   "cell_type": "code",
   "execution_count": 50,
   "metadata": {
    "collapsed": false
   },
   "outputs": [
    {
     "data": {
      "text/plain": [
       "[('a', 1), ('b', 2), ('c', 3), ('d', 4)]"
      ]
     },
     "execution_count": 50,
     "metadata": {},
     "output_type": "execute_result"
    }
   ],
   "source": [
    "# Create two lists\n",
    "a = ['a', 'b', 'c', 'd']\n",
    "b = [1, 2, 3, 4]\n",
    "\n",
    "# Make a new list with zip\n",
    "# Zip returns a series of tuples, pairing the items in order.\n",
    "list(zip(a,b))"
   ]
  },
  {
   "cell_type": "markdown",
   "metadata": {},
   "source": [
    "#### Zip is perfect for turning two list in to dictionaries "
   ]
  },
  {
   "cell_type": "code",
   "execution_count": 53,
   "metadata": {
    "collapsed": false
   },
   "outputs": [
    {
     "name": "stdout",
     "output_type": "stream",
     "text": [
      "{'d': 4, 'b': 2, 'c': 3, 'a': 1}\n",
      "2\n"
     ]
    }
   ],
   "source": [
    "# Create two lists\n",
    "a = ['a', 'b', 'c', 'd']\n",
    "b = [1, 2, 3, 4]\n",
    "\n",
    "# Make a new dictionary with zip\n",
    "c = dict(zip(a, b))\n",
    "print(c)\n",
    "\n",
    "# Reference a value using its key\n",
    "print(c['b'])"
   ]
  },
  {
   "cell_type": "markdown",
   "metadata": {},
   "source": [
    "**Student Challenge:** Using the informatio in the table below, make a variable that is a list of cheeses and another variable that is a list of calories counts. Zip them into a dictionary, then print out the value for 'Edam'. (Note: Calories are based on a 28 gram serving size: http://bit.ly/2dAJUcK)\n",
    "\n",
    "\n",
    "| Cheese | Calories |\n",
    "|-------------------|\n",
    "| Cheddar | 75|\n",
    "| Feta | 110 |\n",
    "| Finuta | 101 |\n",
    "| Gouda | 80 |\n",
    "| Mozzarella | 80 |\n",
    "| Edam | 98 |\n"
   ]
  },
  {
   "cell_type": "markdown",
   "metadata": {},
   "source": [
    "<a id='Control'>\n",
    "## Control Structures\n",
    "[Top of notebook](#Top)\n",
    "\n",
    "Control structures are Python statements that alter the execution flow.  Without control structure a program just runs the statements in order from first to last.  Two commonly used control structures are loops and if/then statements. In both cases indentation is used to tell Python which statement are part of the structure."
   ]
  },
  {
   "cell_type": "markdown",
   "metadata": {},
   "source": [
    "### For Loops\n",
    "The type of loop we have learns so far is the for loop. When applied to a list or tuple it executes all of the statements inside the indented block once for each element."
   ]
  },
  {
   "cell_type": "code",
   "execution_count": 56,
   "metadata": {
    "collapsed": false
   },
   "outputs": [
    {
     "name": "stdout",
     "output_type": "stream",
     "text": [
      "1 squared is 1\n",
      "2 squared is 4\n",
      "3 squared is 9\n",
      "4 squared is 16\n",
      "5 squared is 25\n"
     ]
    }
   ],
   "source": [
    "# Generate a list of squares of numbers\n",
    "a = [1,2,3,4,5]\n",
    "for x in a:\n",
    "    print('{0} squared is {1}'.format(x, x**2))\n"
   ]
  },
  {
   "cell_type": "markdown",
   "metadata": {},
   "source": [
    "### While Loops (something new)\n",
    "While loops are a little different. They loop while a condition is true. Here is an example:"
   ]
  },
  {
   "cell_type": "code",
   "execution_count": 57,
   "metadata": {
    "collapsed": false
   },
   "outputs": [
    {
     "name": "stdout",
     "output_type": "stream",
     "text": [
      "1 squared is 1\n",
      "2 squared is 4\n",
      "3 squared is 9\n",
      "4 squared is 16\n",
      "5 squared is 25\n",
      "6 squared is 36\n",
      "7 squared is 49\n",
      "8 squared is 64\n",
      "9 squared is 81\n"
     ]
    }
   ],
   "source": [
    "# Loop until the number exceeds the limit.\n",
    "x = 1\n",
    "while x < 10:\n",
    "    print('{0} squared is {1}'.format(x, x**2))\n",
    "    x += 1"
   ]
  },
  {
   "cell_type": "markdown",
   "metadata": {},
   "source": [
    "At the start of the loop x = 1. Then each time through the value of x is incremented by one and tested to see if it is still less than 10. The loop ends when x < 10 evaluates as false. You have to be careful, though, if you accidently design a while loop where the condition is never false it will loop forever! For that reason, most of the time a for loop is better."
   ]
  },
  {
   "cell_type": "markdown",
   "metadata": {},
   "source": [
    "### If/then statements\n",
    "Another what change the flow is with the if/then combinations. A loop executes the same set of statements over and over. But the if/them combinations sends you down different pathwayss depending on some condition, or series of conditions.\n",
    "\n",
    "The if/elif (short for \"else if\") structure below prompts the user for his or her age and issue a bed time edict depending on the response. Try running the cell below a number of times entering differnt ages. Do you understand how it works?"
   ]
  },
  {
   "cell_type": "code",
   "execution_count": 67,
   "metadata": {
    "collapsed": false
   },
   "outputs": [
    {
     "name": "stdout",
     "output_type": "stream",
     "text": [
      "Enter your age: 18\n",
      "If you homework is done you can play video game or text your friends until 10 pm.\n"
     ]
    }
   ],
   "source": [
    "### Here we have different bed time behaviors depending on your age.\n",
    "age = input(prompt = 'Enter your age: ')\n",
    "\n",
    "# Input always returns a string. Convert it to a number.\n",
    "age = float(age)\n",
    "if age < 0:\n",
    "    print(\"Don't be stupid. Enter a positive age.\")\n",
    "elif age <= 10: \n",
    "    print('It is 8 p.m.')\n",
    "    print('Warm milk, a hug, and off to bed.')\n",
    "elif age > 10 and age <= 18:\n",
    "    print('If you homework is done you can play video game or text your friends until 10 pm.')\n",
    "elif age > 18 and age <= 22:\n",
    "    print('Drink beer and party until 2 a.m.')\n",
    "elif age > 22 and age <= 65:\n",
    "    print('TV off my 11 pm; you have to work tomorrow.')\n",
    "elif age > 65 and age <= 100:\n",
    "    print('It is 8 p.m.')\n",
    "    print('Warm milk, a hug, and off to bed.')\n",
    "else:\n",
    "    print('Over 100? Hell! Do what you want.')\n",
    "    "
   ]
  },
  {
   "cell_type": "markdown",
   "metadata": {},
   "source": [
    "**Student Challenge:** Create a variable that contains the following list of words: 'Carrots', 'Peas', 'Corn', 'Orange'. Loop over the list and print each element in all capital letters except for 'Orange', which you print unchanged.\n",
    "\n",
    "**Hint** Make the list. Loop over the elements and test to see if they are equal to Orange. Remember: to test for equality use ==, not =. The string method upper() will convert a string to all upper case."
   ]
  },
  {
   "cell_type": "code",
   "execution_count": null,
   "metadata": {
    "collapsed": false
   },
   "outputs": [],
   "source": []
  },
  {
   "cell_type": "markdown",
   "metadata": {},
   "source": [
    "<a id = 'Functions' \\a>\n",
    "## Functions and Modules\n",
    "[Top of Notebook](#Top)\n",
    "\n",
    "Functions you write yourself, or modules, which are collections of functions you or someone else wrote that can be loaded as needed, are a convenient way to write bits of code that accomplish a particular task. Once written, they can be used again and again in new projects. Creating new function is like adding new tools to your toolbox. Advance programmers create new bundles of functions and share then on the web, allowing other programmers to contribute. That is how new modules are born and the power of Python grows.\n",
    "\n",
    "Each function should be written to solve a fairly specific task. The function takes one or more input parameters and returns one or more outputs. "
   ]
  },
  {
   "cell_type": "code",
   "execution_count": 69,
   "metadata": {
    "collapsed": false
   },
   "outputs": [
    {
     "name": "stdout",
     "output_type": "stream",
     "text": [
      "Happy Birthday to you!\n",
      "Happy Birthday to you!\n",
      "Happy Birthday, dear Dana.\n",
      "Happy Birthday to you!\n"
     ]
    }
   ],
   "source": [
    "# This function take a person's name as input an then prints the Happy Birthday song for them.\n",
    "def happy(name):\n",
    "    print(\"Happy Birthday to you!\")\n",
    "    print(\"Happy Birthday to you!\")\n",
    "    print(\"Happy Birthday, dear {0}.\".format(name))\n",
    "    print(\"Happy Birthday to you!\")\n",
    "\n",
    "# Call the function\n",
    "happy('Dana')"
   ]
  },
  {
   "cell_type": "markdown",
   "metadata": {},
   "source": [
    "The function takes one input parameter and does it's thing, but does not return an output parameter.\n",
    "\n",
    "Here is a function that compute the length of the hypotenuse of a right triangle given the length of the two sides.\n",
    "![Right triangle](http://www.miniwebtool.com/s/i/pythagorean-theorem.png)"
   ]
  },
  {
   "cell_type": "code",
   "execution_count": 71,
   "metadata": {
    "collapsed": false
   },
   "outputs": [
    {
     "data": {
      "text/plain": [
       "5.0"
      ]
     },
     "execution_count": 71,
     "metadata": {},
     "output_type": "execute_result"
    }
   ],
   "source": [
    "# Define a function with two inputs and one output\n",
    "def hypotenuse(a,b):\n",
    "    import math\n",
    "    c = math.sqrt(a**2 + b**2)\n",
    "    return c\n",
    "\n",
    "hypotenuse(3, 4)"
   ]
  },
  {
   "cell_type": "markdown",
   "metadata": {},
   "source": [
    "** Student Challenge:** Write a function that accepts a number as the input parameter and prints \"Positive\" if the number greater than or equal to (>=) zero and \"Negative\" otherwise. Test your function."
   ]
  },
  {
   "cell_type": "markdown",
   "metadata": {},
   "source": [
    "<a id='IO' /a>\n",
    "## File I/O (Input/Output)\n",
    "[Top of Notebook](#Top)\n",
    "\n",
    "Accomplished any real programming task will involve reading and writing files. For now we will stick with simple text files. The with statement takes care of opening and closing the file object. It is easy to read a file line by line in a loop. Or, if  you don't need to operate on each line individually you can read in the whole file into a variable, as in the example below.\n",
    "\n",
    "The file named 'haiku.txt' should be in the same folder as this notebook."
   ]
  },
  {
   "cell_type": "code",
   "execution_count": 76,
   "metadata": {
    "collapsed": false
   },
   "outputs": [
    {
     "name": "stdout",
     "output_type": "stream",
     "text": [
      "I kill an ant\n",
      "and realize my three children\n",
      "have been watching.\n",
      "\n",
      "- Kato Shuson \n",
      "\n"
     ]
    }
   ],
   "source": [
    "with open('haiku.txt', 'r') as poem:\n",
    "    verse = poem.read()\n",
    "    print(verse)"
   ]
  },
  {
   "cell_type": "markdown",
   "metadata": {},
   "source": [
    "**Student Challenge:** Read in as second poem from the file 'haiku2.txt'. This time print the poem one line at a time inside a loop."
   ]
  },
  {
   "cell_type": "markdown",
   "metadata": {},
   "source": [
    "<a id='Challenge' /a>\n",
    "## Martian Challenge: Food!\n",
    "Based on: http://www.space.com/30776-math-in-the-martian-movie-explained-infographic.html\n",
    "\n",
    "[Top of Notebook](#Top)\n",
    "\n"
   ]
  },
  {
   "cell_type": "markdown",
   "metadata": {},
   "source": [
    "## How much food must Watney grow?"
   ]
  },
  {
   "cell_type": "markdown",
   "metadata": {},
   "source": [
    "### Calorie requirements\n",
    "Task: Calculate how many calories Watney must grow each day to survive.\n",
    "In words: \n",
    "Figure out how many days he must last after the food runs out\n",
    "Multiply by his daily calories requirement to get the total calories he must grow\n",
    "Divide this today by the number of days."
   ]
  },
  {
   "cell_type": "code",
   "execution_count": 78,
   "metadata": {
    "collapsed": false
   },
   "outputs": [
    {
     "name": "stdout",
     "output_type": "stream",
     "text": [
      "Watney must grow 1071 calories/day in addition to his remaining rations.\n"
     ]
    }
   ],
   "source": [
    "min_cal = 1500 # Minimum calories needed per day to survive\n",
    "available_food = 400 # Watney has rations for 400 sols\n",
    "time_to_rescue = 1400 # Number of sols until Watney can be rescued\n",
    "calories_needed = (time_to_rescue - available_food) * min_cal\n",
    "growth_rate = calories_needed/time_to_rescue\n",
    "print('Watney must grow {:.0f} calories/day in addition to his remaining rations.'.format(growth_rate))"
   ]
  },
  {
   "cell_type": "markdown",
   "metadata": {},
   "source": [
    "### How many pounds of potatoes must Watney grow?\n",
    "According tohttps://www.fatsecret.com/calories-nutrition/usda/russet-potatoes-(flesh-and-skin)?portionid=48884&portionamount=1.000\n",
    "a pound of potates has roughly 348 calories.\n",
    "![Potatoes](Potatoes.png)\n",
    "Calculate the total number pounds of potatoes Watney must grow to avoid starving."
   ]
  },
  {
   "cell_type": "code",
   "execution_count": null,
   "metadata": {
    "collapsed": true
   },
   "outputs": [],
   "source": []
  },
  {
   "cell_type": "markdown",
   "metadata": {},
   "source": [
    "### Does he have enough land?\n",
    "According to http://www.gardensofeden.org/04%20Crop%20Yield%20Verification.htm\n",
    "one of acre of land will yield 15,200 pounds of potatoes.  And Watney doesn't have to worry about lost of crops to pests.\n",
    "![Land](Land.png)\n",
    "Unfortunately, Watney only has 1,536 square feet of land, which is a less than an acre.  Convert, this area into acres and calculate how many pounds of potatoes Watney can expect to grow."
   ]
  },
  {
   "cell_type": "code",
   "execution_count": null,
   "metadata": {
    "collapsed": true
   },
   "outputs": [],
   "source": []
  },
  {
   "cell_type": "markdown",
   "metadata": {},
   "source": [
    "### Not enough!  \n",
    "Will Whatney stave? Maybe he can grow more than one crop. According to [this site](http://www.connexionfrance.com/potatoes-grow-france-how-long-varieties-10748-news-article.html) it can take up to 120 days to grow a crop.  But Whatney has 1400 sols. Can he raise enough crops?"
   ]
  },
  {
   "cell_type": "code",
   "execution_count": null,
   "metadata": {
    "collapsed": true
   },
   "outputs": [],
   "source": []
  },
  {
   "cell_type": "markdown",
   "metadata": {},
   "source": [
    "### Can Watney survive?"
   ]
  },
  {
   "cell_type": "markdown",
   "metadata": {},
   "source": []
  }
 ],
 "metadata": {
  "kernelspec": {
   "display_name": "Python 3",
   "language": "python",
   "name": "python3"
  },
  "language_info": {
   "codemirror_mode": {
    "name": "ipython",
    "version": 3
   },
   "file_extension": ".py",
   "mimetype": "text/x-python",
   "name": "python",
   "nbconvert_exporter": "python",
   "pygments_lexer": "ipython3",
   "version": "3.4.3"
  }
 },
 "nbformat": 4,
 "nbformat_minor": 0
}
