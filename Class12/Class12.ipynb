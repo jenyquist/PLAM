{
 "cells": [
  {
   "cell_type": "markdown",
   "metadata": {},
   "source": [
    "<a id='Top'/a>\n",
    "# Class 12: Advanced User Interface - Widgets!\n",
    "[Top of Notebook](#Top)\n",
    "\n",
    "## Learning Objectives: \n",
    "\n",
    "Finally, we come to the last notebook of the class. This past week we've looked at advanced data input, including APIs and web scraping. We sampled advanced analysis, including statistics, image processing and machine learning. In this final notebook we'll take a quick look at graphical user interfaces. \n",
    "\n",
    "What is a Graphical User Interface, or GUI for short? Well, until now all your interaction with programs has been through typing. Yet modern software involve point, click, dragging, menus, buttons, etc. Adding this level of interaction can make programs more user-friendly, but they are a lot more work for the programmer. In this notebook we'll introduce the idea of using \"widgets\" for user interaction. An introduction is as far as we'll get in this class, but there are loads of tutorials on the web, so explore further on you own!\n",
    "\n",
    "In this class we will look at:\n",
    "- [Event Handlers](#Events)\n",
    "- [Student Challenge 1](#Student1)\n",
    "- [World's Simplest Calculator](#Calculator)\n",
    "- [Student Challenge 2](#Student2)\n",
    "- [Checkboxes, Dropdowns, and Radio Buttons](#MoreWidgets)\n",
    "- [Interactive Widgets](#Interactive)\n",
    "- [Widget Properties](#Properties)\n",
    "- [Student Challenge 3](#Student3)\n",
    "- [Arranging Widgets](#Arrange)\n",
    "- [Martian Weather GUI](#Weather)\n",
    "- [Class Summary](#Back)"
   ]
  },
  {
   "cell_type": "markdown",
   "metadata": {},
   "source": [
    "<a id='Events' /a>\n",
    "## Event Handlers\n",
    "[Top of Notebook](#Top)\n",
    "\n",
    "To program with widgets you need to understand the idea of an event handler. Until now, all your programs have executed from the first line of code on though to the last. Oh sure, if statements send you down one branch or another. Loops that send you round and round. Functions jump off the main branch to do some task, then return to the main program. But basically, you know the order in which your code will execute. \n",
    "\n",
    "With GUIs you are handing control over to the user. This is scary! Users are perverse. You don't know in what order they will press buttons, move sliders or click on things. Instead of executing from the top down, your code has to respond to events. **An event is a mouse click, a button press, typing a value into an input box, selecting from a menu -- any way in which the user interacts graphically with your program.** Each event will trigger a \"callback\" to your code. Python will tell you what was clicked and ask you what to do -- it will \"call back\" to you saying, \"Hey, someone pushed this button. What should I do?\" You need to write a function to handle each user event in such a way that it doesn't matter in what order they were triggered.\n",
    "\n",
    "Let's begin our journey with a simple widget. We'll start with simple button. The user pushes it and you decide what happens."
   ]
  },
  {
   "cell_type": "code",
   "execution_count": 1,
   "metadata": {
    "collapsed": false
   },
   "outputs": [
    {
     "name": "stdout",
     "output_type": "stream",
     "text": [
      "What to know how to keep an idiot busy? Click button to find out.\n"
     ]
    }
   ],
   "source": [
    "from ipywidgets import widgets\n",
    "from IPython.display import display\n",
    "\n",
    "print('What to know how to keep an idiot busy? Click button to find out.')\n",
    "button = widgets.Button(description='Click me.')\n",
    "display(button)"
   ]
  },
  {
   "cell_type": "markdown",
   "metadata": {},
   "source": [
    "### You may have noticed the button doesn't do anything.\n",
    "We have a button, but clicking on it does nothing because there is no callback. Let's add a function that is called when a button click event is detected."
   ]
  },
  {
   "cell_type": "code",
   "execution_count": 2,
   "metadata": {
    "collapsed": false
   },
   "outputs": [],
   "source": [
    "from ipywidgets import widgets\n",
    "from IPython.display import display\n",
    "\n",
    "button = widgets.Button(description='Click me.')\n",
    "display(button)\n",
    "\n",
    "def on_button_clicked(b):\n",
    "    print('Button clicked.')\n",
    "    \n",
    "button.on_click(on_button_clicked)"
   ]
  },
  {
   "cell_type": "markdown",
   "metadata": {},
   "source": [
    "### How it works\n",
    "You created a button widget and displayed it. Every widget has as variety of methods build into it. A button, has an \"on_click\" event that is triggered when the button is clicked. You passed that method your callback function. So every time the user clicks the button your callback function is triggered. In this case the callback function simply prints the \"Button clicked\" message. Clck the button repeatedly, the message prints every time because every click is a new event."
   ]
  },
  {
   "cell_type": "markdown",
   "metadata": {},
   "source": [
    "<a id='Student1' /a>\n",
    "## Student Challenge 1\n",
    "[Top of Notebook](#Top)\n",
    "Create a button with the label \"Do not push.\" And a callback function that prints \"Kaboom!!!\" if the button is pushed."
   ]
  },
  {
   "cell_type": "code",
   "execution_count": null,
   "metadata": {
    "collapsed": true
   },
   "outputs": [],
   "source": []
  },
  {
   "cell_type": "markdown",
   "metadata": {},
   "source": [
    "## Text Input Widget\n",
    "The basic pattern of widget and callback is the same. See if you can figure how this widget works. In this case we create two widgets.  You type into the top one and see the result in the bottom one."
   ]
  },
  {
   "cell_type": "code",
   "execution_count": 3,
   "metadata": {
    "collapsed": false
   },
   "outputs": [],
   "source": [
    "input_text = widgets.Text()\n",
    "output_text = widgets.Text()\n",
    "display(input_text)\n",
    "display(output_text)\n",
    "\n",
    "def make_upper_case(sender):\n",
    "    output_text.value = input_text.value.upper()\n",
    "    \n",
    "input_text.on_submit(make_upper_case)"
   ]
  },
  {
   "cell_type": "markdown",
   "metadata": {},
   "source": [
    "Notice that we only have a callback defined for the top box, so typing text into the bottom one doesn't do anything when you hit enter."
   ]
  },
  {
   "cell_type": "markdown",
   "metadata": {},
   "source": [
    "<a id='Calculator' /a>\n",
    "## World's simplest calculator.\n",
    "[Top of Notebook](#Top)\n",
    "\n",
    "Let's take the two widgets we know and design a really, really simple calculator. You enter a number in each of the top two boxes, press the button, and the sum is displayed in the bottom box."
   ]
  },
  {
   "cell_type": "code",
   "execution_count": 4,
   "metadata": {
    "collapsed": false
   },
   "outputs": [],
   "source": [
    "# Create four widgets\n",
    "num1 = widgets.Text()\n",
    "num2 = widgets.Text()\n",
    "button = widgets.Button(description='Add')\n",
    "answer = widgets.Text()\n",
    "\n",
    "# Display the widgets\n",
    "display(num1)\n",
    "display(num2)\n",
    "display(button)\n",
    "display(answer)\n",
    "\n",
    "# Callback function\n",
    "def add_it(sender):\n",
    "    answer.value = str(float(num1.value) + float(num2.value))\n",
    "\n",
    "# Event that will trigger a callback\n",
    "button.on_click(add_it)"
   ]
  },
  {
   "cell_type": "markdown",
   "metadata": {},
   "source": [
    "We defined four widgets: three text boxes and a button, but we only wrote a callback for the button, so nothing will execute until the user presses the button.\n",
    "\n",
    "There is one trick here. The value of a text box is always a string even when you type in numbers; so when we want to work with numbers we have to convert them.  If you have a string \"7.9\", float(\"7.9\") will return the floating point number 7.9. \n",
    "\n",
    "But textboxes can only display strings, so after you add the values together you need to convert the sum back into a string. The str() function does this, so str(7.9) will convert the number 7.9 into the string \"7.9\"."
   ]
  },
  {
   "cell_type": "markdown",
   "metadata": {},
   "source": [
    "<a id='Student2' /a>\n",
    "## Student Challenge 2\n",
    "[Top of Notebook](#Top)\n",
    "\n",
    "Acutally, we didn't need the string-float conversion for out simple calculator because one of the widget available is widgets.FloatText(), which accepts floating point numbers instead of text. See if you can rewrite the calculator above using this widget in place of widgets.Text(). The code should be slightly simpler."
   ]
  },
  {
   "cell_type": "code",
   "execution_count": null,
   "metadata": {
    "collapsed": true
   },
   "outputs": [],
   "source": []
  },
  {
   "cell_type": "markdown",
   "metadata": {},
   "source": [
    "<a id='MoreWidgets' /a>\n",
    "## Three more widgets: Checkboxes, Dropdowns, RadioButtons\n",
    "[Top of Notebook](#Top)\n",
    "\n",
    "A check box is used for true/false. A dropdown is used to select a choice from a list. Here are examples of each."
   ]
  },
  {
   "cell_type": "code",
   "execution_count": 5,
   "metadata": {
    "collapsed": false
   },
   "outputs": [],
   "source": [
    "# Check box. Try checking and unchecking the box.\n",
    "# Notice we are using the callback function f defined earlier that prints it's argument.\n",
    "cb = widgets.Checkbox()\n",
    "display(cb)"
   ]
  },
  {
   "cell_type": "code",
   "execution_count": 6,
   "metadata": {
    "collapsed": false
   },
   "outputs": [],
   "source": [
    "# Dropdown for making choices. Click on the down arrow to see the options.\n",
    "dd = widgets.Dropdown(options=('Orange', 'Green', 'Blue'))\n",
    "display(dd)"
   ]
  },
  {
   "cell_type": "code",
   "execution_count": 7,
   "metadata": {
    "collapsed": true
   },
   "outputs": [],
   "source": [
    "# Radiobutton. By default only on option can be selected.\n",
    "rb = widgets.RadioButtons(\n",
    "        options=['pepperoni', 'pineapple', 'mushrooms'], description=\"Pizza topping:\")\n",
    "display(rb)"
   ]
  },
  {
   "cell_type": "markdown",
   "metadata": {},
   "source": [
    "The full list of widgets available can be found [here](http://ipywidgets.readthedocs.io/en/latest/examples/Widget%20List.html#Complete-list)."
   ]
  },
  {
   "cell_type": "markdown",
   "metadata": {},
   "source": [
    "<a id='Interactive' /a>\n",
    "## Interactive Widgets\n",
    "[Top of Notebook](#Top)\n",
    "\n",
    "Apart from the default widgets there is also “interact” which automatically generates a widget based on the arguments that you use.  At the most basic level, interact autogenerates controls for function arguments, and then calls the function with those arguments when you manipulate the controls interactively. To use interact, you need to define a function that you want to explore. Here is a function that prints its only argument x"
   ]
  },
  {
   "cell_type": "code",
   "execution_count": 8,
   "metadata": {
    "collapsed": false
   },
   "outputs": [
    {
     "name": "stdout",
     "output_type": "stream",
     "text": [
      "10\n"
     ]
    },
    {
     "data": {
      "text/plain": [
       "<function __main__.f>"
      ]
     },
     "execution_count": 8,
     "metadata": {},
     "output_type": "execute_result"
    }
   ],
   "source": [
    "from IPython.html.widgets import interact, interactive, fixed\n",
    "from IPython.html import widgets\n",
    "\n",
    "def f(x):\n",
    "    print(x)\n",
    "interact(f, x=widgets.IntSlider(min=-10,max=30,step=1,value=10))"
   ]
  },
  {
   "cell_type": "markdown",
   "metadata": {},
   "source": [
    "Notice how we set the range of the slider, in this case from -10 to 30 in steps of 1, and set the staring value to 10. As you move the slider it generates events that trigger new function calls to print the current value."
   ]
  },
  {
   "cell_type": "markdown",
   "metadata": {},
   "source": [
    "<a id='Properties' /a>\n",
    "## Widget Properties\n",
    "[Top of Notebook](#Top)\n",
    "\n",
    "You may have noticed that these are not the most colorful widget. All of the widgets have some properties that can be adjusted. Let's explicitly create a Dropdown widget and look at its properties."
   ]
  },
  {
   "cell_type": "code",
   "execution_count": 9,
   "metadata": {
    "collapsed": false
   },
   "outputs": [],
   "source": [
    "from ipywidgets import Layout\n",
    "cw = widgets.Dropdown(options=['Red', 'Green', 'Blue'])\n",
    "display(cw)"
   ]
  },
  {
   "cell_type": "code",
   "execution_count": 10,
   "metadata": {
    "collapsed": false
   },
   "outputs": [
    {
     "name": "stdout",
     "output_type": "stream",
     "text": [
      "['_options_labels', '_model_name', 'background_color', '_view_name', '_dom_classes', 'description', '_view_module', 'color', 'visible', 'disabled', 'layout', 'font_family', 'value', '_model_module', 'button_style', 'font_size', 'msg_throttle', 'font_weight', 'font_style']\n"
     ]
    }
   ],
   "source": [
    "# print the properties of this widget\n",
    "print(cw.keys)"
   ]
  },
  {
   "cell_type": "markdown",
   "metadata": {},
   "source": [
    "Notice that one of the properties is 'button_style.' Great, but what are the choices? Figuring this this out requires browsing the [online documentation.](http://ipywidgets.readthedocs.io/en/latest/index.html) The choices are:  button_style='', # 'success', 'info', 'warning', 'danger' or ''"
   ]
  },
  {
   "cell_type": "code",
   "execution_count": 11,
   "metadata": {
    "collapsed": false
   },
   "outputs": [],
   "source": [
    "# Adjust the button style to use 'info'\n",
    "cw = widgets.Dropdown(options=['Red', 'Green', 'Blue'], button_style='info')\n",
    "display(cw)"
   ]
  },
  {
   "cell_type": "markdown",
   "metadata": {},
   "source": [
    "\n",
    "<a id='Student3' /a>\n",
    "## Student Challenge 3\n",
    "[Top of Notebook](#Top)\n",
    "\n",
    "Create a button with the words \"Do Not Push!\" in the 'danger' style. (Inspired by Guardians of the Galazy 2)\n",
    "\n",
    "![Baby Groot](http://i.dailymail.co.uk/i/pix/2016/12/04/01/3B02A5EF00000578-3998002-I_am_Groot_Unfortunately_the_cute_little_character_has_a_hard_ti-m-10_1480815975438.jpg)"
   ]
  },
  {
   "cell_type": "code",
   "execution_count": null,
   "metadata": {
    "collapsed": true
   },
   "outputs": [],
   "source": []
  },
  {
   "cell_type": "markdown",
   "metadata": {},
   "source": [
    "<a id='Arrange' /a>\n",
    "## Arranging Widgets\n",
    "[Top of Notebook](#Top)\n",
    "\n",
    "A GUI with more than a few widgets requires some control over the widget layout. This is accomplished with container widgets. Two of the simplest container widgets are Hbox and Vbox for stacking widgets horizontally and vertically. Here is a simple exaample:"
   ]
  },
  {
   "cell_type": "code",
   "execution_count": 12,
   "metadata": {
    "collapsed": true
   },
   "outputs": [],
   "source": [
    "from ipywidgets import Button, HBox, VBox\n",
    "\n",
    "words = ['MAV', 'Rover', 'Battery', 'Rations']\n",
    "items = [Button(description=w) for w in words]\n",
    "\n",
    "HBox([VBox([items[0], items[1]]), VBox([items[2], items[3]])])"
   ]
  },
  {
   "cell_type": "markdown",
   "metadata": {},
   "source": [
    "Let's look line by line at how these four lines of code work because they demonstrate many of the skills we've learned over the past few weeks. See how much you understand.\n",
    "\n",
    "Line 1: We import objects we need form an external module named \"ipywidgets.\" \n",
    "\n",
    "Line 2: We create a list of strings we plan to use as Button labels.\n",
    "\n",
    "Line 3: We create a loop over the items in the list. For each item we create a button, assign the test string to the description, and add the button to a new list called \"items\" that hold the four buttons, one for each item in our original list.\n",
    "\n",
    "Line 4: We create to vertical containers (Vbox) inside one horizontal container (Hbox). In the first Vbox we put items 0 and 1 (Python list indices always start with zero), and in the second Vbox we put items 3 and 4. These items are our labeled buttons. The two Vboxes go into the Hbox. Look carefully at the parentheses and you'll see this.\n",
    "\n",
    "Note that we have no callback, so none buttons actually does anything..."
   ]
  },
  {
   "cell_type": "markdown",
   "metadata": {},
   "source": [
    "![Dust Storm](https://www.nasa.gov/sites/default/files/thumbnails/image/21_the_serpent_dust_devil_on_mars_pia15116-br2.jpg)\n",
    "\"A towering [dust devil](https://www.nasa.gov/feature/goddard/the-fact-and-fiction-of-martian-dust-storms) casts a serpentine shadow over the Martian surface in this image acquired by the High Resolution Imaging Science Experiment (HiRISE) camera on NASA's Mars Reconnaissance Orbiter.\""
   ]
  },
  {
   "cell_type": "markdown",
   "metadata": {},
   "source": [
    "<a id='Weather' /a>\n",
    "# Martian Weather GUI\n",
    "[Top of Notebook](#Top)\n",
    "\n",
    "We've learned how to make a widget, implement callbacks and arrange widgets.  Let's finish this whole programming module by building a simpe GUI App inside this notebook -- with a Martian theme, naturally!\n",
    "\n",
    "We will look at weather data from the Mars Pathfinder\n",
    "Reference: http://www-k12.atmos.washington.edu/k12/resources/mars_data-information/data.html\n",
    "\n",
    "The data set description shows the following columns\n",
    "\n",
    "    Year\t\t\t    Mars year, approximately 687 Earth days\n",
    "    Solar Longitude,\tAngular direction from Mars to the Sun, L_s in 0 to 360 degrees\n",
    "    Deg.                90 = summer, 180 = autumn, 270 = winter, 0 or 360 = spring in northern hemisphere\n",
    "    Sol\t\t\t        Martian days after landing; 1 sol is Viking landed on sol 0. One sol is 24.62 hours\n",
    "    Wind speed\t\t    Meters per second\n",
    "    Wind direction\t    Degrees, (direction from which the wind blows)\n",
    "    Pressure\t\t    mb = millibars, 1 mb = 100 hPa, where hPa = hecta Pascals\n",
    "    Temperature\t\t    Degrees; C = Centigrade; F = Fahrenheit\n",
    "\n",
    "We are going to design an application that will let Whatney plot weather data from the Mars Pathfinder.\n",
    "\n",
    "**Design Requirements:**\n",
    "* Start date (0-189) - Slider widget to chose the starting day of the plot\n",
    "* Date range (0-10) - Slider widget to chose the number of days of data to plot\n",
    "* Quantity to plot - Dropdown widget to choose which variable to plot\n",
    "* Plot it - a button to press when you are ready to plot the data with the updated parameter values\n",
    "\n",
    "We well use container widgets to control the layout."
   ]
  },
  {
   "cell_type": "markdown",
   "metadata": {},
   "source": [
    "*Let's start by loading and looking at the data.*"
   ]
  },
  {
   "cell_type": "code",
   "execution_count": 13,
   "metadata": {
    "collapsed": false
   },
   "outputs": [],
   "source": [
    "%matplotlib inline\n",
    "import pandas as pd\n",
    "\n",
    "# If you look at the text file you'll see that the first 69 lines are text\n",
    "# describing the data, so we have to skip that.\n",
    "mpf = pd.read_csv('MPF.txt', delim_whitespace=True, skiprows=69, header=0)"
   ]
  },
  {
   "cell_type": "code",
   "execution_count": 14,
   "metadata": {
    "collapsed": false
   },
   "outputs": [
    {
     "data": {
      "text/html": [
       "<div>\n",
       "<table border=\"1\" class=\"dataframe\">\n",
       "  <thead>\n",
       "    <tr style=\"text-align: right;\">\n",
       "      <th></th>\n",
       "      <th>Year</th>\n",
       "      <th>L_s</th>\n",
       "      <th>Sol</th>\n",
       "      <th>Wind_vel</th>\n",
       "      <th>Wind_dir</th>\n",
       "      <th>Pressure</th>\n",
       "      <th>Temp_F</th>\n",
       "      <th>Temp_C</th>\n",
       "    </tr>\n",
       "  </thead>\n",
       "  <tbody>\n",
       "    <tr>\n",
       "      <th>0</th>\n",
       "      <td>1</td>\n",
       "      <td>97.196</td>\n",
       "      <td>1.02</td>\n",
       "      <td>1.2</td>\n",
       "      <td>176</td>\n",
       "      <td>7.71</td>\n",
       "      <td>-108.90</td>\n",
       "      <td>-78.28</td>\n",
       "    </tr>\n",
       "    <tr>\n",
       "      <th>1</th>\n",
       "      <td>1</td>\n",
       "      <td>97.215</td>\n",
       "      <td>1.06</td>\n",
       "      <td>2.5</td>\n",
       "      <td>190</td>\n",
       "      <td>7.70</td>\n",
       "      <td>-113.98</td>\n",
       "      <td>-81.10</td>\n",
       "    </tr>\n",
       "    <tr>\n",
       "      <th>2</th>\n",
       "      <td>1</td>\n",
       "      <td>97.233</td>\n",
       "      <td>1.10</td>\n",
       "      <td>1.9</td>\n",
       "      <td>214</td>\n",
       "      <td>7.70</td>\n",
       "      <td>-117.33</td>\n",
       "      <td>-82.96</td>\n",
       "    </tr>\n",
       "    <tr>\n",
       "      <th>3</th>\n",
       "      <td>1</td>\n",
       "      <td>97.251</td>\n",
       "      <td>1.14</td>\n",
       "      <td>2.5</td>\n",
       "      <td>225</td>\n",
       "      <td>7.71</td>\n",
       "      <td>-119.88</td>\n",
       "      <td>-84.38</td>\n",
       "    </tr>\n",
       "    <tr>\n",
       "      <th>4</th>\n",
       "      <td>1</td>\n",
       "      <td>97.270</td>\n",
       "      <td>1.18</td>\n",
       "      <td>2.5</td>\n",
       "      <td>219</td>\n",
       "      <td>7.70</td>\n",
       "      <td>-121.72</td>\n",
       "      <td>-85.40</td>\n",
       "    </tr>\n",
       "  </tbody>\n",
       "</table>\n",
       "</div>"
      ],
      "text/plain": [
       "   Year     L_s   Sol  Wind_vel  Wind_dir  Pressure  Temp_F  Temp_C\n",
       "0     1  97.196  1.02       1.2       176      7.71 -108.90  -78.28\n",
       "1     1  97.215  1.06       2.5       190      7.70 -113.98  -81.10\n",
       "2     1  97.233  1.10       1.9       214      7.70 -117.33  -82.96\n",
       "3     1  97.251  1.14       2.5       225      7.71 -119.88  -84.38\n",
       "4     1  97.270  1.18       2.5       219      7.70 -121.72  -85.40"
      ]
     },
     "execution_count": 14,
     "metadata": {},
     "output_type": "execute_result"
    }
   ],
   "source": [
    "# Print the first few lines\n",
    "mpf.head()"
   ]
  },
  {
   "cell_type": "code",
   "execution_count": 15,
   "metadata": {
    "collapsed": false
   },
   "outputs": [
    {
     "data": {
      "text/plain": [
       "<matplotlib.axes._subplots.AxesSubplot at 0x114f9f630>"
      ]
     },
     "execution_count": 15,
     "metadata": {},
     "output_type": "execute_result"
    },
    {
     "data": {
      "image/png": "[encoded data removed]",
      "text/plain": [
       "<matplotlib.figure.Figure at 0x114f80f98>"
      ]
     },
     "metadata": {},
     "output_type": "display_data"
    }
   ],
   "source": [
    "# Make quick plot of all the data\n",
    "mpf.plot('Sol','Temp_F')"
   ]
  },
  {
   "cell_type": "markdown",
   "metadata": {},
   "source": [
    "It appears there was a period of time when the equipment was not operating. Also it is clear you can't see much if you plot all of the data at once."
   ]
  },
  {
   "cell_type": "code",
   "execution_count": 16,
   "metadata": {
    "collapsed": false
   },
   "outputs": [
    {
     "data": {
      "text/plain": [
       "<matplotlib.axes._subplots.AxesSubplot at 0x117acfda0>"
      ]
     },
     "execution_count": 16,
     "metadata": {},
     "output_type": "execute_result"
    },
    {
     "data": {
      "image/png": "[encoded data removed]",
      "text/plain": [
       "<matplotlib.figure.Figure at 0x1155376d8>"
      ]
     },
     "metadata": {},
     "output_type": "display_data"
    }
   ],
   "source": [
    "# Plot just 10 days of data\n",
    "mpf10days = mpf[mpf['Sol']<10]\n",
    "mpf10days.plot('Sol','Temp_F')"
   ]
  },
  {
   "cell_type": "markdown",
   "metadata": {},
   "source": [
    "The temperature data for 10 days shows us two things: (1) the temperature goes up and down with the rising and setting of the sun each Marian day; (2) it is fricking cold on Mars!"
   ]
  },
  {
   "cell_type": "code",
   "execution_count": 17,
   "metadata": {
    "collapsed": false
   },
   "outputs": [
    {
     "data": {
      "text/plain": [
       "<matplotlib.axes._subplots.AxesSubplot at 0x117fdd320>"
      ]
     },
     "execution_count": 17,
     "metadata": {},
     "output_type": "execute_result"
    },
    {
     "data": {
      "image/png": "[encoded data removed]",
      "text/plain": [
       "<matplotlib.figure.Figure at 0x118933518>"
      ]
     },
     "metadata": {},
     "output_type": "display_data"
    }
   ],
   "source": [
    "mpf10days.plot('Sol','Wind_vel')"
   ]
  },
  {
   "cell_type": "markdown",
   "metadata": {},
   "source": [
    "The wind velocity also changes with a daily cycle, but it is more irregular. Some days are windier then others."
   ]
  },
  {
   "cell_type": "markdown",
   "metadata": {},
   "source": [
    "## GUI Design\n",
    "This is probably the longest piece of code you've had to look at this entire class. Remember, in this final week I'm showing you some advanced stuff, so don't worry if you don't understand it all, but make the attempt anyway. See if you can figure out how it works."
   ]
  },
  {
   "cell_type": "code",
   "execution_count": 18,
   "metadata": {
    "collapsed": false
   },
   "outputs": [
    {
     "data": {
      "image/png": "[encoded data removed]",
      "text/plain": [
       "<matplotlib.figure.Figure at 0x1189a0898>"
      ]
     },
     "metadata": {},
     "output_type": "display_data"
    }
   ],
   "source": [
    "%matplotlib inline\n",
    "\n",
    "# Import the modules needed\n",
    "import numpy as np\n",
    "import pandas as pd\n",
    "from IPython import display\n",
    "from ipywidgets import widgets \n",
    "from IPython.display import display, clear_output, Image\n",
    "\n",
    "# Create the widgets\n",
    "\n",
    "# Slider to pick the starting day\n",
    "start_sol = widgets.FloatSlider(\n",
    "    value=1.0,\n",
    "    min=0.0,\n",
    "    max=189.0,\n",
    "    step=1.0,\n",
    "    description='Start Sol:',\n",
    "    continuous_update = False\n",
    ")\n",
    "\n",
    "# Slider to pick the number of days to plot\n",
    "ndays = widgets.FloatSlider(\n",
    "    value=1.0,\n",
    "    min=1.0,\n",
    "    max=10.0,\n",
    "    step=1.0,\n",
    "    description='Num Days:',\n",
    "    continuous_update = False\n",
    ")\n",
    "\n",
    "# Dropdown box to choose what to plot\n",
    "data_types = ['Wind_vel', 'Wind_dir', 'Pressure', 'Temp_F', 'Temp_C']\n",
    "units = ['m/s', 'degrees', 'millibars', 'deg F', 'deg C']\n",
    "data2plot = widgets.Dropdown(options=data_types, button_style='info')\n",
    "\n",
    "# Button to update the plot\n",
    "button = widgets.Button(description='Update Plot', button_style='primary')\n",
    "\n",
    "# Create the dashboard layout by putting widgets in containers\n",
    "container1 = widgets.VBox([start_sol, ndays])\n",
    "container2 = widgets.VBox([button, data2plot])\n",
    "dashboard = widgets.HBox([container1, container2])\n",
    "display(dashboard)\n",
    "\n",
    "# Create the callback function for the button press\n",
    "def on_button_clicked(b):\n",
    "    from IPython import display\n",
    "    \n",
    "    # Clear the output cell - if we don't do this we'll get multiple plots\n",
    "    display.clear_output(wait=True) \n",
    "    \n",
    "    # Extract data between start and end days\n",
    "    start = start_sol.value\n",
    "    end = start + ndays.value\n",
    "    data = mpf[(mpf['Sol'] >= start) & (mpf['Sol'] <= end)]\n",
    "    \n",
    "    # Plot the data\n",
    "    x = data['Sol']\n",
    "    y = data2plot.value\n",
    "    ax = data.plot(x, y)\n",
    "    \n",
    "    # Set the label on the y-axis to match the quantity being plotted\n",
    "    ind = data_types.index(y)\n",
    "    ax.set_ylabel(units[ind])\n",
    "    \n",
    "button.on_click(on_button_clicked)"
   ]
  },
  {
   "cell_type": "markdown",
   "metadata": {},
   "source": [
    "Try out the App. Work the controls and make sure you understand what they do. **See if you can plot the barametric pressure from Sol 54-60.**\n",
    "\n",
    "By the way, if you want to know the current weather on Mars, there's an App for that: http://cab.inta-csic.es/rems/en"
   ]
  },
  {
   "cell_type": "markdown",
   "metadata": {},
   "source": [
    "<a id='Back' /a>\n",
    "# Class Summary: Looking Back\n",
    "[Top of Notebook](#Top)\n",
    "\n",
    "![Wa Hoo](https://pmcdeadline2.files.wordpress.com/2015/10/martian.jpg?w=446&h=299&crop=1)\n",
    "\n",
    "Wow! We've come a long way -- from the first day when you printed \"Hello, world!\" to designing an application with interactive controls.  Along the way we've covered:\n",
    "* Python variables\n",
    "* Math operations\n",
    "* Comments\n",
    "* Different data types, such as integers, floats, lists, tuples, dictionaries\n",
    "* Control structures, such as loops and if/else statment\n",
    "* How to create functions\n",
    "* Loading modules\n",
    "* Reading and writing files\n",
    "* Plotting data\n",
    "* Debugging\n",
    "* Getting data from the web\n",
    "* Data processing methods\n",
    "* And finally, creating interactive widget and GUI design!\n",
    "\n",
    "**Along the way, you probably learned a bit about Mars as well!**\n",
    "\n",
    "It is really too much to understand it all in four weeks, but my approach has been to teach you the basics while giving you a glimpse of what is possible. I really hope you'll continue to explore Python programming on your own. You can continue to use your Python Anywhere account or you can download and install Python for free onto you own computer (I recommend the Anaconda disgtribution as it bundles up pretty much everything you need in one installation package -- https://www.continuum.io/downloads). If you want to give this a try, I can help."
   ]
  },
  {
   "cell_type": "code",
   "execution_count": null,
   "metadata": {
    "collapsed": true
   },
   "outputs": [],
   "source": []
  }
 ],
 "metadata": {
  "anaconda-cloud": {},
  "kernelspec": {
   "display_name": "Python [conda root]",
   "language": "python",
   "name": "conda-root-py"
  },
  "language_info": {
   "codemirror_mode": {
    "name": "ipython",
    "version": 3
   },
   "file_extension": ".py",
   "mimetype": "text/x-python",
   "name": "python",
   "nbconvert_exporter": "python",
   "pygments_lexer": "ipython3",
   "version": "3.5.2"
  },
  "widgets": {
   "state": {
    "31f135e6ed62445185a08da582d3c5c9": {
     "views": [
      {
       "cell_index": 45
      }
     ]
    },
    "36d18356e1bd454bbde5d5ea914c3cf2": {
     "views": [
      {
       "cell_index": 18
      }
     ]
    },
    "372f6e2813d743508a0626ab887e120e": {
     "views": [
      {
       "cell_index": 2
      }
     ]
    },
    "45d9204516f04dfca070ba9423a4ff2d": {
     "views": [
      {
       "cell_index": 28
      }
     ]
    },
    "56620b07210944d49c19b3cbd9976421": {
     "views": [
      {
       "cell_index": 25
      }
     ]
    },
    "616c15ba176a41f8aabc1de150a31d54": {
     "views": [
      {
       "cell_index": 32
      }
     ]
    },
    "780481df22a14b689aff4261b692eb07": {
     "views": [
      {
       "cell_index": 19
      }
     ]
    },
    "91e0b8648f90480f9e538ac439a52c04": {
     "views": [
      {
       "cell_index": 9
      }
     ]
    },
    "979d0ead95e7429e8e9959b193ac82c0": {
     "views": [
      {
       "cell_index": 22
      }
     ]
    },
    "97bdd514413f49b9ae1f9164b2580da2": {
     "views": [
      {
       "cell_index": 12
      }
     ]
    },
    "b8d13439c7c8481abb3c7c9358388b19": {
     "views": [
      {
       "cell_index": 12
      }
     ]
    },
    "cda0647f4f1840ebb85d7f71bdc024f5": {
     "views": [
      {
       "cell_index": 9
      }
     ]
    },
    "d3015aed175a403e86bcca5fc9a3bcfd": {
     "views": [
      {
       "cell_index": 4
      }
     ]
    },
    "d595596c67534bfba5fdd0d4511bf17d": {
     "views": [
      {
       "cell_index": 12
      }
     ]
    },
    "e5c93129cb9a49e1bbbfd9d050991431": {
     "views": [
      {
       "cell_index": 17
      }
     ]
    },
    "eaecbc83727d4600907fca1aca9a73f2": {
     "views": [
      {
       "cell_index": 12
      }
     ]
    }
   },
   "version": "1.2.0"
  }
 },
 "nbformat": 4,
 "nbformat_minor": 1
}
