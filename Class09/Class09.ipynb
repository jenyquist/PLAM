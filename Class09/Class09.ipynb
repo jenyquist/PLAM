{
 "cells": [
  {
   "cell_type": "markdown",
   "metadata": {},
   "source": [
    "<a id='Top' /a>\n",
    "# Class09: Designing and Debugging\n",
    "## Learning Objectives\n",
    "* [Understanding Error Messages](#Error)\n",
    "* [Inserting print statements](#Print)\n",
    "* [Commenting out code](#Comment)\n",
    "* [Debuggers: A more sophisticaed approach](#Debugger)\n",
    "* [Unit testing](#Unit)\n",
    "* [Refactoring](#Refactor)\n",
    "* [Martian Challenge](#Challenge)"
   ]
  },
  {
   "cell_type": "markdown",
   "metadata": {},
   "source": [
    "<a id='Error' /a>\n",
    "## Understanding Error Messages\n",
    "[Top of Notebook](#Top)\n",
    "\n",
    "Python tries to be helpful, it really does. It always tells you the problem with your code. The problem is the traceback it spits out is in computerese. My advice here is to at least try to understand what Python is saying. This  gets easier with practice.  \n",
    "\n",
    "Let's look at some examples."
   ]
  },
  {
   "cell_type": "code",
   "execution_count": 5,
   "metadata": {
    "collapsed": false
   },
   "outputs": [
    {
     "ename": "TypeError",
     "evalue": "unsupported operand type(s) for +: 'int' and 'str'",
     "output_type": "error",
     "traceback": [
      "\u001b[0;31m---------------------------------------------------------------------------\u001b[0m",
      "\u001b[0;31mTypeError\u001b[0m                                 Traceback (most recent call last)",
      "\u001b[0;32m<ipython-input-5-8313b8c9bb11>\u001b[0m in \u001b[0;36m<module>\u001b[0;34m()\u001b[0m\n\u001b[0;32m----> 1\u001b[0;31m \u001b[0mx\u001b[0m \u001b[0;34m=\u001b[0m \u001b[0;36m1\u001b[0m \u001b[0;34m+\u001b[0m \u001b[0;34m'cat'\u001b[0m\u001b[0;34m\u001b[0m\u001b[0m\n\u001b[0m",
      "\u001b[0;31mTypeError\u001b[0m: unsupported operand type(s) for +: 'int' and 'str'"
     ]
    }
   ],
   "source": [
    "x = 1 + 'cat'"
   ]
  },
  {
   "cell_type": "markdown",
   "metadata": {},
   "source": [
    "Silly me. I tried to add 1 to a cat. Python starts by telling me I made a \"TypeError,\" meaning some variable is the wrong type (string, integer, list, tuple, etc.). Python draws an arrow pointing at the offending statement (There was only one line of code in this case). Then it tells me that + is an operation that is not supported with an integer and a string. You can't add numbers to text. Python is trying hard to tell me what is wrong.\n",
    "\n",
    "Let's try a slightly more complicated example with multiple lines of code."
   ]
  },
  {
   "cell_type": "code",
   "execution_count": null,
   "metadata": {
    "collapsed": false
   },
   "outputs": [],
   "source": [
    "# Create two integer variables\n",
    "a = 2\n",
    "b = 3\n",
    "\n",
    "# Put the variables in a list, increment one of them and print the result.\n",
    "c = [a, b]\n",
    "c[1] = b + 1\n",
    "print(c)\n",
    "\n",
    "# Put the variables in a tuple, increment one of them and print the result. \n",
    "d = (a, b)\n",
    "d[1] = b + 1\n",
    "print(d)"
   ]
  },
  {
   "cell_type": "markdown",
   "metadata": {},
   "source": [
    "Okay, this is a bit more cryptic.  I made a list with two variables, a and b, then I changed the seccond element of the list (The first element is element zero, remember?) Python had no problem with this.\n",
    "\n",
    "Then I created a tuple the same way and tried changing the second element. The arrow in the error message is pointing at line 8 saying there is a problem, something about tuples and not supporting item assignment? What Python is trying to say is that tuples are immutable. Lists you can alter, but tuples can't be changed. You have to redefine  the variable d because it is a tuple. If you want to alter it, you can't just replace an element in a tuple."
   ]
  },
  {
   "cell_type": "markdown",
   "metadata": {
    "collapsed": true
   },
   "source": [
    "### Student Challenge \n",
    "Decipher the error message for the code below and explain what it means in the cell following the error message."
   ]
  },
  {
   "cell_type": "code",
   "execution_count": null,
   "metadata": {
    "collapsed": false
   },
   "outputs": [],
   "source": [
    "John_age = 10\n",
    "Mary_age = 12\n",
    "combined_age = Jon_age + Mary_age"
   ]
  },
  {
   "cell_type": "markdown",
   "metadata": {},
   "source": []
  },
  {
   "cell_type": "markdown",
   "metadata": {},
   "source": [
    "Too easy? Try this one."
   ]
  },
  {
   "cell_type": "code",
   "execution_count": null,
   "metadata": {
    "collapsed": false
   },
   "outputs": [],
   "source": [
    "famous_books = ['Catcher in the Rye', 'Grapes of Wrath', 'The Martian']\n",
    "for book in famous books\n",
    "    print(book)"
   ]
  },
  {
   "cell_type": "markdown",
   "metadata": {},
   "source": []
  },
  {
   "cell_type": "markdown",
   "metadata": {},
   "source": [
    "Okay. One more to see if you're getting the hang of debugging."
   ]
  },
  {
   "cell_type": "code",
   "execution_count": null,
   "metadata": {
    "collapsed": false
   },
   "outputs": [],
   "source": [
    "x = [23, 9, -3, 0, 5]\n",
    "print(x[1])\n",
    "print(x[5])"
   ]
  },
  {
   "cell_type": "markdown",
   "metadata": {},
   "source": []
  },
  {
   "cell_type": "markdown",
   "metadata": {},
   "source": [
    "<a id='Print' /a>\n",
    "## Inserting print statements\n",
    "[Top of Notebook](#Top)\n",
    "\n",
    "Sometimes reading error messages just isn't enough. Sometime there is no error message but the answer is wrong, so you know there is a mistake somewhere. Inserting print statements to check the values of variable at intermediate stages is a technique as old as programming, but it works!\n",
    "\n",
    "Here is an example of code the runs without error but gives the wrong answer. The objective is to find the average number of letters for all the words in a string of text."
   ]
  },
  {
   "cell_type": "code",
   "execution_count": null,
   "metadata": {
    "collapsed": false
   },
   "outputs": [],
   "source": [
    "quote = '''If a hiker gets lost in the mountains, people will coordinate a search. If a train crashes, \n",
    "people will line up to give blood. If an earthquake levels a city, people all over the world will send \n",
    "emergency supplies. This is so fundamentally human that it's found in every culture without exception. \n",
    "Yes, there are assholes who just don't care, but they're massively outnumbered by the people who do.'''\n",
    "\n",
    "num_words = 0\n",
    "total = 0\n",
    "for word in quote.split():\n",
    "    total += len(word)\n",
    "    num_words += 1\n",
    "average = total/num_words\n",
    "print('The average word length is:', average)"
   ]
  },
  {
   "cell_type": "markdown",
   "metadata": {},
   "source": [
    "So what's wrong with this? You calculate an average by adding up numbers and dividing by the number of numbers. The average of 3, 5, 9, is (3 + 5 + 9)/3. In this code we divide the quote into words, add up the the word lengths, and divide by the number of words. There is no error message, but the average length is wrong.\n",
    "\n",
    "It is not a syntax error, it is a logic error. One way to catch these is to insert print statements. Let's see if the split() method is doing what we intended."
   ]
  },
  {
   "cell_type": "code",
   "execution_count": null,
   "metadata": {
    "collapsed": false
   },
   "outputs": [],
   "source": [
    "quote = '''If a hiker gets lost in the mountains, people will coordinate a search. If a train crashes, \n",
    "people will line up to give blood. If an earthquake levels a city, people all over the world will send \n",
    "emergency supplies. This is so fundamentally human that it's found in every culture without exception. \n",
    "Yes, there are assholes who just don't care, but they're massively outnumbered by the people who do.'''\n",
    "\n",
    "num_words = 0\n",
    "total = 0\n",
    "for word in quote.split():\n",
    "    total += len(word)\n",
    "    num_words += 1\n",
    "    print(word)               # Here is the print statement added for debugging.\n",
    "average = total/num_words\n",
    "print('The average word length is:', average)"
   ]
  },
  {
   "cell_type": "markdown",
   "metadata": {},
   "source": [
    "The split() method divides a string based on white spaces. When we print the words we see that punctuation is included in the word. We want \"care,\" to count as four letters, not five, which includes the comma.\n",
    "\n",
    "This is actually a tricky problem. Do we want to include apostrophes? Is \"don't\" a five letter word? Is it two words? Do you have to undo the contractions?  We'll skip that debate and say we will treat it as one word and count the apostrophe, but we really want to eliminate the commas and periods.\n",
    "\n",
    "An easy way to alter a string is with the built in [replace()](https://www.tutorialspoint.com/python/string_replace.htm) method."
   ]
  },
  {
   "cell_type": "code",
   "execution_count": null,
   "metadata": {
    "collapsed": false
   },
   "outputs": [],
   "source": [
    "# replace() example\n",
    "pet = 'dig'\n",
    "pet = pet.replace('i','o')\n",
    "print(pet)"
   ]
  },
  {
   "cell_type": "markdown",
   "metadata": {},
   "source": [
    "We can use this method to replace all the commas and periods with empty strings."
   ]
  },
  {
   "cell_type": "code",
   "execution_count": null,
   "metadata": {
    "collapsed": false
   },
   "outputs": [],
   "source": [
    "quote = '''If a hiker gets lost in the mountains, people will coordinate a search. If a train crashes, \n",
    "people will line up to give blood. If an earthquake levels a city, people all over the world will send \n",
    "emergency supplies. This is so fundamentally human that it's found in every culture without exception. \n",
    "Yes, there are assholes who just don't care, but they're massively outnumbered by the people who do.'''\n",
    "\n",
    "num_words = 0\n",
    "total = 0\n",
    "for word in quote.split():\n",
    "    total += len(word)\n",
    "    num_words += 1\n",
    "    word = word.replace(\",\",\"\")\n",
    "    word = word.replace(\".\",\"\")\n",
    "    print(word)\n",
    "average = total/num_words\n",
    "print(average)"
   ]
  },
  {
   "cell_type": "markdown",
   "metadata": {},
   "source": [
    "### Student Challenge\n",
    "The code above fixed the words by replacing commas and periods with nothing (\"\" is a string of zero length). The debug print statement shows that those pesky characters are gone. But the average is the same? Grrrr! What's wrong now? Squashing bugs is hard!\n",
    "\n",
    "See if you can find the logic error and calculate the correct average. Hint: You probably don't need to insert print statements if you carefully review the order in which the steps are performed."
   ]
  },
  {
   "cell_type": "code",
   "execution_count": null,
   "metadata": {
    "collapsed": false
   },
   "outputs": [],
   "source": []
  },
  {
   "cell_type": "markdown",
   "metadata": {
    "collapsed": true
   },
   "source": [
    "<a id='Comment' /a>\n",
    "## Commenting out code\n",
    "[Top of Notebook](#Top)\n",
    "\n",
    "Once you have fixed your code you could simply delete all the print statements you inserted while you were debugging. But then if a new bug pops up you'll have to reinsert them, so a simple alternative is to turn them into comments so that Python will ignore them. Below is an example where print statements have been inserted to check calculation results along the way and then commented out when the code was debugged."
   ]
  },
  {
   "cell_type": "code",
   "execution_count": null,
   "metadata": {
    "collapsed": false
   },
   "outputs": [],
   "source": [
    "a = 9 + 7\n",
    "# print(a)\n",
    "b = 12 - 3\n",
    "# print(b)\n",
    "print(a + b)"
   ]
  },
  {
   "cell_type": "markdown",
   "metadata": {},
   "source": [
    "<a id='Debugger' /a>\n",
    "## Debuggers: A more sophisticated approach\n",
    "[Top of Notebook](#Top)\n",
    "\n",
    "Debugging your code using print statements is a simple and time-honored approach, but as your code grows longer and longer those extra print statement just add to the visual clutter. At some point more programmers reach for more sophisticated tools such as debuggers, which allow you to execute your program one line at a time and inspect the contents of all variables at any step. Learning to use a debugger is beyond the scope of this class,but you should be aware that [they exist](https://docs.python.org/3/library/pdb.html). \n",
    "\n",
    "It you continue to persue programming for fun or profit after this class you should teach yourself how to use a debugger."
   ]
  },
  {
   "cell_type": "markdown",
   "metadata": {},
   "source": [
    "<a id='Unit' /a>\n",
    "## Unit Testing\n",
    "[Top of Notebook](#Top)\n",
    "\n",
    "Another technique that is very hot in the programming world is \"unit testing.\" The basic idea is to build tests right into your code so that every unit of code has its own test. This has three advantages. \n",
    "\n",
    "1. If you design the tests first, then you can just code until the tests run without and error.  You have a solution when your tests all pass.\n",
    "2. If you modify your code later to add some feature and you break something else (this happens a lot) then one of your units tests is likely to fail, warning you that your new feature has introduced a bug.\n",
    "3. If each unit (e.g., function) has its own test built in then you can reassemble the functions in new programs to solve different tasks knowing all the pieces work as designed.\n",
    "\n",
    "Unit testing is a big topic -- books have been written about it -- but you can accomplish a fair amount with the simple \"assert\" statement. As usual, this is easiest to understand by working through a couple of examples. Basically, the asset statement asserts that something is true.  If you code is working it the assertion will evaluate as true and nothing happens. If evalutes as not true python tells you the assertion failed."
   ]
  },
  {
   "cell_type": "code",
   "execution_count": null,
   "metadata": {
    "collapsed": false
   },
   "outputs": [],
   "source": [
    "# Assertion is true so nothing will print.\n",
    "a = 2\n",
    "b = 2\n",
    "assert a==b"
   ]
  },
  {
   "cell_type": "code",
   "execution_count": null,
   "metadata": {
    "collapsed": false
   },
   "outputs": [],
   "source": [
    "# Assertionn is false so python will report an error.\n",
    "a = 2\n",
    "b = 3\n",
    "assert a==b"
   ]
  },
  {
   "cell_type": "markdown",
   "metadata": {},
   "source": [
    "So what good is that? We hide assertions in our code that automatically check that everything is working the way we want. For example, suppose we wrote a function to square numbers. We add a few assertions, so make sure the function is returning correct values"
   ]
  },
  {
   "cell_type": "code",
   "execution_count": null,
   "metadata": {
    "collapsed": true
   },
   "outputs": [],
   "source": [
    "def square_it(x):\n",
    "    return x*x\n",
    "\n",
    "assert square_it(2) == 4\n",
    "assert square_it(-4) == 16\n",
    "assert square_it(0) == 0"
   ]
  },
  {
   "cell_type": "markdown",
   "metadata": {},
   "source": [
    "Notice that we test that the function works for negative numbers as well as positive ones. Those assert statements are lying quietly in the code, ready to sound the alarm if a bug appears. They are like the indicator lights in your car that come on only if there is a problem. It doesn't hurt to insert a few of these tests whenever you write code, just to check that your functions are behaving themselves."
   ]
  },
  {
   "cell_type": "markdown",
   "metadata": {},
   "source": [
    "### Student challenge: Write the code to satisfy the assertion.\n",
    "In the cell below the assertions have already been written for a function that prints the last word in a string. Your challenge is to write the function named \"last_word\" that accepts a string as the input parameter and returns the last word of that string. If you code it correctly the assert statements execute without error. \n",
    "\n",
    "In other words, if you call a your function like this:\n",
    "\n",
    "last_word('All is well')\n",
    "\n",
    "It should return the string 'well', which is the last word in the string.\n",
    "\n",
    "Hint: recall that the split method applied to a string returns a list of words and that -1 is the index of the last element of any list, tuple or array."
   ]
  },
  {
   "cell_type": "code",
   "execution_count": null,
   "metadata": {
    "collapsed": false
   },
   "outputs": [],
   "source": [
    "# You fill in the rest of the function\n",
    "def last_word(text):\n",
    "    # Fill in your code here\n",
    "    \n",
    "    \n",
    "\n",
    "assert last_word('This is a test') == 'test'\n",
    "assert last_word('My dog has fleas') == 'fleas'"
   ]
  },
  {
   "cell_type": "markdown",
   "metadata": {},
   "source": [
    "<a id='Refactor'/a>\n",
    "## Refactoring Code\n",
    "[Top of Notebook](#Top)\n",
    "\n",
    "You've written some code and it passes the tests. But later on you realize that maybe your code isn't as readable as it could be, or perhaps the varibles could have better names, or you discover you are using the same bits of code in several places so it would make sense to write a function to replace the repetious code. Refactoring is not debugging -- you are just improving working code, not fixing a bug. Refactoring is just a fancy way of saying that we are going to take code that works and make it better. Refactoring is to code as editing is to a story. To quote the man who wrote the book on refactoring:\n",
    "\n",
    ">\"Refactoring is the process of changing a software system in such a way that it does not alter the external behavior of the code yet improves its internal structure. It is a disciplined way to clean up code that minimizes the chances of introducing bugs. In essence when you refactor you are improving the design of code after it has been written.\" ~ Martin Fowler 1999\n",
    "\n",
    "Refactoring goes hand in hand with unit testing, because the unit tests will alert you if you break something while refactoring."
   ]
  },
  {
   "cell_type": "markdown",
   "metadata": {},
   "source": [
    "### A simple example: compound interest\n",
    "\n",
    "Suppose you want to know how much your student loan is going to cost you to repay. You know how much you borrowed, but there is the little matter of compound interest. When you pay back a loan, you actually have to pay the interest first before any of your payments go toward actually paying down your debt (I know, right?). The same formula applies for interest accruing to your savings account, but in you favor.\n",
    "\n",
    "The formula for compound interest is:\n",
    "$$ A = P\\left(1 + \\frac{r}{n}\\right)^{nt} $$\n",
    "\n",
    "* P  = principal amount (the initial amount you borrow or deposit)\n",
    "* r  = annual rate of interest (as a decimal)\n",
    "* t  = number of years the amount is deposited or borrowed for.\n",
    "* A  = amount of money (debt or savings) accumulated after n years, including interest.\n",
    "* n  = number of times the interest is compounded per year \n",
    "\n",
    "[This site](https://qrc.depaul.edu/StudyGuide2009/Notes/Savings%20Accounts/Compound%20Interest.htm) gives an example calculation. The values: P = 1500, r = 4.3%, so r = 4.3/100 = 0.043, n = 4, t = 6 should yield $1,938.84. We can use this known example to create our assertion statement to test our code.\n",
    "\n",
    "So let's write a function to calculate compound interest. The input parameters will be the stuff in the right side of the above equation and the function should return A, the accumulated amount of money."
   ]
  },
  {
   "cell_type": "code",
   "execution_count": null,
   "metadata": {
    "collapsed": false
   },
   "outputs": [],
   "source": [
    "def compound_interest(P, r, n, t):\n",
    "    import math\n",
    "    A = P*math.pow((1 + (r/n)), n*t)\n",
    "    return A\n",
    "\n",
    "# Test statement to check the function is working correctly.\n",
    "assert compound_interest(1500, 0.043, 4, 6) == 1938.84"
   ]
  },
  {
   "cell_type": "markdown",
   "metadata": {},
   "source": [
    "The code looks right, but the assertion fails. So to debug we insert a print statement."
   ]
  },
  {
   "cell_type": "code",
   "execution_count": null,
   "metadata": {
    "collapsed": false
   },
   "outputs": [],
   "source": [
    "def compound_interest(P, r, n, t):\n",
    "    import math\n",
    "    A = P*math.pow((1 + (r/n)), n*t)\n",
    "    return A\n",
    "\n",
    "print(compound_interest(1500, 0.043, 4, 6))\n",
    "assert compound_interest(1500, 0.043, 4, 6) == 1938.84"
   ]
  },
  {
   "cell_type": "markdown",
   "metadata": {},
   "source": [
    "The code is correct!  The assertion fails because we are comparing the output of our function with a number that has been rounded to two decimal places. \n",
    "\n",
    "Technically, 1938.8368221341054 is not exactly equal to 1938.84, so the assertion fails. Actually, checking equality between two floating point numbers is a bad idea. The computer cannot compute numbers to an infinite number of decimal places, so numbers might only be a teansey, weansy bit different but the test for equality will fail.\n",
    "\n",
    "The solution is to test whether the numbers are acceptably close. In this case, we're happy if they agree within a penny. So we subtract the two numbers and check that their difference is less than 0.01. We take the absolute value of the difference because we don't know in advance which will be larger."
   ]
  },
  {
   "cell_type": "code",
   "execution_count": null,
   "metadata": {
    "collapsed": false
   },
   "outputs": [],
   "source": [
    "def compound_interest(P, r, n, t):\n",
    "    import math\n",
    "    A = P*math.pow((1 + (r/n)), n*t)\n",
    "    return A\n",
    "\n",
    "# Check the answer is good to within a penny\n",
    "tolerance = 0.01\n",
    "assert abs(compound_interest(1500, 0.043, 4, 6) - 1938.84) < tolerance"
   ]
  },
  {
   "cell_type": "markdown",
   "metadata": {},
   "source": [
    "Yay! We've debugged our code to the point were we know it works for at least one test case. We should probably add more tests, and would if the code were more complicated.\n",
    "\n",
    "Now that we have function code we are going to refactor it.  This is pretty simple code, but we can still make improvements. Let's start by adding a \"doc sting,\" which is a multi-line string enclosed in triple single quotes."
   ]
  },
  {
   "cell_type": "code",
   "execution_count": 7,
   "metadata": {
    "collapsed": true
   },
   "outputs": [],
   "source": [
    "def compound_interest(P, r, n, t):\n",
    "    '''\n",
    "    This function calculates the compound interest: \n",
    "       Input Parameters:\n",
    "       P: principal amount (the initial amount you borrow or deposit)\n",
    "       r: annual rate of interest (as a decimal)\n",
    "       t: number of years the amount is deposited or borrowed for\n",
    "       n: number of times the interest is compounded per year  \n",
    "       Output Parameters:\n",
    "       A: amount of money accumulated after n years, including interest.\n",
    "    '''\n",
    "    import math\n",
    "    A = P*math.pow((1 + (r/n)), n*t)\n",
    "    return A\n",
    "\n",
    "tolerance = 0.01\n",
    "assert abs(compound_interest(1500, 0.043, 4, 6) - 1938.84) < tolerance"
   ]
  },
  {
   "cell_type": "markdown",
   "metadata": {},
   "source": [
    "If you run the code the assertion still passes, so we didn't break the function.  So what good is the doc string?  Well, suppose you are giving this function to someone else and they want to know how to use it. They can use the help command."
   ]
  },
  {
   "cell_type": "code",
   "execution_count": 8,
   "metadata": {
    "collapsed": false
   },
   "outputs": [
    {
     "name": "stdout",
     "output_type": "stream",
     "text": [
      "Help on function compound_interest in module __main__:\n",
      "\n",
      "compound_interest(P, r, n, t)\n",
      "    This function calculates the compound interest: \n",
      "       Input Parameters:\n",
      "       P: principal amount (the initial amount you borrow or deposit)\n",
      "       r: annual rate of interest (as a decimal)\n",
      "       t: number of years the amount is deposited or borrowed for\n",
      "       n: number of times the interest is compounded per year  \n",
      "       Output Parameters:\n",
      "       A: amount of money accumulated after n years, including interest.\n",
      "\n"
     ]
    }
   ],
   "source": [
    "help(compound_interest)"
   ]
  },
  {
   "cell_type": "markdown",
   "metadata": {},
   "source": [
    "The help command returned the doc string without the user needing to read your code.  Doc strings are available for all built-in python commands. For example:"
   ]
  },
  {
   "cell_type": "code",
   "execution_count": null,
   "metadata": {
    "collapsed": false
   },
   "outputs": [],
   "source": [
    "help(abs)"
   ]
  },
  {
   "cell_type": "code",
   "execution_count": null,
   "metadata": {
    "collapsed": false
   },
   "outputs": [],
   "source": [
    "help(print)"
   ]
  },
  {
   "cell_type": "markdown",
   "metadata": {},
   "source": [
    "So when you create functions that others might use, you should add doc strings.\n",
    "\n",
    "There is more we could do to improve the code. For example, we could check that the arguments are valid. We wouldn't want someone to enter a value of zero for n, because we'd end up dividing by zero. Or we could check that the input parameters are numbers, not strings, i.e., 1.0 and not \"1.0\".  But I think you get the idea.  Once you get you code working you should stop and check if there are ways to improve the logic, the documentation, the efficiency, the variable names, add error checking, etc.\n",
    "\n",
    "Before we most on to the Martian Challege, let's use our function to look at the interest you are likely to pay on a typical student loan. This example comes from [this website](https://studentloanhero.com/featured/how-student-loan-interest-works/).\n",
    "\n",
    ">To understand how compound interest works, let’s look at an example Direct Loan with a $10,000 balance and a 4.29% interest rate, which is the current rate for undergraduate loans.\n",
    "\n",
    ">If this loan were compounded annually, 4.29% of the loan balance would be charged annually. In this case, the interest would be $429 once per year.\n",
    "\n",
    ">However, student loans are not compounded annually, they are compounded daily. Rather than charge 4.29% once per year, that number is divided by 365 and compounds daily, or 0.0118% per day. Assuming a \\$10,000 balance, that is $1.175 per day.\n",
    "\n",
    "Let's check that with the function we wrote."
   ]
  },
  {
   "cell_type": "code",
   "execution_count": 9,
   "metadata": {
    "collapsed": false
   },
   "outputs": [
    {
     "name": "stdout",
     "output_type": "stream",
     "text": [
      "The interest accrued $1.175 per day.\n"
     ]
    }
   ],
   "source": [
    "P = 10000 # principal\n",
    "r = 4.29/100 # interest rate is 4.29 percent, which we convert to a decimal\n",
    "n = 365 # Number of times per year the interest is compounded, which is daily\n",
    "t = 1/365 # We are interested in interest added to our loan in one day, or 1/365th of a year.\n",
    "new_balance = compound_interest(10000, 0.0429, 365, 1/365)\n",
    "interest = new_balance - P\n",
    "print('The interest accrued ${0:.3f} per day.'.format(interest))"
   ]
  },
  {
   "cell_type": "markdown",
   "metadata": {},
   "source": [
    "The website goes on to demonstrate how much less you pay if you can accerate your payments. It is worthwhile reading for those of you with student debt.\n",
    "\n",
    "Compound interest can work in your favor, too. Any money you save when you are early in your career will grow into a nice nest egg by the time you need to put *your* kids through college. So maybe they won't need to take out student loans!"
   ]
  },
  {
   "cell_type": "markdown",
   "metadata": {},
   "source": [
    "<a id='Challenge'/a>\n",
    "## Help Watney debug his code\n",
    "[Top of Notebook](#Top)\n",
    "\n",
    "Below are two functions designed to solve various tasks with Python. Each function has one or more errors. Your challenge is to fix them. You'll know you've succeeded when the assert statement executes without error."
   ]
  },
  {
   "cell_type": "code",
   "execution_count": null,
   "metadata": {
    "collapsed": false
   },
   "outputs": [],
   "source": [
    "def calorie_count(menu):\n",
    "    '''Function to calculate the calories in a meal when passed a menu as a list. The calories of \n",
    "       various foods available to Watney are stored in a dictionary. The function iterates over the\n",
    "       items in the menu and sums up the calories.'''\n",
    "    \n",
    "    # Items in the pantry (this is before he has only potatoes). \n",
    "    pantry = {'potato': 100, 'ketchup':20, 'energy_bar': 200, 'macncheese'; 350, 'chicken':300,\n",
    "              'cereal': 225, 'eggs':125, 'dried_fruit':175, 'pudding':300, 'beans':90}\n",
    "    \n",
    "    # Initialize the variable holding the calorie total to zero\n",
    "    total_calories = 0\n",
    "    \n",
    "    # Loop over the items in menu and sum the calories.\n",
    "    for item in menu:\n",
    "        total_calories += pantry{item}\n",
    "    return total_calories\n",
    "\n",
    "\n",
    "# Test the function\n",
    "assert calorie_count(['potato', 'ketchup', 'energy_bar']) == 320      "
   ]
  },
  {
   "cell_type": "markdown",
   "metadata": {},
   "source": [
    "To understand the next function, let's learn a couple of tricks. First, let's see how to convert a string into list or tuple of the individual characters."
   ]
  },
  {
   "cell_type": "code",
   "execution_count": null,
   "metadata": {
    "collapsed": false
   },
   "outputs": [],
   "source": [
    "quote = 'Tell Commander Lewis, disco sucks.'\n",
    "\n",
    "# Convert it to a list\n",
    "quote_characters = list(quote)\n",
    "print('As a list:')\n",
    "print(quote_characters)\n",
    "print()\n",
    "\n",
    "# Or a tuple\n",
    "quote_characters = tuple(quote)\n",
    "print('As a tuple:')\n",
    "print(quote_characters)"
   ]
  },
  {
   "cell_type": "markdown",
   "metadata": {},
   "source": [
    "The next concept we need to learn to understand the function below is modular division. For numbers, modular devision just returns the remainder after you perform the division. When you divide 10 by 3, it goes in three times with a remainder of 1. The percent sign is the modular division operator. For example:"
   ]
  },
  {
   "cell_type": "code",
   "execution_count": null,
   "metadata": {
    "collapsed": false
   },
   "outputs": [],
   "source": [
    "print(10 % 3)\n",
    "print(20 % 6)"
   ]
  },
  {
   "cell_type": "markdown",
   "metadata": {},
   "source": [
    "### The big trick\n",
    "If I have a list with 26 elements (the alphabet), and I try to access it with an index that is too big, I'll get an error. When, what I really want is to do to wrap around to the beginning. If I used modular division to get the remainder when I divide my index by the length of the list I'll get exactly what I want.  Let's see this using a shorter string as an example."
   ]
  },
  {
   "cell_type": "code",
   "execution_count": null,
   "metadata": {
    "collapsed": false
   },
   "outputs": [],
   "source": [
    "# Make a list of five characters in the word hello.\n",
    "test_list = list('Hello')\n",
    "print(test_list)"
   ]
  },
  {
   "cell_type": "raw",
   "metadata": {},
   "source": [
    "The list starts at zero, if I try to access the list with the index 6, I want the numbers to wrap around so\n",
    "I start counting again from the beginning of the list.\n",
    "\n",
    "H e l l o\n",
    "0 1 2 3 4\n",
    "5 6\n",
    "\n",
    "So the index 6 should get me the letter 'e', which is element 1 of the list. But wait! 6 divided by 5 has a remainder of 1, so all I have to do is apply modular division. Divide the index by the length of the list and\n",
    "use the remainder as the new index. Here are some examples. Convince yourself this trick works!"
   ]
  },
  {
   "cell_type": "code",
   "execution_count": null,
   "metadata": {
    "collapsed": false
   },
   "outputs": [],
   "source": [
    "index = 3\n",
    "print(test_list[3])\n",
    "\n",
    "index = 6\n",
    "print(test_list[index % len(test_list)])\n",
    "\n",
    "index = 8\n",
    "print(test_list[index % len(test_list)])"
   ]
  },
  {
   "cell_type": "markdown",
   "metadata": {},
   "source": [
    "### Student Challenge"
   ]
  },
  {
   "cell_type": "markdown",
   "metadata": {},
   "source": [
    "Now you are in a position to understand what Mark is trying to do in the next function.  See if you can get it to work. \n",
    "\n",
    "Hint1: It is easy to mix up () and [] if you're not careful.\n",
    "\n",
    "Hint2: Sometimes the problem is with the line right before the error message."
   ]
  },
  {
   "cell_type": "code",
   "execution_count": null,
   "metadata": {
    "collapsed": false
   },
   "outputs": [],
   "source": [
    "def mess_with_NASA(message, offset):\n",
    "    '''\n",
    "    Mark is bored (four years on Mars!), so he decides to screw with NASA a bit, and send his messages in code.\n",
    "    Each day he picks a new code, just to keep the NASA engineers on their toes.\n",
    "    The cipher is a simple letter substitution where every letter slides over by a certain number of places.\n",
    "    For example, if the offset is 4, then a-->e, j-->n and letters at the end of the alphabet wrap back to the \n",
    "    start of the alphabet, z-->d. This function accepts a message and an offest and returns the coded version.\n",
    "    '''\n",
    "    \n",
    "    # Turn a string with that alphabet into a tuple of the letters\n",
    "    alphabet = tuple('abcdefghijklmnopqrstuvwzyz')\n",
    "    \n",
    "    # Check we didn't miss any letters (no reason not to build assertions inside functions)\n",
    "    assert len(alphabet) == 26\n",
    "    \n",
    "    # Convert the message to lower case so it will be in our alphabet\n",
    "    message = message.lower()\n",
    "    \n",
    "    # Split the message into characters and loop over them. Ignore any characters that are not\n",
    "    # in our list of letters as they are spaces and punctuation, so they can just be copied unaltered.\n",
    "    letters = list(message)\n",
    "    coded_message = []\n",
    "    for letter in letters:\n",
    "        if letter in alphabet:\n",
    "            ind = alphabet.index(letter) # Get the current position\n",
    "            ind += offset # Add the offset\n",
    "            mod_ind = ind % len(alphabet) # Modular division to perform wrap around indexing\n",
    "            coded_message.append(alphabet(mod_ind))\n",
    "        else:\n",
    "            coded_message.append(letter)\n",
    "    \n",
    "    # Join the list of coded charaters back into a string and return it to the user.\n",
    "    coded_message = ''.join(coded_message)        \n",
    "    return coded_message\n",
    "\n",
    "# Test the function. With an offset of 1, each letter just shifts by one. a -->b, f-->g, etc.\n",
    "assert mess_with_NASA('Hello, World!', 1) == 'ifmmp, zpsme!'        \n",
    "            "
   ]
  },
  {
   "cell_type": "code",
   "execution_count": null,
   "metadata": {
    "collapsed": true
   },
   "outputs": [],
   "source": []
  }
 ],
 "metadata": {
  "anaconda-cloud": {},
  "kernelspec": {
   "display_name": "Python 3",
   "language": "python",
   "name": "python3"
  },
  "language_info": {
   "codemirror_mode": {
    "name": "ipython",
    "version": 3
   },
   "file_extension": ".py",
   "mimetype": "text/x-python",
   "name": "python",
   "nbconvert_exporter": "python",
   "pygments_lexer": "ipython3",
   "version": "3.6.1"
  }
 },
 "nbformat": 4,
 "nbformat_minor": 1
}
