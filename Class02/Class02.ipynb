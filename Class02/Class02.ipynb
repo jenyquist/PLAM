{
 "cells": [
  {
   "cell_type": "markdown",
   "metadata": {},
   "source": [
    "# Class 02: Python Language Elements"
   ]
  },
  {
   "cell_type": "markdown",
   "metadata": {},
   "source": [
    "## Learning Objectives\n",
    "With this notebook we begin learning Python. We will cover:\n",
    "* Commenting your code\n",
    "* Variables names and basic data types\n",
    "* Numbers and Simple Math Operations\n",
    "* Python Modules -- a first look\n",
    "* String variables and operator polymorphism (say what?)\n",
    "* More about the print statement\n",
    "* Quick introduction to Markdown for documenting your notebook\n",
    "* Martian Challenge\n",
    "\n",
    "In the previous notebook we just used markdown cells to write our computational stories.  Now we start adding code."
   ]
  },
  {
   "cell_type": "markdown",
   "metadata": {},
   "source": [
    "## Rename this notebook right now\n",
    "This is the last time I'll remind you. Rename this notebook to include your first and last name, e.g. Class02_Mark_Whatney."
   ]
  },
  {
   "cell_type": "markdown",
   "metadata": {},
   "source": [
    "## Commenting your code\n",
    "It's time to start learning how to program in Python! You have alreadly used the print statement. The next part is even easier -- inserting comments.\n",
    "\n",
    "In Python, everything on a line after the \\# symbol is ignored by the kernel. Comments are just a way to make your program more human readable, to explain its function, and to leave yourself reminders in case you come back to modify a program you haven't looked at in ages.\n",
    "\n",
    "Let's look at an example."
   ]
  },
  {
   "cell_type": "code",
   "execution_count": 1,
   "metadata": {
    "collapsed": false
   },
   "outputs": [
    {
     "name": "stdout",
     "output_type": "stream",
     "text": [
      "Something\n",
      "Somthing else\n"
     ]
    }
   ],
   "source": [
    "# This is a comment. Python doesn't care what I write here.\n",
    "# Now I'm going to print something\n",
    "print('Something')\n",
    "\n",
    "# Note that you can leave blank lines in your code, like the one above, to improve readability.\n",
    "# Now I'm going to print something else.\n",
    "print('Somthing else')\n",
    "\n",
    "# Another comment.  Because of the  # symbol, Python is not listening. \"La la la la la.\""
   ]
  },
  {
   "cell_type": "markdown",
   "metadata": {},
   "source": [
    "Python executed the print statements, but ignored the rest. Use comments freely in your code as needed."
   ]
  },
  {
   "cell_type": "markdown",
   "metadata": {},
   "source": [
    "## Variables and Names\n",
    "You can use Python to do simple math, such as adding two numbers together."
   ]
  },
  {
   "cell_type": "code",
   "execution_count": 1,
   "metadata": {
    "collapsed": false
   },
   "outputs": [
    {
     "data": {
      "text/plain": [
       "4"
      ]
     },
     "execution_count": 1,
     "metadata": {},
     "output_type": "execute_result"
    }
   ],
   "source": [
    "1+3"
   ]
  },
  {
   "cell_type": "markdown",
   "metadata": {},
   "source": [
    "But you'll quickly need ways to save results, or use names (variables) in place of raw numbers or text. To demonstrate:"
   ]
  },
  {
   "cell_type": "code",
   "execution_count": 2,
   "metadata": {
    "collapsed": false
   },
   "outputs": [
    {
     "name": "stdout",
     "output_type": "stream",
     "text": [
      "10\n"
     ]
    }
   ],
   "source": [
    "# Assign numbers to two different variables and sdd the variables together. \n",
    "# Store the result in new variable.\n",
    "# Then print the result\n",
    "a = 2\n",
    "b = 8\n",
    "c = a + b\n",
    "print(c)"
   ]
  },
  {
   "cell_type": "markdown",
   "metadata": {},
   "source": [
    "What did the four lines of code (not counting comments) above do exactly?\n",
    "\n",
    "The equals sign does not mean that a equals 2, it is an *assignment statement* that says to Python, please create a variable named \"a\" and assign to it the number two. The rest should be pretty self explanatory. Note that in the third line we are, again, not testing if c = a + b, we are telling Python to add sum variables a and b and put the result in variable c.\n",
    "\n",
    "### Student Challenge\n",
    "Create a varible named x and assign the value of 113. Multiply x by 23 and print the result. (Hint: The Python symbol for mutiplication is *)"
   ]
  },
  {
   "cell_type": "code",
   "execution_count": null,
   "metadata": {
    "collapsed": true
   },
   "outputs": [],
   "source": []
  },
  {
   "cell_type": "markdown",
   "metadata": {},
   "source": [
    "## Variable naming rules\n",
    "\n",
    "Python variables are just names we give to places in the computer's memory where we can store numbers, text, and more complex data structures that we'll learn about later.\n",
    "\n",
    "Variable names can contain numbers but must start with a letter: variable10 is an okay name, 10variable is not. Letters can be upper or lower case, but Python is case sensitive so dog and DOG are different. Names cannot contain spaces, but can contain underscores: e.g. first_name\n",
    "\n",
    "Sample GOOD variable names: fred, Fred, speed_of_light, android23. Sample BAD variable names: 73skiddoo, two words, bad'punctuation.\n",
    "\n",
    "In general, you want to keep names short but descriptive. You'll get the hang of it as we go along.\n",
    "\n",
    "(Some of this content was copied from: http://www.thehelloworldprogram.com/python/python-variable-assignment-statements-rules-conventions-naming/)\n",
    "\n",
    "### You can't create a variable without giving it a value\n",
    "You may be familiar with algebraic equations, such as the equation for a line:\n",
    "$$ y = mx + b$$\n",
    "\n",
    "In mathematics, variables are generally single letters like x, y, or Greek symbols like π or θ. Mathematicians often use variables when they don’t know a specific value but are working towards finding it. It’s different in Python. You must assign a value to a variable before you can use it, even if that value is zero or empty. If, for example, I call the variable Mark_Whatney before assigning it a value:"
   ]
  },
  {
   "cell_type": "code",
   "execution_count": 10,
   "metadata": {
    "collapsed": false
   },
   "outputs": [
    {
     "ename": "NameError",
     "evalue": "name 'Mark_Whatney' is not defined",
     "output_type": "error",
     "traceback": [
      "\u001b[0;31m---------------------------------------------------------------------------\u001b[0m",
      "\u001b[0;31mNameError\u001b[0m                                 Traceback (most recent call last)",
      "\u001b[0;32m<ipython-input-10-c6ee41630fe8>\u001b[0m in \u001b[0;36m<module>\u001b[0;34m()\u001b[0m\n\u001b[0;32m----> 1\u001b[0;31m \u001b[0mMark_Whatney\u001b[0m\u001b[0;34m\u001b[0m\u001b[0m\n\u001b[0m",
      "\u001b[0;31mNameError\u001b[0m: name 'Mark_Whatney' is not defined"
     ]
    }
   ],
   "source": [
    "Mark_Whatney"
   ]
  },
  {
   "cell_type": "markdown",
   "metadata": {},
   "source": [
    "Python returns an error message. Get used to it, you'll be seeing a lot of error messages as you learn.  "
   ]
  },
  {
   "cell_type": "code",
   "execution_count": 4,
   "metadata": {
    "collapsed": true
   },
   "outputs": [],
   "source": [
    "# This is correct because the variable is assigned a value\n",
    "Mark_Whatney = 35"
   ]
  },
  {
   "cell_type": "markdown",
   "metadata": {},
   "source": [
    "### Reminder: Variable Name Rules\n",
    "\n",
    "* Variables names must start with a letter or an underscore, such as:\n",
    "    * _underscore\n",
    "    * underscore_\n",
    "* The remainder of your variable name may consist of letters, numbers and underscores.\n",
    "    * password1\n",
    "    * n00b\n",
    "    * un_der_scores\n",
    "* Names are case sensitive.\n",
    "    * case_sensitive, CASE_SENSITIVE, and Case_Sensitive are each a different variable."
   ]
  },
  {
   "cell_type": "markdown",
   "metadata": {},
   "source": [
    "### Variable name conventions\n",
    "These are not rules, just suggestions. Readability is very important. Which of the following is easiest to read? I’m hoping you’ll say the first example.\n",
    "\n",
    "\n",
    "        python_puppet\n",
    "        pythonpuppet\n",
    "        pythonPuppet\n",
    "        \n",
    "Descriptive names are very useful. If you are writing a program that adds up all of the potatoes Mark Whatney ate, which do you think is the better variable name?\n",
    "\n",
    "        pots\n",
    "        potatoes\n",
    "        total_potatoes\n",
    "        \n",
    "Of course, while longer names are more descriptive, they are also, well, longer. Which means more typing, and long names can actually make your code harder to read. A variable name such as:\n",
    "\n",
    "        all_the_potatoes_piggy_Mark_Whatney_ate\n",
    "        \n",
    "is probably going overboard.\n",
    "        \n",
    "Avoid using the lowercase letter ‘l’, uppercase ‘O’, and uppercase ‘I’. Why? Because the number 1 and the letter I look a lot like each other. And O looks a lot like 0."
   ]
  },
  {
   "cell_type": "markdown",
   "metadata": {},
   "source": [
    "### Simple Math Operatations\n",
    "* \\+ is add\n",
    "* \\- is subtract\n",
    "* \\* is multiply\n",
    "* / is divide\n",
    "* \\*\\* is raise to a power (a**2 is $a^2$)\n",
    "\n",
    "These operations are built into Python. \n",
    "\n",
    "Your turn. In the cell below, create with the code to calculate and print the average of three numbers: 7, 15, 21.\n",
    "(Recall that the average is just the sum of the numbers divided by how many numbers you have:\n",
    "$$\\frac{7 + 15 + 21}{3}$$"
   ]
  },
  {
   "cell_type": "code",
   "execution_count": null,
   "metadata": {
    "collapsed": true
   },
   "outputs": [],
   "source": []
  },
  {
   "cell_type": "markdown",
   "metadata": {},
   "source": [
    "### Be careful of the order of operations\n",
    "Python performs operations in a particular order, or precedence. When I write:\n",
    "\n",
    "5 + 4 / 3\n",
    "\n",
    "Do I mean\n",
    "\n",
    "(5 + 4)/3\n",
    "\n",
    "or\n",
    "\n",
    "5 + (4/3)?"
   ]
  },
  {
   "cell_type": "markdown",
   "metadata": {},
   "source": [
    "Normally you want to divide first. The order of operation in Python is explained here: https://en.wikibooks.org/wiki/Python_Programming/Basic_Math\n",
    "But the short answer is that Python does multiplication and division before addition and subtraction, so if you are not careful in your code Python will calculate the average as:\n",
    "$$7 + 15 + 21/3$$\n",
    "which is not what you wanted. So use parenthesis to force Python to add the three numbers before dividing their sum."
   ]
  },
  {
   "cell_type": "markdown",
   "metadata": {},
   "source": [
    "### Batteries Included -- Python modules, a first look\n",
    "There is a lot of functionality built into the python language, so we say Python comes with the \"batteries included\", unlike so many Xmas toys.  But if every time you started running Python the computer loaded every possible function you could conceivably need, Python would take a long time to open and hog a lot of memory.  To avoid this, much of pythons functionality has to be explicitly imported before you can use it. For special functions you typically need to load a modulue.  Many additional math functions are available in the \"math\" module.\n",
    "\n",
    "For example, to calculate the area of a circle, $$ area = \\pi r^2 $$  it would be nice to have the constant $\\pi$ predefined."
   ]
  },
  {
   "cell_type": "code",
   "execution_count": 6,
   "metadata": {
    "collapsed": false
   },
   "outputs": [
    {
     "name": "stdout",
     "output_type": "stream",
     "text": [
      "3.141592653589793\n",
      "78.53981633974483\n"
     ]
    }
   ],
   "source": [
    "# Calculate the area of a circle\n",
    "import math\n",
    "print(math.pi)\n",
    "r = 5\n",
    "area = math.pi * r**2\n",
    "print(area)"
   ]
  },
  {
   "cell_type": "markdown",
   "metadata": {},
   "source": [
    "The \"import\" command loaded the math module, and all of the functions and constants that are part of that module are then available by typing math. in front of the feature you need.  You have to import the module befor you use it. We will learn much more about modules and the dot operator in future classes. \n",
    "\n",
    "What is in the math module? You can look at the online documentation (https://docs.python.org/3/library/math.html). Or for a quick list you can use the dir() function (dir is short for directory)."
   ]
  },
  {
   "cell_type": "code",
   "execution_count": 7,
   "metadata": {
    "collapsed": false
   },
   "outputs": [
    {
     "name": "stdout",
     "output_type": "stream",
     "text": [
      "['__doc__', '__file__', '__loader__', '__name__', '__package__', '__spec__', 'acos', 'acosh', 'asin', 'asinh', 'atan', 'atan2', 'atanh', 'ceil', 'copysign', 'cos', 'cosh', 'degrees', 'e', 'erf', 'erfc', 'exp', 'expm1', 'fabs', 'factorial', 'floor', 'fmod', 'frexp', 'fsum', 'gamma', 'gcd', 'hypot', 'inf', 'isclose', 'isfinite', 'isinf', 'isnan', 'ldexp', 'lgamma', 'log', 'log10', 'log1p', 'log2', 'modf', 'nan', 'pi', 'pow', 'radians', 'sin', 'sinh', 'sqrt', 'tan', 'tanh', 'trunc']\n"
     ]
    }
   ],
   "source": [
    "print(dir(math))"
   ]
  },
  {
   "cell_type": "markdown",
   "metadata": {},
   "source": [
    "What are all these functions?  You can use the help() function to learn more."
   ]
  },
  {
   "cell_type": "code",
   "execution_count": 10,
   "metadata": {
    "collapsed": false
   },
   "outputs": [
    {
     "name": "stdout",
     "output_type": "stream",
     "text": [
      "Help on built-in function sin in module math:\n",
      "\n",
      "sin(...)\n",
      "    sin(x)\n",
      "    \n",
      "    Return the sine of x (measured in radians).\n",
      "\n"
     ]
    }
   ],
   "source": [
    "help(math.sin)"
   ]
  },
  {
   "cell_type": "code",
   "execution_count": 11,
   "metadata": {
    "collapsed": false
   },
   "outputs": [
    {
     "name": "stdout",
     "output_type": "stream",
     "text": [
      "2.0\n"
     ]
    }
   ],
   "source": [
    "# Try out the square root function\n",
    "print(math.sqrt(4))"
   ]
  },
  {
   "cell_type": "markdown",
   "metadata": {},
   "source": [
    "### Student Challenge\n",
    "Assign 10 to the the variable x and print the square root of x."
   ]
  },
  {
   "cell_type": "code",
   "execution_count": null,
   "metadata": {
    "collapsed": true
   },
   "outputs": [],
   "source": []
  },
  {
   "cell_type": "markdown",
   "metadata": {},
   "source": [
    "## Strings\n",
    "Variables can hold more than just numbers. They call also hold text. (And other more complicated data structures we'll learn about later.)"
   ]
  },
  {
   "cell_type": "code",
   "execution_count": 13,
   "metadata": {
    "collapsed": false
   },
   "outputs": [
    {
     "name": "stdout",
     "output_type": "stream",
     "text": [
      "dogcat\n"
     ]
    }
   ],
   "source": [
    "a = 'dog'\n",
    "b = 'cat'\n",
    "c = a + b\n",
    "print(c)"
   ]
  },
  {
   "cell_type": "markdown",
   "metadata": {},
   "source": [
    "To Python, text is just a long string of characters, so text variables are called string variables. You can add two strings together, but the meaning of addition changes. Addition for strings is concatenation -- the two strings are joined together. The changed meaning of an operator depending on the data type is called \"polymorphism.\" It's not something you need to know, but it's kind of cool.\n",
    "\n",
    "Polymorphism doesn't work for everything. Adding a number to word doesn't make much sense.\n"
   ]
  },
  {
   "cell_type": "code",
   "execution_count": 14,
   "metadata": {
    "collapsed": false
   },
   "outputs": [
    {
     "ename": "TypeError",
     "evalue": "unsupported operand type(s) for +: 'int' and 'str'",
     "output_type": "error",
     "traceback": [
      "\u001b[0;31m---------------------------------------------------------------------------\u001b[0m",
      "\u001b[0;31mTypeError\u001b[0m                                 Traceback (most recent call last)",
      "\u001b[0;32m<ipython-input-14-8899abfe7d58>\u001b[0m in \u001b[0;36m<module>\u001b[0;34m()\u001b[0m\n\u001b[1;32m      1\u001b[0m \u001b[0ma\u001b[0m \u001b[0;34m=\u001b[0m \u001b[0;36m9\u001b[0m\u001b[0;34m\u001b[0m\u001b[0m\n\u001b[1;32m      2\u001b[0m \u001b[0mb\u001b[0m \u001b[0;34m=\u001b[0m \u001b[0;34m'fish'\u001b[0m\u001b[0;34m\u001b[0m\u001b[0m\n\u001b[0;32m----> 3\u001b[0;31m \u001b[0mc\u001b[0m \u001b[0;34m=\u001b[0m \u001b[0ma\u001b[0m \u001b[0;34m+\u001b[0m \u001b[0mb\u001b[0m\u001b[0;34m\u001b[0m\u001b[0m\n\u001b[0m",
      "\u001b[0;31mTypeError\u001b[0m: unsupported operand type(s) for +: 'int' and 'str'"
     ]
    }
   ],
   "source": [
    "a = 9\n",
    "b = 'fish'\n",
    "c = a + b\n"
   ]
  },
  {
   "cell_type": "markdown",
   "metadata": {},
   "source": [
    "Python spits back an error message in computer-speak, but it's acutally pretty informative. The Python interpreter is saying that the problem is with the third line of code, and that addition is not defined between an integer number and a string of characters. Learning to read error messages it an important step in debugging code -- another topic we'll cover in more detail at a future date."
   ]
  },
  {
   "cell_type": "markdown",
   "metadata": {},
   "source": [
    "### Student Challenge: Experimenting with polymorphism\n",
    "You've just seen what happens when you add two numbers (ordinary addition) and when you add two strings (concatenation). Using the cell below, see if you can figure out what happens when you mutiply two numbers together and when you multiply two strings together. How about when you multiply a number and a string?"
   ]
  },
  {
   "cell_type": "code",
   "execution_count": null,
   "metadata": {
    "collapsed": false
   },
   "outputs": [],
   "source": []
  },
  {
   "cell_type": "markdown",
   "metadata": {},
   "source": [
    "## A little more about the print statement\n",
    "\n",
    "### Basic printing"
   ]
  },
  {
   "cell_type": "code",
   "execution_count": 18,
   "metadata": {
    "collapsed": false
   },
   "outputs": [
    {
     "name": "stdout",
     "output_type": "stream",
     "text": [
      "Hello, World!\n"
     ]
    }
   ],
   "source": [
    "# Printing a string\n",
    "print('Hello, World!')"
   ]
  },
  {
   "cell_type": "code",
   "execution_count": 35,
   "metadata": {
    "collapsed": false
   },
   "outputs": [
    {
     "name": "stdout",
     "output_type": "stream",
     "text": [
      "the meaning of life is\n",
      "42\n",
      "(see https://en.wikipedia.org/wiki/42_(number) )\n"
     ]
    }
   ],
   "source": [
    "# Printing the contents of variable\n",
    "a = 'the meaning of life is'\n",
    "b = 42\n",
    "c = '(see https://en.wikipedia.org/wiki/42_(number) )'\n",
    "\n",
    "print(a)\n",
    "print(b)\n",
    "print(c)"
   ]
  },
  {
   "cell_type": "code",
   "execution_count": 36,
   "metadata": {
    "collapsed": false
   },
   "outputs": [
    {
     "name": "stdout",
     "output_type": "stream",
     "text": [
      "The Hitchhiker's Guide to The Galaxy says the meaning of life is 42 (see https://en.wikipedia.org/wiki/42_(number) )\n"
     ]
    }
   ],
   "source": [
    "# You can also print multiple items in one print statement using items separated by commas\n",
    "c = '(see https://en.wikipedia.org/wiki/42_(number) )'\n",
    "print('The Hitchhiker\\'s Guide to The Galaxy says', a, b, c)"
   ]
  },
  {
   "cell_type": "markdown",
   "metadata": {},
   "source": [
    "### Variable Substitution\n",
    "\n",
    "Variable substitution allows you to create a string with placeholders that will be replaced with the values of variables when you print.  This is easiest to understand by example."
   ]
  },
  {
   "cell_type": "code",
   "execution_count": 23,
   "metadata": {
    "collapsed": false
   },
   "outputs": [
    {
     "name": "stdout",
     "output_type": "stream",
     "text": [
      "My favorite planets are Mars and Venus\n"
     ]
    }
   ],
   "source": [
    "a = 'Mars'\n",
    "b = 'Venus'\n",
    "print('My favorite planets are {0} and {1}'.format(a, b))"
   ]
  },
  {
   "cell_type": "markdown",
   "metadata": {},
   "source": [
    "Wait, huh? What just happened? \n",
    "\n",
    "You started with a string: 'My favorite planets are {0} and {1}'\n",
    "\n",
    "which had the numbers 0 and 1 in curly brackets.  You applied the .format() method to the string and \n",
    "passed it two variables: \"a\" and \"b\". When you printed this the contents of variable a replaced {0} and the contents of variable b replaced {1}. Note: in lists Python starts counting at zero, so the first element of any list is the zeroth element.\n",
    "\n",
    "Let's try that again is slow motion."
   ]
  },
  {
   "cell_type": "code",
   "execution_count": 25,
   "metadata": {
    "collapsed": false
   },
   "outputs": [
    {
     "name": "stdout",
     "output_type": "stream",
     "text": [
      "2 + 2 = 4\n"
     ]
    }
   ],
   "source": [
    "a = 2\n",
    "b = 2\n",
    "c = a + b\n",
    "print('{0} + {1} = {2}'.format(a, b, c))"
   ]
  },
  {
   "cell_type": "markdown",
   "metadata": {},
   "source": [
    "Starting to make sense?  The first parameter in .format(a, b, c) replaces {0}, the second replaces {1}, etc.\n",
    "\n",
    "This is particularly useful for printing in loops if we don't want to type the same print statement over and over. Loops are something we'll get into in a later class.\n",
    "\n",
    "Truthfully, you don't have to include the numbers inside the {} if you things in order.  For example:"
   ]
  },
  {
   "cell_type": "code",
   "execution_count": 1,
   "metadata": {
    "collapsed": false
   },
   "outputs": [
    {
     "name": "stdout",
     "output_type": "stream",
     "text": [
      "I want our love to be like pi, irrational and never ending.\n"
     ]
    }
   ],
   "source": [
    "# Another nerdy pickup line\n",
    "print('I want our love to be like pi, {} and {}.'.format('irrational', 'never ending'))"
   ]
  },
  {
   "cell_type": "markdown",
   "metadata": {},
   "source": [
    "Python just substituted 'irrational' for the first {} and 'never ending' for the second. Numbering can be handy for clarity and for changing the order when you print.  For example"
   ]
  },
  {
   "cell_type": "code",
   "execution_count": 2,
   "metadata": {
    "collapsed": false
   },
   "outputs": [
    {
     "name": "stdout",
     "output_type": "stream",
     "text": [
      "I want our love to be like pi, never ending and irrational.\n"
     ]
    }
   ],
   "source": [
    "print('I want our love to be like pi, {1} and {0}.'.format('irrational', 'never ending'))"
   ]
  },
  {
   "cell_type": "markdown",
   "metadata": {},
   "source": [
    "See what we did there?  We swapped the printing order by numbering the {} placeholders inside the string."
   ]
  },
  {
   "cell_type": "markdown",
   "metadata": {},
   "source": [
    "### Let's apply what we've just learned..."
   ]
  },
  {
   "cell_type": "markdown",
   "metadata": {},
   "source": [
    "# Martian Challenge: Communications Lag\n",
    "Although radio waves travel at the speed of light, Mars is very far away, so there is a noticeable lag between when Mission Control send a communication and when they hear Mark's response, even if he answers right away.  We are going to calculate the lag time."
   ]
  },
  {
   "cell_type": "markdown",
   "metadata": {},
   "source": [
    "#### First we need to define our variables\n",
    "* We need to know the speed of radiowaves (light). Which is 300,000,000 m/s. Which in scientific notation is written as $ 3.0 x 10^8$ m/s, or in python you write 3.0e8, which means 3 with eight zeros after it.\n",
    "* We need to know the distance between the Earth and Mars, which varies with the orbits, but the average is 225 million kilometers\n",
    "\n",
    "Distance = velocity x time, so time = velocity/distance.\n",
    "\n",
    "Now we need to turn this into code. Notice the use of comments to document the code."
   ]
  },
  {
   "cell_type": "code",
   "execution_count": 40,
   "metadata": {
    "collapsed": false
   },
   "outputs": [
    {
     "name": "stdout",
     "output_type": "stream",
     "text": [
      "The communication lag due to the two-way time is 1500.0 seconds.\n",
      "Or 25.0 minutes.\n"
     ]
    }
   ],
   "source": [
    "# Define variables\n",
    "velocity = 3.0e8 # meters/second \n",
    "distance = 225e6 # kilometers\n",
    "distance = distance * 1000.0 # Convert kilometers to meters\n",
    "\n",
    "# Use twice the distance to get the time for radio\n",
    "# signal to go from Earth to Mars and back again\n",
    "time = (2.0 * distance)/velocity \n",
    "print('The communication lag due to the two-way time is {0} seconds.'.format(time)) # seconds\n",
    "\n",
    "# Convert to minutes\n",
    "print('Or {0} minutes.'.format(time/60))"
   ]
  },
  {
   "cell_type": "markdown",
   "metadata": {},
   "source": [
    "So the delay is about 1500 seconds or 25 minutes.  Try having a conversation with someone where they always wait 25 minutes to answer!  Another way of expressing this is to say that Mars is about twelve and a half light-minutes away from Earth.  When you consider that the nearest star to our solar system, Proxima Centauri, is at a distance of 4.22 light-*years*, it explains why interstellar travel is still, er, light-years away, and shows that conversation with Proxia Centaurians would take a looooong time.\n",
    "\n",
    "There was one line of code that requires further explanation:\n",
    "\n",
    "distance = distance * 1000.0\n",
    "\n",
    "This only makes sense if you remember that the equals sign is an assignment operator. The codes translates into English as \"Take whatever value is assigned to the variable named distance and multiply it by a thousand an put the result back into the variable distance. Acually, Python has a shorthand way of writing this:\n",
    "\n",
    "distance *= 1000.0\n",
    "\n",
    "The *= operator is just an abbreviation for multiply and assign.  I'll bet you can guess what the +=, /= and -= operators do."
   ]
  },
  {
   "cell_type": "markdown",
   "metadata": {},
   "source": [
    "## Your Task\n",
    "We've calculated the communications delay for the average distance to Mars, but relative positions of the Earth and Mars change over time because they orbit the sun at different rates and Earth's orbit is a lot closer to the sun.  Your task is to calculate the communication delays for the closest and furtherest separations.\n",
    "\n",
    "Closest Earth-Mars distance: 54.6 million kilometers\n",
    "\n",
    "Furthest Earth-Mars distance: 401 million kilometers\n",
    "\n",
    "Insert additional cells below as needed, include comments in your code and formatting to print your answers neatly."
   ]
  },
  {
   "cell_type": "markdown",
   "metadata": {
    "collapsed": true
   },
   "source": [
    "## Further Study\n",
    "Here is a short video about Python variables: https://www.youtube.com/watch?v=vKqVnr0BEJQ\n"
   ]
  },
  {
   "cell_type": "code",
   "execution_count": null,
   "metadata": {
    "collapsed": true
   },
   "outputs": [],
   "source": []
  },
  {
   "cell_type": "markdown",
   "metadata": {},
   "source": [
    "## STUDENT FEEDBACK\n",
    "Edit this markdown cell to provide feedback on this notebook. \n",
    "\n",
    "Specifically:\n",
    "\n",
    "*Roughly, how much time did you spend?*\n",
    "\n",
    "\n",
    "*What, if anything, gave you trouble?*\n",
    "\n",
    "*What part did you like best?*\n"
   ]
  },
  {
   "cell_type": "markdown",
   "metadata": {
    "collapsed": true
   },
   "source": [
    "# Supplemental Exercises\n",
    "Let's write some simple programs with what you already know."
   ]
  },
  {
   "cell_type": "markdown",
   "metadata": {},
   "source": [
    "### Units conversion\n",
    "Write a program that converts weight in pounds to kilograms.\n",
    "Assign a value to a variable named weight_lbs, and then convert it and put the output in a variable names weight_kgs. Print the input and output weights using the print statement with variable substitution."
   ]
  },
  {
   "cell_type": "code",
   "execution_count": null,
   "metadata": {
    "collapsed": false
   },
   "outputs": [],
   "source": []
  },
  {
   "cell_type": "markdown",
   "metadata": {},
   "source": [
    "### Finding the greatest common denominator\n",
    "The math module has a function, gcd(), that finds the greatest common deonminator of two integrers, the biggest number that divides evenly into both.  For example, the greatest commone denominator of 60 and 144 would be 12.\n",
    "\n",
    "Load the math module and use it fo find the greatest common denominator of 129416 and 238948."
   ]
  },
  {
   "cell_type": "markdown",
   "metadata": {},
   "source": [
    "### Markdown Challenge\n",
    "Create markdown cell and add a clickable hyperlink to the Temple University homepage."
   ]
  },
  {
   "cell_type": "code",
   "execution_count": null,
   "metadata": {
    "collapsed": true
   },
   "outputs": [],
   "source": []
  }
 ],
 "metadata": {
  "anaconda-cloud": {},
  "kernelspec": {
   "display_name": "Python 3",
   "language": "python",
   "name": "python3"
  },
  "language_info": {
   "codemirror_mode": {
    "name": "ipython",
    "version": 3
   },
   "file_extension": ".py",
   "mimetype": "text/x-python",
   "name": "python",
   "nbconvert_exporter": "python",
   "pygments_lexer": "ipython3",
   "version": "3.6.0"
  }
 },
 "nbformat": 4,
 "nbformat_minor": 0
}
