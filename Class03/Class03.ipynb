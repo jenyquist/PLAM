{
 "cells": [
  {
   "cell_type": "markdown",
   "metadata": {},
   "source": [
    "# Class 03\n",
    "## Learning Objectives\n",
    "* Strings and text\n",
    "* String processing\n",
    "* A more complex Martian Challenge\n",
    "\n",
    "Note: Some of the examples in this notebook came from the 2016 EuroSciPy tutorial"
   ]
  },
  {
   "cell_type": "markdown",
   "metadata": {},
   "source": [
    "## Quick Review (and a little new stuff)\n",
    "In the first two classes you learned how to define variables in Python, perform basic math operations, and about the print statement. You learned the basics of the Juypter notebooks, and the difference between code and markdown cells."
   ]
  },
  {
   "cell_type": "code",
   "execution_count": 2,
   "metadata": {
    "collapsed": false
   },
   "outputs": [
    {
     "name": "stdout",
     "output_type": "stream",
     "text": [
      "Small:  5\n",
      "Big:  500\n",
      "Bigger:  505\n",
      "Updated value:  2500\n"
     ]
    }
   ],
   "source": [
    "# Define two variables, called small and big\n",
    "small = 5\n",
    "big = 500\n",
    "\n",
    "# define a third variable\n",
    "bigger = small + big\n",
    "\n",
    "# print the values of those variables\n",
    "print(\"Small: \", small)\n",
    "print(\"Big: \", big)\n",
    "print(\"Bigger: \", bigger)\n",
    "\n",
    "# update the value of the variable\n",
    "bigger = small * big\n",
    "print(\"Updated value: \", bigger)"
   ]
  },
  {
   "cell_type": "markdown",
   "metadata": {},
   "source": [
    "### Student task\n",
    "Define some more variables. Print them out."
   ]
  },
  {
   "cell_type": "code",
   "execution_count": null,
   "metadata": {
    "collapsed": true
   },
   "outputs": [],
   "source": []
  },
  {
   "cell_type": "markdown",
   "metadata": {},
   "source": [
    "### Integers and Floating Point Numbers\n",
    "You already know that Python variables can hold numbers and text (strings). But actually, Python has two types of numbers: integers and floating point. Integers are whole numbers, no decimal point. The numbers 1, 28 and -4 are all integrers. Floating point numbers have decimals. The number 2.3 is a floating point number; so is 3.1415. Python uses integers when it can because they take less space in memory and integer calculations are ever so slightly faster. The distinction between the two, however, is generally not something you need to worry about. Note the type() function will tell you what type of data a Python variable contains."
   ]
  },
  {
   "cell_type": "code",
   "execution_count": 3,
   "metadata": {
    "collapsed": false
   },
   "outputs": [
    {
     "name": "stdout",
     "output_type": "stream",
     "text": [
      "<class 'int'> <class 'float'> <class 'str'>\n"
     ]
    }
   ],
   "source": [
    "a = 1\n",
    "b = 2.0\n",
    "c = 'cat'\n",
    "print(type(a), type(b), type(c))"
   ]
  },
  {
   "cell_type": "markdown",
   "metadata": {},
   "source": [
    "### Basic Math Operations\n",
    "You also learned about basic math operations. (I've added one mystery operator for you to figure out.)"
   ]
  },
  {
   "cell_type": "code",
   "execution_count": 4,
   "metadata": {
    "collapsed": false
   },
   "outputs": [
    {
     "name": "stdout",
     "output_type": "stream",
     "text": [
      "2500 0.01 31250000000000 0\n",
      "<class 'int'> <class 'float'> <class 'int'> <class 'int'>\n"
     ]
    }
   ],
   "source": [
    "# Ints and Floats\n",
    "# Both types support typical mathematical operations\n",
    "v1 = small * big   # multiplication\n",
    "v2 = small / big   # division\n",
    "v3 = big ** small  # exponentiation\n",
    "v4 = big % small   # what does this do?\n",
    "\n",
    "print(v1, v2, v3, v4)\n",
    "print(type(v1), type(v2), type(v3), type(v4))"
   ]
  },
  {
   "cell_type": "markdown",
   "metadata": {},
   "source": [
    "### Assignment vs. Equality\n",
    "You have learned that the equals sign is Python's assignment operator.  \"a = 3\" assigns 3 to the variable \"a\", it does not test for equality. So how to you test for equality? You use a double equals! This returns True if both sides are equal, and False otherwise."
   ]
  },
  {
   "cell_type": "code",
   "execution_count": 5,
   "metadata": {
    "collapsed": false
   },
   "outputs": [
    {
     "name": "stdout",
     "output_type": "stream",
     "text": [
      "False\n",
      "True\n"
     ]
    }
   ],
   "source": [
    "# test for equality between variables using ==\n",
    "a = 2\n",
    "b = 3\n",
    "print(a == b)\n",
    "b = 2\n",
    "print(a == b)"
   ]
  },
  {
   "cell_type": "markdown",
   "metadata": {},
   "source": [
    "### String Variables\n",
    "Variables can also be assigned strings. A string is a sequence of characters -- typically used for words, letters and data read from files etc. \"String\" data is a programmer's name for text, which is comprised of \"strings\" of characters. You can assign a string of characters to a varible by enclosing the text in either double or single quotes."
   ]
  },
  {
   "cell_type": "code",
   "execution_count": 6,
   "metadata": {
    "collapsed": false
   },
   "outputs": [
    {
     "name": "stdout",
     "output_type": "stream",
     "text": [
      "Mark Whatney\n"
     ]
    }
   ],
   "source": [
    "first_name = 'Mark'\n",
    "last_name = \"Whatney\"\n",
    "print(first_name, last_name)"
   ]
  },
  {
   "cell_type": "markdown",
   "metadata": {},
   "source": [
    "There are advantages to being able to use either single or double quotes when you want quotation marks to be part of the actual string. In the example below I want an apostrophe to be part of the string, so I using double quotes to mark the string boundary."
   ]
  },
  {
   "cell_type": "code",
   "execution_count": 7,
   "metadata": {
    "collapsed": false
   },
   "outputs": [
    {
     "name": "stdout",
     "output_type": "stream",
     "text": [
      "Mark's new favorite veggie\n"
     ]
    }
   ],
   "source": [
    "potatoes = \"Mark's new favorite veggie\"\n",
    "print(potatoes)"
   ]
  },
  {
   "cell_type": "markdown",
   "metadata": {},
   "source": [
    "### Student Task\n",
    "Create and print a varible that has this quote (including the quotation marks): \"Hi, I'm Mark Watney and I'm still alive... obviously.\"\n",
    "\n",
    "Hint: Since the desired string has double quotes, you need to define it using single quotes."
   ]
  },
  {
   "cell_type": "code",
   "execution_count": null,
   "metadata": {
    "collapsed": false
   },
   "outputs": [],
   "source": []
  },
  {
   "cell_type": "markdown",
   "metadata": {},
   "source": [
    "## Working with strings"
   ]
  },
  {
   "cell_type": "code",
   "execution_count": 8,
   "metadata": {
    "collapsed": false
   },
   "outputs": [
    {
     "name": "stdout",
     "output_type": "stream",
     "text": [
      "My pets are a cat named Fluffy and a goldfish named Bubbles.\n",
      "<class 'str'>\n"
     ]
    }
   ],
   "source": [
    "my_pets = 'My pets are a cat named Fluffy and a goldfish named Bubbles.'\n",
    "print(my_pets)\n",
    "print(type(my_pets))"
   ]
  },
  {
   "cell_type": "markdown",
   "metadata": {},
   "source": [
    "So my_pets is a variable of the string class. Every individual character in the string can be referenced by its position. Python always starts numbering at zero, so the first character in the variable my_pets is referenced using square brackets this way:"
   ]
  },
  {
   "cell_type": "code",
   "execution_count": 9,
   "metadata": {
    "collapsed": false
   },
   "outputs": [
    {
     "data": {
      "text/plain": [
       "'M'"
      ]
     },
     "execution_count": 9,
     "metadata": {},
     "output_type": "execute_result"
    }
   ],
   "source": [
    "my_pets[0]"
   ]
  },
  {
   "cell_type": "markdown",
   "metadata": {},
   "source": [
    "You can reference a \"slice\" of the string by specifying a range.  To get characters 3, 4, 5 and 6 we type"
   ]
  },
  {
   "cell_type": "code",
   "execution_count": 10,
   "metadata": {
    "collapsed": false
   },
   "outputs": [
    {
     "data": {
      "text/plain": [
       "'pets'"
      ]
     },
     "execution_count": 10,
     "metadata": {},
     "output_type": "execute_result"
    }
   ],
   "source": [
    "my_pets[3:7]"
   ]
  },
  {
   "cell_type": "markdown",
   "metadata": {},
   "source": [
    "Python indexing is a little funny.  3:7 means start with character 3 (which is the fourth character in the string since we start the count at zero), and go up to, but do not include, character 7.  "
   ]
  },
  {
   "cell_type": "raw",
   "metadata": {},
   "source": [
    "Python is counting postions within the string this way:\n",
    "\n",
    "My pets are a cat named Fluffy and a goldfish named Bubbles.\n",
    "012345678901234567890123456789012345678901234567890123456789\n",
    "          10        20        30        40        50\n",
    "Note that spaces and punctuation are also characters in the string. \n",
    "\n",
    "You don't have to count the number of characters in the string by hand. \n",
    "Python has a built in function for this called len (short for length)."
   ]
  },
  {
   "cell_type": "code",
   "execution_count": 11,
   "metadata": {
    "collapsed": false
   },
   "outputs": [
    {
     "data": {
      "text/plain": [
       "60"
      ]
     },
     "execution_count": 11,
     "metadata": {},
     "output_type": "execute_result"
    }
   ],
   "source": [
    "len(my_pets)"
   ]
  },
  {
   "cell_type": "markdown",
   "metadata": {},
   "source": [
    "So my_pets is 60 characters long with the positions of the characters numbered from 0 to 59.\n",
    "\n",
    "There are quite a few methods built in to any string variable. Let's try a couple of the ones most frequently used."
   ]
  },
  {
   "cell_type": "code",
   "execution_count": 12,
   "metadata": {
    "collapsed": false
   },
   "outputs": [
    {
     "name": "stdout",
     "output_type": "stream",
     "text": [
      "24\n"
     ]
    }
   ],
   "source": [
    "# Find the starting position of the word 'Fluffy' within the string\n",
    "start = my_pets.find('Fluffy')\n",
    "print(start)"
   ]
  },
  {
   "cell_type": "markdown",
   "metadata": {},
   "source": [
    "So the word \"Fluffy\" starts at position 24 in the string my_pets when we start counting at zero."
   ]
  },
  {
   "cell_type": "code",
   "execution_count": 13,
   "metadata": {
    "collapsed": false
   },
   "outputs": [
    {
     "name": "stdout",
     "output_type": "stream",
     "text": [
      "Fluffy and a goldfish named Bubbles.\n"
     ]
    }
   ],
   "source": [
    "# Print the string starting with Fluffy to the end of the string \n",
    "# using the colon without a number after it.\n",
    "print(my_pets[start:])"
   ]
  },
  {
   "cell_type": "code",
   "execution_count": 14,
   "metadata": {
    "collapsed": false
   },
   "outputs": [
    {
     "name": "stdout",
     "output_type": "stream",
     "text": [
      "MY PETS ARE A CAT NAMED FLUFFY AND A GOLDFISH NAMED BUBBLES.\n",
      "my pets are a cat named fluffy and a goldfish named bubbles.\n",
      "My Pets Are A Cat Named Fluffy And A Goldfish Named Bubbles.\n"
     ]
    }
   ],
   "source": [
    "# Change case\n",
    "print(my_pets.upper())   # Convert to UPPER CASE\n",
    "print(my_pets.lower())   # Convert to lower case\n",
    "print(my_pets.title())   # Convert to Title Case"
   ]
  },
  {
   "cell_type": "code",
   "execution_count": 15,
   "metadata": {
    "collapsed": false
   },
   "outputs": [
    {
     "data": {
      "text/plain": [
       "2"
      ]
     },
     "execution_count": 15,
     "metadata": {},
     "output_type": "execute_result"
    }
   ],
   "source": [
    "# Count how many times a word (substring) occurs within a string.\n",
    "my_pets.count('named')"
   ]
  },
  {
   "cell_type": "code",
   "execution_count": 16,
   "metadata": {
    "collapsed": false
   },
   "outputs": [
    {
     "name": "stdout",
     "output_type": "stream",
     "text": [
      "['My', 'pets', 'are', 'a', 'cat', 'named', 'Fluffy', 'and', 'a', 'goldfish', 'named', 'Bubbles.']\n"
     ]
    }
   ],
   "source": [
    "# Split all of the words of the string into a list.\n",
    "my_pets_words = my_pets.split()\n",
    "print(my_pets_words)"
   ]
  },
  {
   "cell_type": "markdown",
   "metadata": {},
   "source": [
    "Three Warmup Student Challeges\n",
    "--------------------\n",
    "** What value does the find() method return if you search for a word in the sting my_pets that is not there? **"
   ]
  },
  {
   "cell_type": "code",
   "execution_count": null,
   "metadata": {
    "collapsed": true
   },
   "outputs": [],
   "source": []
  },
  {
   "cell_type": "markdown",
   "metadata": {},
   "source": [
    "** Write a code cell that slices the work \"Bubbles\" from my_pets and prints it all capital letters. **"
   ]
  },
  {
   "cell_type": "code",
   "execution_count": null,
   "metadata": {
    "collapsed": true
   },
   "outputs": [],
   "source": []
  },
  {
   "cell_type": "markdown",
   "metadata": {},
   "source": [
    "** What does the method method swapcase() do to a string? **"
   ]
  },
  {
   "cell_type": "code",
   "execution_count": null,
   "metadata": {
    "collapsed": true
   },
   "outputs": [],
   "source": []
  },
  {
   "cell_type": "markdown",
   "metadata": {},
   "source": [
    "Martian Challenge: Keeping your boss happy\n",
    "=================\n",
    "\n",
    "Your bean-counter boss at NASA is very concerned about publicity. In every news article he wants to know how many times NASA is mentioned. The code below reads an entire news article from a text file into a string.  You'll learn more about reading from files later."
   ]
  },
  {
   "cell_type": "code",
   "execution_count": 19,
   "metadata": {
    "collapsed": false
   },
   "outputs": [
    {
     "name": "stdout",
     "output_type": "stream",
     "text": [
      "﻿\n",
      "                               1 of 996 DOCUMENTS\n",
      "\n",
      "\n",
      "                                      IBNS\n",
      "\n",
      "                       June 25, 2016 Saturday 6:30 AM EST\n",
      "\n",
      "NASA weighs use of Rover to image potential Mars water sites\n",
      "\n",
      "BYLINE: India Blooms News Service\n",
      "\n",
      "LENGTH: 545  words\n",
      "\n",
      "\n",
      "California, June 25 (IBNS) Ever since it was announced that there may be\n",
      "evidence of liquid water on present-day Mars, NASA scientists have wondered how\n",
      "best to further investigate these long, seasonally changing dark streaks in the\n",
      "hope of finding evidence of life - past or present - on the Red Planet.\n",
      "\n",
      "Its not as simple as driving a rover to a potential site and taking a scoop of\n",
      "soil, said Jim Green, NASAs director of planetary science. Not only are these on\n",
      "steep slopes, we need to ensure that planetary protection concerns are met. In\n",
      "other words, how can we search for evidence of life without contaminating the\n",
      "sites with bugs from Earth? Pending approval of a mission extension, NASAs\n",
      "Curiosity Mars rover will continue to climb to progressively higher and younger\n",
      "strata on Mount Sharp, investigating how long the ancient, water-rich\n",
      "environments found so far persisted as Mars dried out. Reaching those\n",
      "destinations would bring the rover closer to locations where dark streaks are\n",
      "present on some slopes. On the way, the route would allow the one-ton rover to\n",
      "capture images of the potential water sites from miles away and see if any are\n",
      "the seasonally changing type. The features of interest have been observed by\n",
      "NASAs High-Resolution Imaging Science Experiment (HiRISE) camera on the Mars\n",
      "Reconnaissance Orbiter (MRO). They appear as dark lines that appear to ebb and\n",
      "flow over time. Planetary scientists think these gullies or recurring slope\n",
      "lineae (RSLs) may appear seasonally as a form of briny water at or near the\n",
      "surface of the Red Planet under warmer conditions. There are two RSL candidates\n",
      "that may be within Curiositys reach, on the side of the 3.1 mile (5 kilometer)\n",
      "Mount Sharp. The rovers Remote Micro-Imager (part of ChemCam) would be the main\n",
      "instrument for imaging the possible sites. The goal would be to study the\n",
      "regions over time to see if there are any changes and to rule out other causes\n",
      "for the changes, such as dry avalanches, read the NASA website. How close could\n",
      "the rover safely get to an RSL? Thats exactly the question that needs to be\n",
      "addressed early in the process, said Catharine Conley, NASAs planetary\n",
      "protection officer. Kilometers awayits unlikely that it would be an issue. In\n",
      "terms of coming much closer, we need to understand well in advance the potential\n",
      "for Earth organisms to come off the rover, and that will tell us how far away\n",
      "the rover should stay. Conley notes that while the Martian environment is\n",
      "considered harsh for many organisms, thats not necessarily the case for all of\n",
      "themparticularly microbes that might be hiding within the nooks and crannies of\n",
      "a robotic explorer. The darkish streaks are considered special regions on Mars,\n",
      "where extra precautions must be taken to prevent contamination because of the\n",
      "suspected presence of liquid water, considered a prerequisite for life. The Mars\n",
      "Science Laboratory (MSL) spacecraft launched from Cape Canaveral, Florida on\n",
      "Nov. 26, 2011, arriving on the Red Planet on Aug. 6. 2012. NASAs most ambitious\n",
      "Mars mission to date, its goal was to study the Martian environment and\n",
      "determine if Mars is, or was, suitable for life. A decision on the rovers\n",
      "potential extended mission is expected in the next several months. Image\n",
      "Credits: NASA/JPL-Caltech/MSSS\n",
      "\n",
      "LOAD-DATE: June 25, 2016\n",
      "\n",
      "LANGUAGE: ENGLISH\n",
      "\n",
      "PUBLICATION-TYPE: Newswire\n",
      "\n",
      "\n",
      "            Copyright 2016 India Blooms., distributed by Contify.com\n",
      "                              All Rights Reserved\n",
      "\n"
     ]
    }
   ],
   "source": [
    "# Open a file for reading\n",
    "filename = 'NASA_weighs_use_of_Rover_to_image_potential.txt'\n",
    "myfile = open(filename,'r')\n",
    "\n",
    "# Read all of the characters into one long string variable\n",
    "article = myfile.read()\n",
    "\n",
    "# Close the file\n",
    "myfile.close()\n",
    "\n",
    "# Print the string variable article that holds the result of reading the file\n",
    "print(article)"
   ]
  },
  {
   "cell_type": "markdown",
   "metadata": {},
   "source": [
    "Cool! But if the file was read in as one long string of characters, how did the python know where to break the lines? \n",
    "\n",
    "Strings can also contain non-printable characters such as tabs and newline breaks. You type them into a string using what is called an escape sequence.\n",
    "\n",
    "\\t is a tab\n",
    "\\n is a new line\n",
    "\\s is a space\n",
    "You can see others here: http://www.tutorialspoint.com/python/python_strings.htm\n",
    "\n",
    "The backslash is an \"escape\" characater that warns python that the next character has special meaning. What if you just want to print an actual backslash?  You escape it by typing two backslashes in a row.\n",
    "\n",
    "Here is an example or inserting a newline break into a string:"
   ]
  },
  {
   "cell_type": "code",
   "execution_count": 18,
   "metadata": {
    "collapsed": false
   },
   "outputs": [
    {
     "name": "stdout",
     "output_type": "stream",
     "text": [
      "This is on the first line \n",
      " and this is on the second.\n"
     ]
    }
   ],
   "source": [
    "astring = 'This is on the first line \\n and this is on the second.'\n",
    "print(astring)"
   ]
  },
  {
   "cell_type": "markdown",
   "metadata": {},
   "source": [
    "## Student Task\n",
    "--------------------\n",
    "1. What is the total number of characters in the article?\n",
    "2. Write a code cell to calculate how many times the word NASA appears in this article.\n",
    "3. Slice out and print just the article -- no hearder or byline and no footer.  Start with the word \"California\" and end with \"several months\"\n",
    "\n",
    "Hint 1: The entire article was read into the string variable \"article\" so you can just use string methods on that variable. For example: article.lower() would convert the entire article to lower case.\n",
    "\n",
    "Hint 2: The third one is tricky because \"several months\" is split across two lines, so you have to include a special character in your search string.\n",
    "\n",
    "If you still haven't figured out how to do part 3 after really, really trying, send me an email and I'll post a more detailed hint."
   ]
  },
  {
   "cell_type": "code",
   "execution_count": null,
   "metadata": {
    "collapsed": true
   },
   "outputs": [],
   "source": []
  },
  {
   "cell_type": "markdown",
   "metadata": {},
   "source": [
    "## STUDENT FEEDBACK\n",
    "Edit this markdown cell to provide feedback on this notebook. \n",
    "\n",
    "Specifically:\n",
    "\n",
    "Roughly, how much time did you spend?\n",
    "\n",
    "What, if anything, gave you trouble?\n",
    "\n",
    "What part did you like best?\n"
   ]
  },
  {
   "cell_type": "markdown",
   "metadata": {
    "collapsed": true
   },
   "source": [
    "# Supplemental Exercises"
   ]
  },
  {
   "cell_type": "markdown",
   "metadata": {},
   "source": [
    "### Strip Tease\n",
    "Your supplemental challenge is to look up the python replace() method for strings, then replace each occurance of the letter t in the quote below with the empty string \"\".\n",
    "\n",
    "Add you code the cell below where I've defined a variable called 'quote' to hold the sting for you to work on."
   ]
  },
  {
   "cell_type": "code",
   "execution_count": 2,
   "metadata": {
    "collapsed": false
   },
   "outputs": [],
   "source": [
    "quote = '''Mark Watney: It's a strange feeling. Everywhere I go, \n",
    "I'm the first. Step outside the rover? First guy ever to be there! \n",
    "Climb a hill? First guy to climb that hill! Kick a rock? That rock \n",
    "hadn't moved in a million years! I'm the first guy to drive \n",
    "long-distance on Mars. The first guy to spend more than thirty-one \n",
    "sols on Mars. The first guy to grow crops on Mars. First, first, first!'''"
   ]
  },
  {
   "cell_type": "markdown",
   "metadata": {
    "collapsed": true
   },
   "source": [
    "### Humpty Dumpty\n",
    "The code below splits a string into a list of words. How can you put Humpty Dumpty together again? Hints are contained in the code below."
   ]
  },
  {
   "cell_type": "code",
   "execution_count": 1,
   "metadata": {
    "collapsed": false
   },
   "outputs": [
    {
     "name": "stdout",
     "output_type": "stream",
     "text": [
      "['Humpty', 'Dumpty']\n"
     ]
    }
   ],
   "source": [
    "hd = 'Humpty Dumpty'\n",
    "hd_broken = hd.split()\n",
    "print(hd_broken)"
   ]
  },
  {
   "cell_type": "code",
   "execution_count": 2,
   "metadata": {
    "collapsed": false
   },
   "outputs": [
    {
     "data": {
      "text/plain": [
       "list"
      ]
     },
     "execution_count": 2,
     "metadata": {},
     "output_type": "execute_result"
    }
   ],
   "source": [
    "type(hd_broken)"
   ]
  },
  {
   "cell_type": "code",
   "execution_count": 3,
   "metadata": {
    "collapsed": false
   },
   "outputs": [
    {
     "name": "stdout",
     "output_type": "stream",
     "text": [
      "Humpty\n"
     ]
    }
   ],
   "source": [
    "print(hd_broken[0])"
   ]
  },
  {
   "cell_type": "code",
   "execution_count": null,
   "metadata": {
    "collapsed": true
   },
   "outputs": [],
   "source": []
  }
 ],
 "metadata": {
  "anaconda-cloud": {},
  "kernelspec": {
   "display_name": "Python 3",
   "language": "python",
   "name": "python3"
  },
  "language_info": {
   "codemirror_mode": {
    "name": "ipython",
    "version": 3
   },
   "file_extension": ".py",
   "mimetype": "text/x-python",
   "name": "python",
   "nbconvert_exporter": "python",
   "pygments_lexer": "ipython3",
   "version": "3.6.0"
  }
 },
 "nbformat": 4,
 "nbformat_minor": 0
}
